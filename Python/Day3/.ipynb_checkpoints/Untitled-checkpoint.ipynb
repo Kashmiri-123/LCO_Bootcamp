{
 "cells": [
  {
   "cell_type": "code",
   "execution_count": null,
   "metadata": {},
   "outputs": [],
   "source": [
    "Function In Python:A py-object"
   ]
  },
  {
   "cell_type": "code",
   "execution_count": 7,
   "metadata": {},
   "outputs": [
    {
     "name": "stdout",
     "output_type": "stream",
     "text": [
      "Hello\n"
     ]
    }
   ],
   "source": [
    "def main():\n",
    "    print(\"Hello\")\n",
    "\n",
    "if __name__==\"__main__\":main()"
   ]
  },
  {
   "cell_type": "code",
   "execution_count": 12,
   "metadata": {},
   "outputs": [
    {
     "name": "stdout",
     "output_type": "stream",
     "text": [
      "My name is Kashmiri I live in Assam\n"
     ]
    }
   ],
   "source": [
    "def method(name,place=\"Assam\"):#key value pair is always after the normal parameters\n",
    "    print(\"My name is \"+name+\" I live in \"+place)\n",
    "method(\"Kashmiri\")\n",
    "    "
   ]
  },
  {
   "cell_type": "code",
   "execution_count": 4,
   "metadata": {},
   "outputs": [
    {
     "name": "stdout",
     "output_type": "stream",
     "text": [
      "(1, 2, 3, 5, 6, 7, '8')\n"
     ]
    }
   ],
   "source": [
    "def method1(*args):\n",
    "# *args in function definitions in python is used to pass a variable number of arguments to a function.\n",
    "    print(args)\n",
    "method1(1,2,3,5,6,7,\"8\")"
   ]
  },
  {
   "cell_type": "code",
   "execution_count": 14,
   "metadata": {},
   "outputs": [
    {
     "name": "stdout",
     "output_type": "stream",
     "text": [
      "30\n"
     ]
    }
   ],
   "source": [
    "def method1(*param,op):\n",
    "    sum=0\n",
    "    mul=1\n",
    "    for i in param:\n",
    "        if op==\"+\":\n",
    "            sum=sum+i\n",
    "        elif op==\"*\":\n",
    "            mul=mul*i\n",
    "    if op==\"+\":\n",
    "        print(sum)\n",
    "    else:\n",
    "        print(mul)\n",
    "method1(1,2,3,5,op=\"*\")"
   ]
  },
  {
   "cell_type": "code",
   "execution_count": 19,
   "metadata": {},
   "outputs": [
    {
     "name": "stdout",
     "output_type": "stream",
     "text": [
      "{'k': 1, 'l': 'Hello'}\n"
     ]
    }
   ],
   "source": [
    "#for multiple key value pairS as parameter->results in a dictionary\n",
    "def method3(**kwargs):\n",
    "    print(kwargs)\n",
    "method3(k=1,l=\"Hello\")"
   ]
  },
  {
   "cell_type": "code",
   "execution_count": 3,
   "metadata": {},
   "outputs": [
    {
     "name": "stdout",
     "output_type": "stream",
     "text": [
      "Enter the first number : 2\n",
      "Enter the second number : 9\n",
      "2\n",
      "3\n",
      "5\n",
      "7\n"
     ]
    }
   ],
   "source": [
    "def isPrime(*args):\n",
    "    count=0\n",
    "#     num=int(input(\"Enter your choice \"))\n",
    "    if len(args)==1:\n",
    "        x=int(input(\"Enter the number : \"))\n",
    "        for i in range(1,x+1):\n",
    "            if x%i==0:\n",
    "                count+=1\n",
    "        if count==2:\n",
    "            print(str(x)+\" is a prime number.\")\n",
    "        elif x==1:\n",
    "            print(str(x)+\" is a prime number.\")\n",
    "        else:\n",
    "            print(str(x)+\" is not a prime number\")\n",
    "    elif len(args)==2:\n",
    "        y=int(input(\"Enter the first number : \"))\n",
    "        z=int(input(\"Enter the second number : \"))\n",
    "        i=1\n",
    "        count=0\n",
    "        while y<z:\n",
    "            for i in range(1,y+1):\n",
    "                if y%i==0:\n",
    "                    count+=1\n",
    "            if count==2:\n",
    "                print(y)\n",
    "            count=0\n",
    "            y+=1\n",
    "isPrime(2,10)"
   ]
  },
  {
   "cell_type": "code",
   "execution_count": 5,
   "metadata": {},
   "outputs": [
    {
     "name": "stdout",
     "output_type": "stream",
     "text": [
      "Enter : 4\n",
      "2.0\n"
     ]
    }
   ],
   "source": [
    "import math\n",
    "num=int(input(\"Enter : \"))\n",
    "num=math.sqrt(num)\n",
    "print(num)"
   ]
  },
  {
   "cell_type": "code",
   "execution_count": null,
   "metadata": {},
   "outputs": [],
   "source": [
    "Function as an object and then decorator\n",
    "ReGex"
   ]
  }
 ],
 "metadata": {
  "kernelspec": {
   "display_name": "Python 3",
   "language": "python",
   "name": "python3"
  },
  "language_info": {
   "codemirror_mode": {
    "name": "ipython",
    "version": 3
   },
   "file_extension": ".py",
   "mimetype": "text/x-python",
   "name": "python",
   "nbconvert_exporter": "python",
   "pygments_lexer": "ipython3",
   "version": "3.7.4"
  }
 },
 "nbformat": 4,
 "nbformat_minor": 2
}
