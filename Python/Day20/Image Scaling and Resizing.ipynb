{
 "cells": [
  {
   "cell_type": "markdown",
   "metadata": {},
   "source": [
    "# Image scaling and resizing"
   ]
  },
  {
   "cell_type": "code",
   "execution_count": 8,
   "metadata": {},
   "outputs": [
    {
     "name": "stdout",
     "output_type": "stream",
     "text": [
      "(417, 626, 3)\n",
      "(208, 313, 3)\n",
      "(208, 313, 3)\n",
      "(2085, 3130, 3)\n"
     ]
    }
   ],
   "source": [
    "import cv2\n",
    "import matplotlib.pyplot as plt\n",
    "\n",
    "img = cv2.imread(\"pic.jpg\")\n",
    "\n",
    "img_scaled = cv2.resize(img, None, fx=0.5, fy=0.5, interpolation= cv2.INTER_LINEAR)\n",
    "\n",
    "img_scaledd = cv2.resize(img, None, fx=0.5, fy=0.5, interpolation= cv2.INTER_AREA)\n",
    "\n",
    "img_scale = cv2.resize(img, None, fx=5.0, fy=5.0, interpolation= cv2.INTER_AREA)\n",
    "cv2.imwrite(\"p.jpg\", img_scale)\n",
    "\n",
    "\n",
    "print(img.shape)\n",
    "print(img_scaled.shape)\n",
    "print(img_scaledd.shape)\n",
    "print(img_scale.shape)##high resolution"
   ]
  },
  {
   "cell_type": "markdown",
   "metadata": {},
   "source": [
    "# Affine Transformation"
   ]
  },
  {
   "cell_type": "code",
   "execution_count": null,
   "metadata": {},
   "outputs": [],
   "source": [
    "->positional transformation of image"
   ]
  },
  {
   "cell_type": "code",
   "execution_count": 10,
   "metadata": {},
   "outputs": [
    {
     "data": {
      "text/plain": [
       "array([[0., 0., 0.],\n",
       "       [0., 0., 0.],\n",
       "       [0., 0., 1.]])"
      ]
     },
     "execution_count": 10,
     "metadata": {},
     "output_type": "execute_result"
    }
   ],
   "source": [
    "import cv2\n",
    "import matplotlib.pyplot as plt\n",
    "import numpy as np\n",
    "\n",
    "img = cv2.imread(\"pic.jpg\")\n",
    "num_rows, num_cols = img.shape[:2]\n",
    "\n",
    "src_pt=np.float32([[0,0], [num_cols-1,0], [num_cols, num_rows-1], [num_cols, num_rows-1]])\n",
    "des_pt =np.float32([[0,0], [num_cols-1,0], [int(0.3*num_cols), num_rows-1], [int(0.6*num_cols), num_rows-1]])\n",
    "\n",
    "project_matrix = cv2.getPerspectiveTransform(src_pt,des_pt)\n",
    "\n",
    "project_matrix\n"
   ]
  },
  {
   "cell_type": "code",
   "execution_count": 20,
   "metadata": {},
   "outputs": [
    {
     "name": "stdout",
     "output_type": "stream",
     "text": [
      "[[ 3.00800000e-01 -4.49519231e-01  1.87000000e+02]\n",
      " [ 9.08041835e-17  3.00800000e-01  0.00000000e+00]\n",
      " [ 2.18628534e-19 -1.68076923e-03  1.00000000e+00]]\n"
     ]
    },
    {
     "data": {
      "text/plain": [
       "True"
      ]
     },
     "execution_count": 20,
     "metadata": {},
     "output_type": "execute_result"
    }
   ],
   "source": [
    "import cv2\n",
    "import matplotlib.pyplot as plt\n",
    "import numpy as np\n",
    "\n",
    "img = cv2.imread(\"pic.jpg\")\n",
    "num_rows, num_cols = img.shape[:2]\n",
    "\n",
    "src_pt=np.float32([[0,0], [num_cols-1,0], [0, num_rows-1], [num_cols, num_rows-1]])\n",
    "des_pt =np.float32([[int(0.3*num_cols),0], [int(0.6*(num_cols-1)),0], [0, num_rows-1], [num_cols, num_rows-1]])\n",
    "\n",
    "project_matrix = cv2.getPerspectiveTransform(src_pt,des_pt)\n",
    "\n",
    "print(project_matrix)\n",
    "\n",
    "img_out =cv2.warpPerspective(img, project_matrix, (num_cols,num_rows))\n",
    "cv2.imwrite(\"res.jpg\",img_out)\n"
   ]
  },
  {
   "cell_type": "code",
   "execution_count": 42,
   "metadata": {},
   "outputs": [
    {
     "name": "stdout",
     "output_type": "stream",
     "text": [
      "[[  0.   0.]\n",
      " [625.   0.]\n",
      " [  0. 416.]\n",
      " [626. 416.]]\n",
      "\n",
      "\n",
      "[[  0.   0.]\n",
      " [625. 104.]\n",
      " [  0. 416.]\n",
      " [626. 320.]]\n",
      "\n",
      "\n",
      "[[ 1.92455954e+00  2.66880535e-19 -1.11022302e-16]\n",
      " [ 3.20246707e-01  9.98520705e-01 -8.07687250e-15]\n",
      " [ 1.47929526e-03 -3.55599822e-06  1.00000000e+00]]\n"
     ]
    },
    {
     "data": {
      "text/plain": [
       "True"
      ]
     },
     "execution_count": 42,
     "metadata": {},
     "output_type": "execute_result"
    }
   ],
   "source": [
    "import cv2\n",
    "import matplotlib.pyplot as plt\n",
    "import numpy as np\n",
    "\n",
    "img = cv2.imread(\"pic.jpg\")\n",
    "num_rows, num_cols = img.shape[:2]\n",
    "\n",
    "src_pt=np.float32([[0,0], [num_cols-1,0], [0, num_rows-1], [num_cols, num_rows-1]])\n",
    "des_pt =np.float32([[0,0], [num_cols-1,int(0.25*num_rows)], [0, num_rows-1], [num_cols, int(0.77*(num_rows-1))]])\n",
    "\n",
    "project_matrix = cv2.getPerspectiveTransform(src_pt,des_pt)\n",
    "print(src_pt)\n",
    "print(\"\\n\")\n",
    "print(des_pt)\n",
    "print(\"\\n\")\n",
    "print(project_matrix)\n",
    "\n",
    "img_out =cv2.warpPerspective(img, project_matrix, (num_cols,num_rows))\n",
    "cv2.imwrite(\"new.jpg\",img_out)\n"
   ]
  },
  {
   "cell_type": "code",
   "execution_count": null,
   "metadata": {},
   "outputs": [],
   "source": [
    "##Image concept?"
   ]
  },
  {
   "cell_type": "markdown",
   "metadata": {},
   "source": [
    "# Image Wraping"
   ]
  },
  {
   "cell_type": "code",
   "execution_count": 48,
   "metadata": {},
   "outputs": [
    {
     "data": {
      "text/plain": [
       "True"
      ]
     },
     "execution_count": 48,
     "metadata": {},
     "output_type": "execute_result"
    }
   ],
   "source": [
    "import math\n",
    "import matplotlib.pyplot as plt\n",
    "import numpy as np\n",
    "\n",
    "img = cv2.imread(\"pic.jpg\", cv2.IMREAD_GRAYSCALE)\n",
    "\n",
    "rows, cols = img.shape\n",
    "\n",
    "img_output = np.zeros(img.shape)\n",
    "\n",
    "for i in range(rows):\n",
    "    for j in range(cols):\n",
    "        \n",
    "        offset_x = int(80.0*math.sin(2*3.14*i/180))\n",
    "        offset_y = 0\n",
    "        \n",
    "        if j+offset_x < cols:\n",
    "            img_output[i,j] = img[i,(j+offset_x)]\n",
    "        \n",
    "        else:\n",
    "            img_output[i,j]=0\n",
    "            \n",
    "cv2.imwrite(\"final.jpg\", img_output)\n"
   ]
  },
  {
   "cell_type": "code",
   "execution_count": 49,
   "metadata": {},
   "outputs": [
    {
     "data": {
      "text/plain": [
       "True"
      ]
     },
     "execution_count": 49,
     "metadata": {},
     "output_type": "execute_result"
    }
   ],
   "source": [
    "import math\n",
    "import matplotlib.pyplot as plt\n",
    "import numpy as np\n",
    "\n",
    "img = cv2.imread(\"pic.jpg\", cv2.IMREAD_GRAYSCALE)\n",
    "\n",
    "rows, cols = img.shape\n",
    "\n",
    "img_output = np.zeros(img.shape)\n",
    "\n",
    "for i in range(rows):\n",
    "    for j in range(cols):\n",
    "        \n",
    "        offset_y = int(80.0*math.sin(2*3.14*j/180))\n",
    "        offset_x = 0\n",
    "        \n",
    "        if i+offset_y < rows:\n",
    "            img_output[i,j] = img[(i+offset_y),j]\n",
    "        \n",
    "        else:\n",
    "            img_output[i,j]=255\n",
    "            \n",
    "cv2.imwrite(\"final1.jpg\", img_output)\n"
   ]
  },
  {
   "cell_type": "code",
   "execution_count": null,
   "metadata": {},
   "outputs": [],
   "source": []
  }
 ],
 "metadata": {
  "kernelspec": {
   "display_name": "Python 3",
   "language": "python",
   "name": "python3"
  },
  "language_info": {
   "codemirror_mode": {
    "name": "ipython",
    "version": 3
   },
   "file_extension": ".py",
   "mimetype": "text/x-python",
   "name": "python",
   "nbconvert_exporter": "python",
   "pygments_lexer": "ipython3",
   "version": "3.7.4"
  }
 },
 "nbformat": 4,
 "nbformat_minor": 2
}
