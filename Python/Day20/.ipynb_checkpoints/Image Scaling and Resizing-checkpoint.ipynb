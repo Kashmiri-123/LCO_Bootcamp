{
 "cells": [
  {
   "cell_type": "markdown",
   "metadata": {},
   "source": [
    "# Image scaling and resizing"
   ]
  },
  {
   "cell_type": "code",
   "execution_count": 8,
   "metadata": {},
   "outputs": [
    {
     "name": "stdout",
     "output_type": "stream",
     "text": [
      "(417, 626, 3)\n",
      "(208, 313, 3)\n",
      "(208, 313, 3)\n",
      "(2085, 3130, 3)\n"
     ]
    }
   ],
   "source": [
    "import cv2\n",
    "import matplotlib.pyplot as plt\n",
    "\n",
    "img = cv2.imread(\"pic.jpg\")\n",
    "\n",
    "img_scaled = cv2.resize(img, None, fx=0.5, fy=0.5, interpolation= cv2.INTER_LINEAR)\n",
    "\n",
    "img_scaledd = cv2.resize(img, None, fx=0.5, fy=0.5, interpolation= cv2.INTER_AREA)\n",
    "\n",
    "img_scale = cv2.resize(img, None, fx=5.0, fy=5.0, interpolation= cv2.INTER_AREA)\n",
    "cv2.imwrite(\"p.jpg\", img_scale)\n",
    "\n",
    "\n",
    "print(img.shape)\n",
    "print(img_scaled.shape)\n",
    "print(img_scaledd.shape)\n",
    "print(img_scale.shape)##high resolution"
   ]
  },
  {
   "cell_type": "markdown",
   "metadata": {},
   "source": [
    "# Affine Transformation"
   ]
  },
  {
   "cell_type": "code",
   "execution_count": null,
   "metadata": {},
   "outputs": [],
   "source": [
    "->positional transformation of image"
   ]
  },
  {
   "cell_type": "code",
   "execution_count": null,
   "metadata": {},
   "outputs": [],
   "source": [
    "import cv2\n",
    "import matplotlib.pyplot as plt\n",
    "\n",
    "img = cv2.imread(\"pic.jpg\")\n",
    "\n",
    "src_pt=np.float32([[0,0], [num_cols-1,0], [num_cols, num_rows-1], [num_cols, num_rows-1]])\n",
    "des_pt =np.float32([[0,0], [num_cols-1,0], [int(0.3*num_cols), num_rows-1], [int(0.6*num_cols), num_rows-1]])\n",
    "\n",
    "project_matrix = cv2.getPerspectiveTransform(src_po)\n"
   ]
  },
  {
   "cell_type": "code",
   "execution_count": null,
   "metadata": {},
   "outputs": [],
   "source": []
  },
  {
   "cell_type": "code",
   "execution_count": null,
   "metadata": {},
   "outputs": [],
   "source": []
  },
  {
   "cell_type": "code",
   "execution_count": null,
   "metadata": {},
   "outputs": [],
   "source": []
  },
  {
   "cell_type": "code",
   "execution_count": null,
   "metadata": {},
   "outputs": [],
   "source": []
  },
  {
   "cell_type": "code",
   "execution_count": null,
   "metadata": {},
   "outputs": [],
   "source": []
  },
  {
   "cell_type": "code",
   "execution_count": null,
   "metadata": {},
   "outputs": [],
   "source": []
  },
  {
   "cell_type": "code",
   "execution_count": null,
   "metadata": {},
   "outputs": [],
   "source": []
  }
 ],
 "metadata": {
  "kernelspec": {
   "display_name": "Python 3",
   "language": "python",
   "name": "python3"
  },
  "language_info": {
   "codemirror_mode": {
    "name": "ipython",
    "version": 3
   },
   "file_extension": ".py",
   "mimetype": "text/x-python",
   "name": "python",
   "nbconvert_exporter": "python",
   "pygments_lexer": "ipython3",
   "version": "3.7.4"
  }
 },
 "nbformat": 4,
 "nbformat_minor": 2
}
