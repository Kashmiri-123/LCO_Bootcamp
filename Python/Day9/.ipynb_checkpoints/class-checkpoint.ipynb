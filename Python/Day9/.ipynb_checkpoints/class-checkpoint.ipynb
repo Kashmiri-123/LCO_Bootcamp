{
 "cells": [
  {
   "cell_type": "code",
   "execution_count": null,
   "metadata": {},
   "outputs": [],
   "source": [
    "File Hanlding->text file handling and binary file handling\n",
    "12 operational modes present"
   ]
  },
  {
   "cell_type": "code",
   "execution_count": 85,
   "metadata": {},
   "outputs": [],
   "source": [
    "f=open(\"my_file.txt\",\"w+\")##f holds instance of the file"
   ]
  },
  {
   "cell_type": "code",
   "execution_count": 86,
   "metadata": {},
   "outputs": [
    {
     "data": {
      "text/plain": [
       "11"
      ]
     },
     "execution_count": 86,
     "metadata": {},
     "output_type": "execute_result"
    }
   ],
   "source": [
    "f.write(\"HelloWorld!\")"
   ]
  },
  {
   "cell_type": "code",
   "execution_count": 87,
   "metadata": {},
   "outputs": [
    {
     "data": {
      "text/plain": [
       "''"
      ]
     },
     "execution_count": 87,
     "metadata": {},
     "output_type": "execute_result"
    }
   ],
   "source": [
    "data=f.read()\n",
    "# f.close()\n",
    "data"
   ]
  },
  {
   "cell_type": "code",
   "execution_count": 88,
   "metadata": {},
   "outputs": [
    {
     "data": {
      "text/plain": [
       "0"
      ]
     },
     "execution_count": 88,
     "metadata": {},
     "output_type": "execute_result"
    }
   ],
   "source": [
    "f.seek(0)"
   ]
  },
  {
   "cell_type": "code",
   "execution_count": 89,
   "metadata": {},
   "outputs": [
    {
     "name": "stdout",
     "output_type": "stream",
     "text": [
      "HelloWorld!\n"
     ]
    }
   ],
   "source": [
    "print(f.read())"
   ]
  },
  {
   "cell_type": "code",
   "execution_count": 90,
   "metadata": {},
   "outputs": [
    {
     "name": "stdout",
     "output_type": "stream",
     "text": [
      "lloWorld!\n"
     ]
    }
   ],
   "source": [
    "f.seek(2)\n",
    "print(f.read())"
   ]
  },
  {
   "cell_type": "code",
   "execution_count": 91,
   "metadata": {},
   "outputs": [],
   "source": [
    "f.close()"
   ]
  },
  {
   "cell_type": "code",
   "execution_count": 99,
   "metadata": {},
   "outputs": [],
   "source": [
    "f=open(\"my_file.txt\",\"w+\")"
   ]
  },
  {
   "cell_type": "code",
   "execution_count": 100,
   "metadata": {},
   "outputs": [
    {
     "data": {
      "text/plain": [
       "2"
      ]
     },
     "execution_count": 100,
     "metadata": {},
     "output_type": "execute_result"
    }
   ],
   "source": [
    "f.writelines(\"Hello\")\n",
    "f.writelines(\"World\\n\")\n",
    "f.write(\"HI\")"
   ]
  },
  {
   "cell_type": "code",
   "execution_count": 101,
   "metadata": {},
   "outputs": [
    {
     "data": {
      "text/plain": [
       "[]"
      ]
     },
     "execution_count": 101,
     "metadata": {},
     "output_type": "execute_result"
    }
   ],
   "source": [
    "f.readlines()"
   ]
  },
  {
   "cell_type": "code",
   "execution_count": 102,
   "metadata": {},
   "outputs": [],
   "source": [
    "f.close()"
   ]
  },
  {
   "cell_type": "code",
   "execution_count": 103,
   "metadata": {},
   "outputs": [
    {
     "name": "stdout",
     "output_type": "stream",
     "text": [
      "HelloWorld\n",
      "HI\n"
     ]
    }
   ],
   "source": [
    "with open(\"my_file.txt\") as f:\n",
    "    print(f.read())"
   ]
  },
  {
   "cell_type": "code",
   "execution_count": 118,
   "metadata": {},
   "outputs": [
    {
     "name": "stdout",
     "output_type": "stream",
     "text": [
      "1.Insert Data \n",
      "2.View Data \n",
      "Enter choice : 2\n",
      "RECORD :\n",
      "Name : Kashmiri Moni Mahanta\n",
      "Email : kmonimahanta@gmail.com\n",
      "Password : 123\n",
      "RECORD :\n",
      "Name : Chandana\n",
      "Email : abc@gmail.com\n",
      "Password : 234\n",
      "\n"
     ]
    }
   ],
   "source": [
    "with open(\"record.txt\",\"a+\") as f:\n",
    "    print(\"1.Insert Data \")\n",
    "    print(\"2.View Data \")\n",
    "    user_input=int(input(\"Enter choice : \"))\n",
    "    if user_input==1:\n",
    "        f.write(\"RECORD :\")\n",
    "        name=input(\"Enter name : \")\n",
    "        email=input(\"Enter email : \")\n",
    "        password=input(\"Enter password :\")\n",
    "        f.write(\"\\n\")\n",
    "        f.write(\"Name : \"+name+\"\\n\")\n",
    "        f.write(\"Email : \"+email+\"\\n\")\n",
    "        f.write(\"Password : \"+password+\"\\n\")\n",
    "        f.write(\"\\n\")\n",
    "    elif user_input==2:\n",
    "        f.seek(0)\n",
    "        print(f.read())\n",
    "    else:\n",
    "        print(\"Wrong input!\")"
   ]
  },
  {
   "cell_type": "code",
   "execution_count": null,
   "metadata": {},
   "outputs": [],
   "source": [
    "file.write(input1 + \"...myownseparator...\" + input2 + \"\\n\") "
   ]
  },
  {
   "cell_type": "code",
   "execution_count": null,
   "metadata": {},
   "outputs": [],
   "source": []
  },
  {
   "cell_type": "code",
   "execution_count": null,
   "metadata": {},
   "outputs": [],
   "source": []
  },
  {
   "cell_type": "code",
   "execution_count": null,
   "metadata": {},
   "outputs": [],
   "source": []
  },
  {
   "cell_type": "code",
   "execution_count": null,
   "metadata": {},
   "outputs": [],
   "source": []
  }
 ],
 "metadata": {
  "kernelspec": {
   "display_name": "Python 3",
   "language": "python",
   "name": "python3"
  },
  "language_info": {
   "codemirror_mode": {
    "name": "ipython",
    "version": 3
   },
   "file_extension": ".py",
   "mimetype": "text/x-python",
   "name": "python",
   "nbconvert_exporter": "python",
   "pygments_lexer": "ipython3",
   "version": "3.7.4"
  }
 },
 "nbformat": 4,
 "nbformat_minor": 2
}
