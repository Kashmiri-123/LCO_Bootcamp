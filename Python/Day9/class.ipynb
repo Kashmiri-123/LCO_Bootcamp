{
 "cells": [
  {
   "cell_type": "code",
   "execution_count": null,
   "metadata": {},
   "outputs": [],
   "source": [
    "File Hanlding->text file handling and binary file handling\n",
    "12 operational modes present"
   ]
  },
  {
   "cell_type": "code",
   "execution_count": 85,
   "metadata": {},
   "outputs": [],
   "source": [
    "f=open(\"my_file.txt\",\"w+\")##f holds instance of the file"
   ]
  },
  {
   "cell_type": "code",
   "execution_count": 86,
   "metadata": {},
   "outputs": [
    {
     "data": {
      "text/plain": [
       "11"
      ]
     },
     "execution_count": 86,
     "metadata": {},
     "output_type": "execute_result"
    }
   ],
   "source": [
    "f.write(\"HelloWorld!\")"
   ]
  },
  {
   "cell_type": "code",
   "execution_count": 87,
   "metadata": {},
   "outputs": [
    {
     "data": {
      "text/plain": [
       "''"
      ]
     },
     "execution_count": 87,
     "metadata": {},
     "output_type": "execute_result"
    }
   ],
   "source": [
    "data=f.read()\n",
    "# f.close()\n",
    "data"
   ]
  },
  {
   "cell_type": "code",
   "execution_count": 88,
   "metadata": {},
   "outputs": [
    {
     "data": {
      "text/plain": [
       "0"
      ]
     },
     "execution_count": 88,
     "metadata": {},
     "output_type": "execute_result"
    }
   ],
   "source": [
    "f.seek(0)"
   ]
  },
  {
   "cell_type": "code",
   "execution_count": 89,
   "metadata": {},
   "outputs": [
    {
     "name": "stdout",
     "output_type": "stream",
     "text": [
      "HelloWorld!\n"
     ]
    }
   ],
   "source": [
    "print(f.read())"
   ]
  },
  {
   "cell_type": "code",
   "execution_count": 90,
   "metadata": {},
   "outputs": [
    {
     "name": "stdout",
     "output_type": "stream",
     "text": [
      "lloWorld!\n"
     ]
    }
   ],
   "source": [
    "f.seek(2)\n",
    "print(f.read())"
   ]
  },
  {
   "cell_type": "code",
   "execution_count": 91,
   "metadata": {},
   "outputs": [],
   "source": [
    "f.close()"
   ]
  },
  {
   "cell_type": "code",
   "execution_count": 99,
   "metadata": {},
   "outputs": [],
   "source": [
    "f=open(\"my_file.txt\",\"w+\")"
   ]
  },
  {
   "cell_type": "code",
   "execution_count": 100,
   "metadata": {},
   "outputs": [
    {
     "data": {
      "text/plain": [
       "2"
      ]
     },
     "execution_count": 100,
     "metadata": {},
     "output_type": "execute_result"
    }
   ],
   "source": [
    "f.writelines(\"Hello\")\n",
    "f.writelines(\"World\\n\")\n",
    "f.write(\"HI\")"
   ]
  },
  {
   "cell_type": "code",
   "execution_count": 101,
   "metadata": {},
   "outputs": [
    {
     "data": {
      "text/plain": [
       "[]"
      ]
     },
     "execution_count": 101,
     "metadata": {},
     "output_type": "execute_result"
    }
   ],
   "source": [
    "f.readlines()"
   ]
  },
  {
   "cell_type": "code",
   "execution_count": 102,
   "metadata": {},
   "outputs": [],
   "source": [
    "f.close()"
   ]
  },
  {
   "cell_type": "code",
   "execution_count": 103,
   "metadata": {},
   "outputs": [
    {
     "name": "stdout",
     "output_type": "stream",
     "text": [
      "HelloWorld\n",
      "HI\n"
     ]
    }
   ],
   "source": [
    "with open(\"my_file.txt\") as f:\n",
    "    print(f.read())"
   ]
  },
  {
   "cell_type": "code",
   "execution_count": 135,
   "metadata": {},
   "outputs": [
    {
     "name": "stdout",
     "output_type": "stream",
     "text": [
      "1.Insert Data \n",
      "2.View Data \n",
      "Enter choice : 2\n",
      "\n",
      "RECORD :0\n",
      "Name : we\n",
      "Email : er\n",
      "Password : rr\n",
      "\n",
      "\n",
      "RECORD :0\n",
      "Name : www\n",
      "Email : ww\n",
      "Password : ww\n",
      "\n",
      "\n",
      "RECORD :0\n",
      "Name : eee\n",
      "Email : e\n",
      "Password : e\n",
      "\n",
      "\n",
      "RECORD :0\n",
      "Name : yyyy\n",
      "Email : yy\n",
      "Password : y\n",
      "\n",
      "\n",
      "RECORD :\n",
      "Name : rrr\n",
      "Email : r\n",
      "Password : r\n",
      "\n",
      "\n"
     ]
    }
   ],
   "source": [
    "with open(\"record.txt\",\"a+\") as f:\n",
    "    print(\"1.Insert Data \")\n",
    "    print(\"2.View Data \")\n",
    "    count=0\n",
    "    user_input=int(input(\"Enter choice : \"))\n",
    "    if user_input==1:\n",
    "        name=input(\"Enter name : \")\n",
    "        email=input(\"Enter email : \")\n",
    "        password=input(\"Enter password :\")\n",
    "        f.write(\"\\n\")\n",
    "#         for line in f:\n",
    "#             if line==\"\":\n",
    "#                 count+=1\n",
    "#                 print(count)\n",
    "#             else:\n",
    "#                 pass\n",
    "        f.write(\"RECORD :\"+\"\\n\")\n",
    "        f.write(\"Name : \"+name+\"\\n\")\n",
    "        f.write(\"Email : \"+email+\"\\n\")\n",
    "        f.write(\"Password : \"+password+\"\\n\")\n",
    "        f.write(\"\\n\")\n",
    "    elif user_input==2:\n",
    "        f.seek(0)\n",
    "        print(f.read())\n",
    "    else:\n",
    "        print(\"Wrong input!\")"
   ]
  },
  {
   "cell_type": "code",
   "execution_count": 4,
   "metadata": {},
   "outputs": [
    {
     "name": "stdout",
     "output_type": "stream",
     "text": [
      "Enter name : kkk\n",
      "Enter email : ttt\n",
      "Enter password :566\n",
      "\n",
      "RECORD :\n",
      "Name : Kashmiri\n",
      "Email : kmon\n",
      "Password : 123\n",
      "\n",
      "\n",
      "RECORD :\n",
      "Name : Mainu\n",
      "Email : koi\n",
      "Password : hhh\n",
      "\n",
      "\n",
      "RECORD :\n",
      "Name : Mena\n",
      "Email : mm\n",
      "Password : 123\n",
      "\n",
      "\n",
      "RECORD :\n",
      "Name : kkk\n",
      "Email : ttt\n",
      "Password : 566\n",
      "\n",
      "\n"
     ]
    }
   ],
   "source": [
    "class Data_store():\n",
    "    def __init__(self):\n",
    "        self.f=open(\"record1.txt\",\"a+\")\n",
    "        self.name=\"\"\n",
    "        self.email=\"\"\n",
    "        self.password=\"\"\n",
    "    def data_insert(self):\n",
    "        self.name=input(\"Enter name : \")\n",
    "        self.email=input(\"Enter email : \")\n",
    "        self.password=input(\"Enter password :\")\n",
    "        self.f.write(\"\\n\")\n",
    "        self.f.write(\"RECORD :\"+\"\\n\")\n",
    "        self.f.write(\"Name : \"+self.name+\"\\n\")\n",
    "        self.f.write(\"Email : \"+self.email+\"\\n\")\n",
    "        self.f.write(\"Password : \"+self.password+\"\\n\")\n",
    "        self.f.write(\"\\n\")\n",
    "    def data_display(self):\n",
    "        self.f.seek(0)\n",
    "        print(self.f.read())\n",
    "        self.f.close()\n",
    "object=Data_store()\n",
    "object.data_insert()\n",
    "object.data_display()"
   ]
  },
  {
   "cell_type": "code",
   "execution_count": 12,
   "metadata": {},
   "outputs": [
    {
     "name": "stdout",
     "output_type": "stream",
     "text": [
      "\n",
      "1.Insert Data \n",
      "2.View Data \n",
      "\n",
      "\n",
      "Enter choice : 1\n",
      "Enter name : KAshmiri\n",
      "Enter email : moni\n",
      "Enter password :123\n"
     ]
    },
    {
     "ename": "ValueError",
     "evalue": "I/O operation on closed file.",
     "output_type": "error",
     "traceback": [
      "\u001b[1;31m---------------------------------------------------------------------------\u001b[0m",
      "\u001b[1;31mValueError\u001b[0m                                Traceback (most recent call last)",
      "\u001b[1;32m<ipython-input-12-de34fb5cb19f>\u001b[0m in \u001b[0;36m<module>\u001b[1;34m\u001b[0m\n\u001b[0;32m     32\u001b[0m         \u001b[1;32melse\u001b[0m\u001b[1;33m:\u001b[0m\u001b[1;33m\u001b[0m\u001b[1;33m\u001b[0m\u001b[0m\n\u001b[0;32m     33\u001b[0m             \u001b[0mprint\u001b[0m\u001b[1;33m(\u001b[0m\u001b[1;34m\"Error inserting data!\"\u001b[0m\u001b[1;33m)\u001b[0m\u001b[1;33m\u001b[0m\u001b[1;33m\u001b[0m\u001b[0m\n\u001b[1;32m---> 34\u001b[1;33m \u001b[0mmain\u001b[0m\u001b[1;33m(\u001b[0m\u001b[1;33m)\u001b[0m\u001b[1;33m\u001b[0m\u001b[1;33m\u001b[0m\u001b[0m\n\u001b[0m",
      "\u001b[1;32m<ipython-input-12-de34fb5cb19f>\u001b[0m in \u001b[0;36mmain\u001b[1;34m()\u001b[0m\n\u001b[0;32m     28\u001b[0m         \u001b[0mpassword\u001b[0m\u001b[1;33m=\u001b[0m\u001b[0minput\u001b[0m\u001b[1;33m(\u001b[0m\u001b[1;34m\"Enter password :\"\u001b[0m\u001b[1;33m)\u001b[0m\u001b[1;33m\u001b[0m\u001b[1;33m\u001b[0m\u001b[0m\n\u001b[0;32m     29\u001b[0m \u001b[1;33m\u001b[0m\u001b[0m\n\u001b[1;32m---> 30\u001b[1;33m         \u001b[1;32mif\u001b[0m \u001b[0mobject\u001b[0m\u001b[1;33m.\u001b[0m\u001b[0mdata_insert\u001b[0m\u001b[1;33m(\u001b[0m\u001b[1;33m[\u001b[0m\u001b[0mname\u001b[0m\u001b[1;33m,\u001b[0m\u001b[0memail\u001b[0m\u001b[1;33m,\u001b[0m\u001b[0mpassword\u001b[0m\u001b[1;33m]\u001b[0m\u001b[1;33m)\u001b[0m\u001b[1;33m:\u001b[0m\u001b[1;33m\u001b[0m\u001b[1;33m\u001b[0m\u001b[0m\n\u001b[0m\u001b[0;32m     31\u001b[0m             \u001b[0mprint\u001b[0m\u001b[1;33m(\u001b[0m\u001b[1;34m\"Data inserted!\"\u001b[0m\u001b[1;33m)\u001b[0m\u001b[1;33m\u001b[0m\u001b[1;33m\u001b[0m\u001b[0m\n\u001b[0;32m     32\u001b[0m         \u001b[1;32melse\u001b[0m\u001b[1;33m:\u001b[0m\u001b[1;33m\u001b[0m\u001b[1;33m\u001b[0m\u001b[0m\n",
      "\u001b[1;32m<ipython-input-12-de34fb5cb19f>\u001b[0m in \u001b[0;36mdata_insert\u001b[1;34m(self, data)\u001b[0m\n\u001b[0;32m      6\u001b[0m             \u001b[0mprint\u001b[0m\u001b[1;33m(\u001b[0m\u001b[1;34m\"Error creatinf file.\"\u001b[0m\u001b[1;33m)\u001b[0m\u001b[1;33m\u001b[0m\u001b[1;33m\u001b[0m\u001b[0m\n\u001b[0;32m      7\u001b[0m     \u001b[1;32mdef\u001b[0m \u001b[0mdata_insert\u001b[0m\u001b[1;33m(\u001b[0m\u001b[0mself\u001b[0m\u001b[1;33m,\u001b[0m\u001b[0mdata\u001b[0m\u001b[1;33m)\u001b[0m\u001b[1;33m:\u001b[0m\u001b[1;33m\u001b[0m\u001b[1;33m\u001b[0m\u001b[0m\n\u001b[1;32m----> 8\u001b[1;33m         \u001b[0mself\u001b[0m\u001b[1;33m.\u001b[0m\u001b[0mf\u001b[0m\u001b[1;33m.\u001b[0m\u001b[0mwrite\u001b[0m\u001b[1;33m(\u001b[0m\u001b[1;34m\"\\n\"\u001b[0m\u001b[1;33m)\u001b[0m\u001b[1;33m\u001b[0m\u001b[1;33m\u001b[0m\u001b[0m\n\u001b[0m\u001b[0;32m      9\u001b[0m         \u001b[0mself\u001b[0m\u001b[1;33m.\u001b[0m\u001b[0mf\u001b[0m\u001b[1;33m.\u001b[0m\u001b[0mwrite\u001b[0m\u001b[1;33m(\u001b[0m\u001b[1;34m\"RECORD :\"\u001b[0m\u001b[1;33m+\u001b[0m\u001b[1;34m\"\\n\"\u001b[0m\u001b[1;33m)\u001b[0m\u001b[1;33m\u001b[0m\u001b[1;33m\u001b[0m\u001b[0m\n\u001b[0;32m     10\u001b[0m         \u001b[0mself\u001b[0m\u001b[1;33m.\u001b[0m\u001b[0mf\u001b[0m\u001b[1;33m.\u001b[0m\u001b[0mwrite\u001b[0m\u001b[1;33m(\u001b[0m\u001b[0mdata\u001b[0m\u001b[1;33m[\u001b[0m\u001b[1;36m0\u001b[0m\u001b[1;33m]\u001b[0m\u001b[1;33m+\u001b[0m\u001b[1;34m\"\\n\"\u001b[0m\u001b[1;33m)\u001b[0m\u001b[1;33m\u001b[0m\u001b[1;33m\u001b[0m\u001b[0m\n",
      "\u001b[1;31mValueError\u001b[0m: I/O operation on closed file."
     ]
    }
   ],
   "source": [
    "class Data_store():\n",
    "    def __init__(self):\n",
    "        try:\n",
    "            self.f=open(\"record2.txt\",\"a+\")\n",
    "        except:\n",
    "            print(\"Error creatinf file.\")\n",
    "    def data_insert(self,data):\n",
    "        self.f.write(\"\\n\")\n",
    "        self.f.write(\"RECORD :\"+\"\\n\")\n",
    "        self.f.write(data[0]+\"\\n\")\n",
    "        self.f.write(data[1]+\"\\n\")\n",
    "        self.f.write(data[2]+\"\\n\")\n",
    "        self.f.write(\"\\n\")\n",
    "    def data_display(self):\n",
    "        self.f.seek(0)\n",
    "        print(self.f.read())\n",
    "        self.f.close()\n",
    "\n",
    "def main():\n",
    "    object=Data_store()\n",
    "    object.data_display()\n",
    "    print(\"1.Insert Data \")\n",
    "    print(\"2.View Data \")\n",
    "    user_input=int(input(\"\\n\\nEnter choice : \"))\n",
    "    if user_input==1:\n",
    "        name=input(\"Enter name : \")\n",
    "        email=input(\"Enter email : \")\n",
    "        password=input(\"Enter password :\")\n",
    "        \n",
    "        if object.data_insert([name,email,password]):\n",
    "            print(\"Data inserted!\")\n",
    "        else:\n",
    "            print(\"Error inserting data!\")\n",
    "main()"
   ]
  },
  {
   "cell_type": "code",
   "execution_count": null,
   "metadata": {},
   "outputs": [],
   "source": [
    "edit,delete,search,single data can be viewed"
   ]
  },
  {
   "cell_type": "code",
   "execution_count": null,
   "metadata": {},
   "outputs": [],
   "source": []
  },
  {
   "cell_type": "code",
   "execution_count": null,
   "metadata": {},
   "outputs": [],
   "source": []
  }
 ],
 "metadata": {
  "kernelspec": {
   "display_name": "Python 3",
   "language": "python",
   "name": "python3"
  },
  "language_info": {
   "codemirror_mode": {
    "name": "ipython",
    "version": 3
   },
   "file_extension": ".py",
   "mimetype": "text/x-python",
   "name": "python",
   "nbconvert_exporter": "python",
   "pygments_lexer": "ipython3",
   "version": "3.7.4"
  }
 },
 "nbformat": 4,
 "nbformat_minor": 2
}
