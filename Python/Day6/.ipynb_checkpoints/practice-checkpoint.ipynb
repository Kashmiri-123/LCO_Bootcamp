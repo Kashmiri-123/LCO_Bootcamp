{
 "cells": [
  {
   "cell_type": "code",
   "execution_count": 5,
   "metadata": {},
   "outputs": [
    {
     "name": "stdout",
     "output_type": "stream",
     "text": [
      "4\n"
     ]
    }
   ],
   "source": [
    "answer=lambda n :n*2\n",
    "print(answer(2))"
   ]
  },
  {
   "cell_type": "code",
   "execution_count": 11,
   "metadata": {},
   "outputs": [
    {
     "name": "stdout",
     "output_type": "stream",
     "text": [
      "Enter : Kashmiri\n",
      "[('K', 1), ('a', 1), ('s', 1), ('h', 1), ('m', 1), ('i', 2), ('r', 1)]\n"
     ]
    }
   ],
   "source": [
    "input_string=input(\"Enter : \")\n",
    "filtered_string=\"\".join([ch for ch in input_string if ch.isalnum()])\n",
    "holder={}\n",
    "for s in filtered_string:\n",
    "    if s in holder.keys():\n",
    "        holder[s]=holder[s]+1\n",
    "    else :\n",
    "        holder[s]=1\n",
    "print([(x,holder[x]) for x in holder.keys()])"
   ]
  },
  {
   "cell_type": "code",
   "execution_count": 22,
   "metadata": {},
   "outputs": [
    {
     "name": "stdout",
     "output_type": "stream",
     "text": [
      "First num : 2\n",
      "Second num : 3\n",
      "The answer is 5\n",
      "1st number : 6\n",
      "2nd number : 2\n",
      "The substraction is 4\n"
     ]
    }
   ],
   "source": [
    "class Adder():\n",
    "    def __init__(self):\n",
    "        self.x=0\n",
    "        self.y=0\n",
    "    def add(self):\n",
    "        self.x=int(input(\"First num : \"))\n",
    "        self.y=int(input(\"Second num : \"))\n",
    "        answer=0\n",
    "        answer=self.x+self.y\n",
    "        print(\"The answer is \"+ str(answer))\n",
    "class Subtractor():\n",
    "    def __init__(self):\n",
    "        self.a=0\n",
    "        self.b=0\n",
    "    def add(self):\n",
    "        self.a=int(input(\"1st number : \"))\n",
    "        self.b=int(input(\"2nd number : \"))\n",
    "        ans=0\n",
    "        ans=self.a-self.b\n",
    "        print(\"The substraction is \"+ str(ans))\n",
    "f=Adder()\n",
    "s=Subtractor()\n",
    "for i in (f,s):\n",
    "    i.add()"
   ]
  },
  {
   "cell_type": "code",
   "execution_count": 24,
   "metadata": {},
   "outputs": [
    {
     "name": "stdout",
     "output_type": "stream",
     "text": [
      "Mike Olsen\n"
     ]
    }
   ],
   "source": [
    "class Person:\n",
    "  def __init__(self, fname, lname):\n",
    "    self.firstname = fname\n",
    "    self.lastname = lname\n",
    "\n",
    "  def printname(self):\n",
    "    print(self.firstname, self.lastname)\n",
    "\n",
    "class Student(Person):\n",
    "  def __init__(self, fname, lname):\n",
    "    Person.__init__(self, fname, lname)\n",
    "\n",
    "x = Person(\"Mike\", \"Olsen\")\n",
    "x.printname()\n"
   ]
  },
  {
   "cell_type": "code",
   "execution_count": 31,
   "metadata": {},
   "outputs": [
    {
     "name": "stdout",
     "output_type": "stream",
     "text": [
      "Name is KashMahanta\n"
     ]
    }
   ],
   "source": [
    "class Parent_class():\n",
    "    def __init__(self,first,second):\n",
    "        self.first=first\n",
    "        self.second=second\n",
    "    def printer(self):\n",
    "        print(\"Name is \"+ self.first+ self.second)\n",
    "\n",
    "class Child_class(Parent_class):\n",
    "    def __init__(self,first,second):\n",
    "        Parent_class.__init__(self,first,second)\n",
    "object=Child_class(\"Kash\",\"Mahanta\")\n",
    "object.printer()\n",
    "        \n",
    "        "
   ]
  },
  {
   "cell_type": "code",
   "execution_count": 47,
   "metadata": {},
   "outputs": [
    {
     "name": "stdout",
     "output_type": "stream",
     "text": [
      "iaminevitable\n"
     ]
    }
   ],
   "source": [
    "def case_converter(input_string,input_index):\n",
    "    for index,value in enumerate(input_string):\n",
    "        if input_index==index:\n",
    "            new_value=value\n",
    "    for v in input_string:\n",
    "        if v==new_value.lower() or v==new_value.upper():\n",
    "            input_string=input_string.replace(v,new_value)\n",
    "    print(input_string)\n",
    "case_converter(\"IamInevitable\",7)"
   ]
  },
  {
   "cell_type": "code",
   "execution_count": null,
   "metadata": {},
   "outputs": [],
   "source": [
    "12345\n",
    "1,3\n",
    "1,5\n",
    "3,5"
   ]
  },
  {
   "cell_type": "code",
   "execution_count": 95,
   "metadata": {},
   "outputs": [
    {
     "name": "stdout",
     "output_type": "stream",
     "text": [
      "Enter your sequence : 1 2 3 4 5\n",
      "['1', '2', '3', '4', '5']\n",
      "(1,3) (1,5) (3,5) "
     ]
    }
   ],
   "source": [
    "def odd_checker():\n",
    "    input_sequence=input(\"Enter your sequence : \")\n",
    "    new_string=input_sequence.split()\n",
    "    print(new_string)\n",
    "    for index,value in enumerate(new_string):\n",
    "        for index2,value2 in enumerate(new_string[index+1:]):\n",
    "            if not (int(value) * int(value2)) % 2 == 0:\n",
    "                print(\"({v1},{v2})\".format(v1=value,v2=value2),end = \" \")\n",
    "odd_checker()"
   ]
  },
  {
   "cell_type": "code",
   "execution_count": null,
   "metadata": {},
   "outputs": [],
   "source": [
    "def duplicate_counter(str):\n",
    "    filtered_str=\"\".join([ch for ch in str if ch.isalnum()])\n",
    "    lookup={}\n",
    "    for c in filtered_str:\n",
    "        if c in lookup.keys():\n",
    "            lookup[c]=lookup[c]+1\n",
    "        else:\n",
    "            lookup[c]=1\n",
    "    return [(x,lookup[x]) for x in lookup.keys()]##<-- comprehension method\n",
    "duplicate_counter(\"abc23$%\")"
   ]
  },
  {
   "cell_type": "code",
   "execution_count": 7,
   "metadata": {},
   "outputs": [
    {
     "data": {
      "text/plain": [
       "[('a', 1), ('b', 1), ('c', 1), ('2', 1), ('3', 1)]"
      ]
     },
     "execution_count": 7,
     "metadata": {},
     "output_type": "execute_result"
    }
   ],
   "source": [
    "def duplicate_counter(str):\n",
    "    filtered_str=\"\".join([ch for ch in str if ch.isalnum()])\n",
    "    lookup={}\n",
    "    for c in filtered_str:\n",
    "        if c in lookup.keys():\n",
    "            lookup[c]=lookup[c]+1\n",
    "        else:\n",
    "            lookup[c]=1\n",
    "    return [(x,lookup[x]) for x in lookup.keys()]##<-- comprehension method\n",
    "duplicate_counter(\"abc23$%\")"
   ]
  },
  {
   "cell_type": "code",
   "execution_count": 2,
   "metadata": {},
   "outputs": [
    {
     "ename": "NameError",
     "evalue": "name 'permutations' is not defined",
     "output_type": "error",
     "traceback": [
      "\u001b[1;31m---------------------------------------------------------------------------\u001b[0m",
      "\u001b[1;31mNameError\u001b[0m                                 Traceback (most recent call last)",
      "\u001b[1;32m<ipython-input-2-c2921d2ad33e>\u001b[0m in \u001b[0;36m<module>\u001b[1;34m\u001b[0m\n\u001b[1;32m----> 1\u001b[1;33m \u001b[0mpermutations\u001b[0m\u001b[1;33m(\u001b[0m\u001b[1;34m\"ABC\"\u001b[0m\u001b[1;33m)\u001b[0m\u001b[1;33m\u001b[0m\u001b[1;33m\u001b[0m\u001b[0m\n\u001b[0m",
      "\u001b[1;31mNameError\u001b[0m: name 'permutations' is not defined"
     ]
    }
   ],
   "source": [
    "permutations(\"ABC\")"
   ]
  },
  {
   "cell_type": "code",
   "execution_count": 4,
   "metadata": {},
   "outputs": [
    {
     "ename": "NameError",
     "evalue": "name 'permutations' is not defined",
     "output_type": "error",
     "traceback": [
      "\u001b[1;31m---------------------------------------------------------------------------\u001b[0m",
      "\u001b[1;31mNameError\u001b[0m                                 Traceback (most recent call last)",
      "\u001b[1;32m<ipython-input-4-8f16576e3264>\u001b[0m in \u001b[0;36m<module>\u001b[1;34m\u001b[0m\n\u001b[1;32m----> 1\u001b[1;33m \u001b[0mperm\u001b[0m \u001b[1;33m=\u001b[0m \u001b[0mpermutations\u001b[0m\u001b[1;33m(\u001b[0m\u001b[1;33m[\u001b[0m\u001b[1;36m1\u001b[0m\u001b[1;33m,\u001b[0m \u001b[1;36m2\u001b[0m\u001b[1;33m,\u001b[0m \u001b[1;36m3\u001b[0m\u001b[1;33m]\u001b[0m\u001b[1;33m)\u001b[0m\u001b[1;33m\u001b[0m\u001b[1;33m\u001b[0m\u001b[0m\n\u001b[0m\u001b[0;32m      2\u001b[0m \u001b[1;33m\u001b[0m\u001b[0m\n\u001b[0;32m      3\u001b[0m \u001b[1;31m# Print the obtained permutations\u001b[0m\u001b[1;33m\u001b[0m\u001b[1;33m\u001b[0m\u001b[1;33m\u001b[0m\u001b[0m\n\u001b[0;32m      4\u001b[0m \u001b[1;32mfor\u001b[0m \u001b[0mi\u001b[0m \u001b[1;32min\u001b[0m \u001b[0mlist\u001b[0m\u001b[1;33m(\u001b[0m\u001b[0mperm\u001b[0m\u001b[1;33m)\u001b[0m\u001b[1;33m:\u001b[0m\u001b[1;33m\u001b[0m\u001b[1;33m\u001b[0m\u001b[0m\n\u001b[0;32m      5\u001b[0m     \u001b[0mprint\u001b[0m \u001b[1;33m(\u001b[0m\u001b[0mi\u001b[0m\u001b[1;33m)\u001b[0m\u001b[1;33m\u001b[0m\u001b[1;33m\u001b[0m\u001b[0m\n",
      "\u001b[1;31mNameError\u001b[0m: name 'permutations' is not defined"
     ]
    }
   ],
   "source": [
    "perm = permutations([1, 2, 3]) \n",
    "  \n",
    "# Print the obtained permutations \n",
    "for i in list(perm): \n",
    "    print (i) "
   ]
  },
  {
   "cell_type": "code",
   "execution_count": null,
   "metadata": {},
   "outputs": [],
   "source": []
  }
 ],
 "metadata": {
  "kernelspec": {
   "display_name": "Python 3",
   "language": "python",
   "name": "python3"
  },
  "language_info": {
   "codemirror_mode": {
    "name": "ipython",
    "version": 3
   },
   "file_extension": ".py",
   "mimetype": "text/x-python",
   "name": "python",
   "nbconvert_exporter": "python",
   "pygments_lexer": "ipython3",
   "version": "3.7.4"
  }
 },
 "nbformat": 4,
 "nbformat_minor": 2
}
