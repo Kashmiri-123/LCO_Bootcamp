{
 "cells": [
  {
   "cell_type": "code",
   "execution_count": null,
   "metadata": {},
   "outputs": [],
   "source": [
    "OOP Concept:\n",
    "    Class:blueprint of the object"
   ]
  },
  {
   "cell_type": "code",
   "execution_count": 2,
   "metadata": {},
   "outputs": [
    {
     "data": {
      "text/plain": [
       "__main__.myclass"
      ]
     },
     "execution_count": 2,
     "metadata": {},
     "output_type": "execute_result"
    }
   ],
   "source": [
    "class myclass():\n",
    "    def __init__(self):\n",
    "        pass\n",
    "x=myclass()\n",
    "type(x)\n",
    "##main in output is the primary module\n",
    "##self-current class reference pointer,same as \"this\" in c++'s class."
   ]
  },
  {
   "cell_type": "code",
   "execution_count": 8,
   "metadata": {},
   "outputs": [
    {
     "data": {
      "text/plain": [
       "15"
      ]
     },
     "execution_count": 8,
     "metadata": {},
     "output_type": "execute_result"
    }
   ],
   "source": [
    "class class1():\n",
    "    def __init__(self,num):\n",
    "        self.num=num##self.num is the instance created of the class\n",
    "    def get_num(self):\n",
    "        return self.num\n",
    "y=class1(15)\n",
    "# y.num##not proper way to call value\n",
    "y.get_num()"
   ]
  },
  {
   "cell_type": "code",
   "execution_count": 28,
   "metadata": {},
   "outputs": [
    {
     "name": "stdout",
     "output_type": "stream",
     "text": [
      "Hello World\n"
     ]
    }
   ],
   "source": [
    "class class1(object):##object is the base class\n",
    "    \"This is my own class!!\"\n",
    "    def __init__(self,num):\n",
    "        self.num=num##self.num is the instance created of the class\n",
    "    def get_num(self):\n",
    "        return self.num\n",
    "    def set_num(self,num):\n",
    "        self.num=num\n",
    "    @classmethod\n",
    "    def from_string(cls,num):\n",
    "        return cls(int(num))##uses the constructor as the object of the \"cls\"\n",
    "    @staticmethod\n",
    "    def method():##cannot access the value/data members in the class\n",
    "        print(\"Hello World\")\n",
    "y=class1(15)\n",
    "# y.num   ##not proper way to call value\n",
    "y.set_num(23)\n",
    "y.get_num()\n",
    "y.method()"
   ]
  },
  {
   "cell_type": "code",
   "execution_count": 24,
   "metadata": {},
   "outputs": [
    {
     "data": {
      "text/plain": [
       "40"
      ]
     },
     "execution_count": 24,
     "metadata": {},
     "output_type": "execute_result"
    }
   ],
   "source": [
    "z=class1.from_string(\"40\")\n",
    "z.get_num()"
   ]
  },
  {
   "cell_type": "code",
   "execution_count": 31,
   "metadata": {},
   "outputs": [
    {
     "data": {
      "text/plain": [
       "['__class__',\n",
       " '__delattr__',\n",
       " '__dict__',\n",
       " '__dir__',\n",
       " '__doc__',\n",
       " '__eq__',\n",
       " '__format__',\n",
       " '__ge__',\n",
       " '__getattribute__',\n",
       " '__gt__',\n",
       " '__hash__',\n",
       " '__init__',\n",
       " '__init_subclass__',\n",
       " '__le__',\n",
       " '__lt__',\n",
       " '__module__',\n",
       " '__ne__',\n",
       " '__new__',\n",
       " '__reduce__',\n",
       " '__reduce_ex__',\n",
       " '__repr__',\n",
       " '__setattr__',\n",
       " '__sizeof__',\n",
       " '__str__',\n",
       " '__subclasshook__',\n",
       " '__weakref__',\n",
       " 'from_string',\n",
       " 'get_num',\n",
       " 'method',\n",
       " 'set_num']"
      ]
     },
     "execution_count": 31,
     "metadata": {},
     "output_type": "execute_result"
    }
   ],
   "source": [
    "##doc string\n",
    "dir(class1)"
   ]
  },
  {
   "cell_type": "code",
   "execution_count": 30,
   "metadata": {},
   "outputs": [],
   "source": [
    "z.__doc__"
   ]
  },
  {
   "cell_type": "code",
   "execution_count": 34,
   "metadata": {},
   "outputs": [
    {
     "data": {
      "text/plain": [
       "30"
      ]
     },
     "execution_count": 34,
     "metadata": {},
     "output_type": "execute_result"
    }
   ],
   "source": [
    "class class2(object):##object is the base class\n",
    "    \"This is my own class!!\"\n",
    "    def __init__(self,num):\n",
    "        self.num=num##self.num is the instance created of the class\n",
    "    def get_num(self):\n",
    "        return self.num\n",
    "    def set_num(self,num):\n",
    "        self.num=num\n",
    "    @classmethod\n",
    "    def from_string(cls,num):\n",
    "        return cls(int(num))##uses the constructor as the object of the \"cls\"\n",
    "    @staticmethod\n",
    "    def method():##cannot access the value/data members in the class\n",
    "        print(\"Hello World\")\n",
    "    def __add__(num1,num2):\n",
    "        return num1.num + num2.num\n",
    "y=class2(10)\n",
    "z=class2(20)\n",
    "y+z\n"
   ]
  },
  {
   "cell_type": "code",
   "execution_count": 35,
   "metadata": {},
   "outputs": [
    {
     "data": {
      "text/plain": [
       "False"
      ]
     },
     "execution_count": 35,
     "metadata": {},
     "output_type": "execute_result"
    }
   ],
   "source": [
    "class class2(object):##object is the base class\n",
    "    \"This is my own class!!\"\n",
    "    def __init__(self,num):\n",
    "        self.num=num##self.num is the instance created of the class\n",
    "    def get_num(self):\n",
    "        return self.num\n",
    "    def set_num(self,num):\n",
    "        self.num=num\n",
    "    @classmethod\n",
    "    def from_string(cls,num):\n",
    "        return cls(int(num))##uses the constructor as the object of the \"cls\"\n",
    "    @staticmethod\n",
    "    def method():##cannot access the value/data members in the class\n",
    "        print(\"Hello World\")\n",
    "    def __add__(num1,num2):\n",
    "        return num1.num + num2.num\n",
    "    def __eq__(num1,num2):\n",
    "        return num1.num==num2.num\n",
    "y=class2(10)\n",
    "z=class2(20)\n",
    "y==z\n"
   ]
  },
  {
   "cell_type": "code",
   "execution_count": 40,
   "metadata": {},
   "outputs": [
    {
     "name": "stdout",
     "output_type": "stream",
     "text": [
      "HEY!!\n",
      "<class '__main__.class2'>\n",
      "20\n"
     ]
    }
   ],
   "source": [
    "class class2(object):##object is the base class\n",
    "    \"This is my own class!!\"\n",
    "    def __init__(self,num):\n",
    "        print(\"Inside constructor\")\n",
    "        self.num=num##self.num is the instance created of the class\n",
    "    def get_num(self):\n",
    "        return self.num\n",
    "    def set_num(self,num):\n",
    "        self.num=num\n",
    "    def __new__(a,cls):\n",
    "        print(\"HEY!!\") \n",
    "        print(a)\n",
    "        print(cls)\n",
    "z=class2(20)\n"
   ]
  },
  {
   "cell_type": "code",
   "execution_count": 49,
   "metadata": {},
   "outputs": [
    {
     "name": "stdout",
     "output_type": "stream",
     "text": [
      "Inside constructor\n",
      "Destructor\n"
     ]
    }
   ],
   "source": [
    "class class3():\n",
    "     def __init__(self):\n",
    "        print(\"Inside constructor\")    \n",
    "     def __del__(self):\n",
    "        print(\"Destructor\")\n",
    "r=class3()\n",
    "r\n",
    "del r"
   ]
  },
  {
   "cell_type": "code",
   "execution_count": 14,
   "metadata": {},
   "outputs": [],
   "source": [
    "class Fibonacci():\n",
    "    def __init__(self,last):\n",
    "        self.last=last\n",
    "        self.list=[]\n",
    "    def series_creator(self):\n",
    "        first,second=0,1\n",
    "        next=0\n",
    "        while self.last!=0:\n",
    "            self.list.append(next)\n",
    "            next=first+second\n",
    "            first=second\n",
    "            second=next\n",
    "            self.last-=1\n",
    "        return self.list\n",
    "    def adder(self):\n",
    "        add=0\n",
    "        for i in self.list:\n",
    "            add=add+i\n",
    "        print(add)"
   ]
  },
  {
   "cell_type": "code",
   "execution_count": 15,
   "metadata": {},
   "outputs": [],
   "source": [
    "x = Fibonacci(5)"
   ]
  },
  {
   "cell_type": "code",
   "execution_count": 18,
   "metadata": {},
   "outputs": [
    {
     "data": {
      "text/plain": [
       "[0, 1, 2, 3, 5]"
      ]
     },
     "execution_count": 18,
     "metadata": {},
     "output_type": "execute_result"
    }
   ],
   "source": [
    "x.series_creator()"
   ]
  },
  {
   "cell_type": "code",
   "execution_count": 17,
   "metadata": {},
   "outputs": [
    {
     "name": "stdout",
     "output_type": "stream",
     "text": [
      "11\n"
     ]
    }
   ],
   "source": [
    "x.adder()"
   ]
  }
 ],
 "metadata": {
  "kernelspec": {
   "display_name": "Python 3",
   "language": "python",
   "name": "python3"
  },
  "language_info": {
   "codemirror_mode": {
    "name": "ipython",
    "version": 3
   },
   "file_extension": ".py",
   "mimetype": "text/x-python",
   "name": "python",
   "nbconvert_exporter": "python",
   "pygments_lexer": "ipython3",
   "version": "3.7.4"
  }
 },
 "nbformat": 4,
 "nbformat_minor": 2
}
