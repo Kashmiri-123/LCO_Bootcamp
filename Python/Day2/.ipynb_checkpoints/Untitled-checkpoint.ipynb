{
 "cells": [
  {
   "cell_type": "code",
   "execution_count": null,
   "metadata": {},
   "outputs": [],
   "source": [
    "number=10\n",
    "userInput=int(input(\"Enter the number\"))\n",
    "if number==userInput:\n",
    "    print(\"Correct guess\")\n",
    "elif number>userInput:\n",
    "    print(\"Entered number is smaller than the number\")\n",
    "else:\n",
    "    print(\"Entered number is greater than the number\")"
   ]
  },
  {
   "cell_type": "code",
   "execution_count": null,
   "metadata": {},
   "outputs": [],
   "source": [
    "int()->int class's constructor"
   ]
  },
  {
   "cell_type": "code",
   "execution_count": 5,
   "metadata": {},
   "outputs": [
    {
     "name": "stdout",
     "output_type": "stream",
     "text": [
      "1 2 3 4 Kashmiri\n",
      "6 7 8 9 Kashmiri\n",
      "11 12 13 14 Kashmiri\n",
      "16 17 18 19 Kashmiri\n",
      "21 22 23 24 Kashmiri\n",
      "26 27 28 29 Kashmiri\n"
     ]
    }
   ],
   "source": [
    "number=1\n",
    "while number!=31 :\n",
    "    if number%5==0:\n",
    "        print(\"Kashmiri\")\n",
    "    else :\n",
    "        print(number, end=\" \")\n",
    "    number=number+1"
   ]
  },
  {
   "cell_type": "code",
   "execution_count": 16,
   "metadata": {},
   "outputs": [
    {
     "name": "stdout",
     "output_type": "stream",
     "text": [
      "1 2 LCO 4 Kashmiri LCO 7 8 LCO Kashmiri 11 LCO 13 14 Kashmiri 16 17 LCO 19 Kashmiri LCO 22 23 LCO Kashmiri 26 LCO 28 29 Kashmiri "
     ]
    }
   ],
   "source": [
    "number=1\n",
    "while number!=31 :\n",
    "    if number%5==0:\n",
    "        print(\"Kashmiri\", end=\" \")\n",
    "    elif number%3==0:\n",
    "        print(\"LCO\", end=\" \")\n",
    "    else :\n",
    "        print(number, end=\" \")\n",
    "    number=number+1"
   ]
  },
  {
   "cell_type": "code",
   "execution_count": 17,
   "metadata": {},
   "outputs": [
    {
     "name": "stdout",
     "output_type": "stream",
     "text": [
      "1 2 3 4 5 6 7 8 9 10 11 12 13 14 India 16 17 18 19 20 21 22 23 24 25 26 27 28 29 India "
     ]
    }
   ],
   "source": [
    "number=1\n",
    "while number!=31 :\n",
    "    if number%5==0 and number%3==0:##pipe line operator\n",
    "        print(\"India\", end=\" \")\n",
    "    else :\n",
    "        print(number, end=\" \")\n",
    "    number=number+1"
   ]
  },
  {
   "cell_type": "code",
   "execution_count": null,
   "metadata": {},
   "outputs": [
    {
     "name": "stdout",
     "output_type": "stream",
     "text": [
      "1 2 3 4 "
     ]
    }
   ],
   "source": [
    "number=1\n",
    "i=1\n",
    "while number!=31 :\n",
    "        if number%5==0 and number%3==0:##pipe line operator\n",
    "            print(\"India\", end=\" \")\n",
    "        else :\n",
    "            print(number, end=\" \")\n",
    "        number=number+1"
   ]
  },
  {
   "cell_type": "code",
   "execution_count": 1,
   "metadata": {},
   "outputs": [
    {
     "name": "stdout",
     "output_type": "stream",
     "text": [
      "1 2 3 4 6 7 8 9 10 11 12 13 14 India 16 17 18 19 20 21 22 23 24 25 26 27 28 29 India "
     ]
    }
   ],
   "source": [
    "number=1\n",
    "i=1\n",
    "while number!=31 :\n",
    "        if number==5:\n",
    "            number=number+1\n",
    "            continue\n",
    "        elif number%5==0 and number%3==0:##pipe line operator\n",
    "            print(\"India\", end=\" \")\n",
    "        else :\n",
    "            print(number, end=\" \")\n",
    "        number=number+1"
   ]
  },
  {
   "cell_type": "code",
   "execution_count": 2,
   "metadata": {},
   "outputs": [
    {
     "name": "stdout",
     "output_type": "stream",
     "text": [
      "1\n",
      "2\n",
      "3\n"
     ]
    }
   ],
   "source": [
    "num=(1,2,3)\n",
    "for var in num:\n",
    "    print(var)"
   ]
  },
  {
   "cell_type": "code",
   "execution_count": 4,
   "metadata": {},
   "outputs": [
    {
     "name": "stdout",
     "output_type": "stream",
     "text": [
      "L\n",
      "C\n",
      "O\n",
      "!\n"
     ]
    }
   ],
   "source": [
    "for var in \"LCO!\":\n",
    "    print(var)"
   ]
  },
  {
   "cell_type": "code",
   "execution_count": 6,
   "metadata": {},
   "outputs": [
    {
     "name": "stdout",
     "output_type": "stream",
     "text": [
      "a\n",
      "1\n"
     ]
    }
   ],
   "source": [
    "lists=[\"a\",1]\n",
    "for var in lists:\n",
    "    print(var)"
   ]
  },
  {
   "cell_type": "code",
   "execution_count": 17,
   "metadata": {},
   "outputs": [
    {
     "name": "stdout",
     "output_type": "stream",
     "text": [
      "Enter the number : 12\n",
      "12*1= 12\n",
      "12*2= 24\n",
      "12*3= 36\n",
      "12*4= 48\n",
      "12*5= 60\n",
      "12*6= 72\n",
      "12*7= 84\n",
      "12*8= 96\n",
      "12*9= 108\n",
      "12*10= 120\n"
     ]
    }
   ],
   "source": [
    "number=int(input(\"Enter the number : \"))\n",
    "for i in range(1,11):\n",
    "    print(str(number)+\"*\"+str(i)+\"= \",end=\"\")\n",
    "    coll=number*i\n",
    "    print(coll)"
   ]
  },
  {
   "cell_type": "code",
   "execution_count": 62,
   "metadata": {},
   "outputs": [
    {
     "name": "stdout",
     "output_type": "stream",
     "text": [
      "* \n",
      "\n",
      "* * \n",
      "\n",
      "* * * \n",
      "\n",
      "* * * * \n",
      "\n",
      "* * * * * \n",
      "\n"
     ]
    }
   ],
   "source": [
    "for i in range(0,5):\n",
    "    for j in range(0,i+1):\n",
    "        print(\"*\",end=\" \")\n",
    "    print(\"\\n\")"
   ]
  },
  {
   "cell_type": "code",
   "execution_count": 60,
   "metadata": {},
   "outputs": [
    {
     "name": "stdout",
     "output_type": "stream",
     "text": [
      "* \n",
      "* * \n",
      "* * * \n",
      "* * * * \n",
      "* * * * * \n"
     ]
    }
   ],
   "source": [
    "for i in range(1,6):\n",
    "    print(\"* \"*i)"
   ]
  },
  {
   "cell_type": "code",
   "execution_count": 63,
   "metadata": {},
   "outputs": [
    {
     "name": "stdout",
     "output_type": "stream",
     "text": [
      "0 : a\n",
      "1 : b\n",
      "2 : c\n"
     ]
    }
   ],
   "source": [
    "for index,value in enumerate([\"a\",\"b\",\"c\"]): ##iterating a enum gives the tuple with the positional index\n",
    "    print(str(index)+\" : \"+str(value))"
   ]
  },
  {
   "cell_type": "code",
   "execution_count": 65,
   "metadata": {},
   "outputs": [
    {
     "name": "stdout",
     "output_type": "stream",
     "text": [
      "(0, 1)\n",
      "(1, 'b')\n"
     ]
    }
   ],
   "source": [
    "for value in enumerate([1,\"b\"]):\n",
    "    print(value)"
   ]
  },
  {
   "cell_type": "code",
   "execution_count": null,
   "metadata": {},
   "outputs": [],
   "source": []
  }
 ],
 "metadata": {
  "kernelspec": {
   "display_name": "Python 3",
   "language": "python",
   "name": "python3"
  },
  "language_info": {
   "codemirror_mode": {
    "name": "ipython",
    "version": 3
   },
   "file_extension": ".py",
   "mimetype": "text/x-python",
   "name": "python",
   "nbconvert_exporter": "python",
   "pygments_lexer": "ipython3",
   "version": "3.7.4"
  }
 },
 "nbformat": 4,
 "nbformat_minor": 2
}
