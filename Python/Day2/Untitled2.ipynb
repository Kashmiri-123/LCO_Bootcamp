{
 "cells": [
  {
   "cell_type": "code",
   "execution_count": null,
   "metadata": {},
   "outputs": [],
   "source": [
    "Assignment 2"
   ]
  },
  {
   "cell_type": "code",
   "execution_count": 14,
   "metadata": {},
   "outputs": [
    {
     "name": "stdout",
     "output_type": "stream",
     "text": [
      "Enter your string : Madam! I'm Adam\n",
      "It is a palindrome.\n"
     ]
    }
   ],
   "source": [
    "userInput=input(\"Enter your string : \")\n",
    "unwantedChar=[\".\",\" \",\",\",\"'\",\"!\"]\n",
    "for i in unwantedChar:\n",
    "    userInput=userInput.replace(i,'')\n",
    "def reverseFunc(userInput):\n",
    "    return userInput[::-1]\n",
    "carrier=reverseFunc(userInput)\n",
    "userInput=userInput.lower()\n",
    "carrier=carrier.lower()\n",
    "if carrier==userInput:\n",
    "    print(\"It is a palindrome.\")\n",
    "else:\n",
    "    print(\"Not a palindrome.\")"
   ]
  },
  {
   "cell_type": "code",
   "execution_count": 15,
   "metadata": {},
   "outputs": [
    {
     "name": "stdout",
     "output_type": "stream",
     "text": [
      "Enter your string : HelloWorld\n",
      "Enter index : 0\n",
      "helloWorld"
     ]
    }
   ],
   "source": [
    "userInput=[]\n",
    "userInput=input(\"Enter your string : \")\n",
    "index=int(input(\"Enter index : \"))\n",
    "for i in range(0,len(userInput)):\n",
    "    if i==index:\n",
    "        x=userInput[i].swapcase()\n",
    "        print(x,end=\"\")\n",
    "    else:\n",
    "        print(userInput[i],end=\"\")\n",
    "    "
   ]
  },
  {
   "cell_type": "code",
   "execution_count": 6,
   "metadata": {},
   "outputs": [
    {
     "name": "stdout",
     "output_type": "stream",
     "text": [
      "Enter the first input : appe\n",
      "Enter the second input : orange\n",
      "aoprpaenge"
     ]
    }
   ],
   "source": [
    "firstInput=[]\n",
    "secondInput=[]\n",
    "firstInput=input(\"Enter the first input : \")\n",
    "secondInput=input(\"Enter the second input : \")\n",
    "if len(firstInput)>len(secondInput):\n",
    "    longest=firstInput\n",
    "else:\n",
    "    longest=secondInput\n",
    "first=len(firstInput)\n",
    "second=len(secondInput)\n",
    "for i in range(0,len(longest)):\n",
    "    if i<first:\n",
    "        print(firstInput[i],end=\"\")\n",
    "    if i<second:\n",
    "        print(secondInput[i],end=\"\")"
   ]
  },
  {
   "cell_type": "code",
   "execution_count": null,
   "metadata": {},
   "outputs": [],
   "source": [
    "down=int(input(\"Enter the steps in the downward direction : \"))\n",
    "up=int(input(\"Enter the steps in the upward direction : \"))\n",
    "right=int(input(\"Enter the steps in the right direction : \"))\n",
    "left=int(input(\"Enter the steps in the left direction : \"))\n",
    "horizontal=right-left\n",
    "vertical=down-up\n",
    "output=(horizontal*horizontal)+(vertical*vertical)\n",
    "output=output**0.5\n",
    "print(int(output))"
   ]
  },
  {
   "cell_type": "code",
   "execution_count": 18,
   "metadata": {},
   "outputs": [
    {
     "name": "stdout",
     "output_type": "stream",
     "text": [
      "Enter the string : Attitude\n",
      "The answer is 100\n"
     ]
    }
   ],
   "source": [
    "InputString=[]\n",
    "sum=0\n",
    "InputString=input(\"Enter the string : \")\n",
    "for i in InputString:\n",
    "    if i==i.lower():\n",
    "        sum=sum+(ord(i)-96)\n",
    "    elif i==i.upper():\n",
    "        sum=sum+(ord(i)-64)\n",
    "print(\"The answer is \"+ str(sum))"
   ]
  },
  {
   "cell_type": "code",
   "execution_count": 19,
   "metadata": {},
   "outputs": [
    {
     "name": "stdout",
     "output_type": "stream",
     "text": [
      "Amstrong number\n",
      "Enter the input number : 231\n",
      "It is not a amstrong number\n"
     ]
    }
   ],
   "source": [
    "print(\"Armstrong number....\")\n",
    "numberString = input(\"Enter the number : \")\n",
    "length = len(numberString)\n",
    "sum = 0\n",
    "for iterator in numberString:\n",
    "    value = int(iterator)\n",
    "    value = value ** length\n",
    "    sum = sum + value\n",
    "if sum == int(numberString):\n",
    "    print(\"It is an amstrong number\")\n",
    "else :\n",
    "    print(\"It is not an amstrong number\")"
   ]
  },
  {
   "cell_type": "code",
   "execution_count": 5,
   "metadata": {},
   "outputs": [
    {
     "name": "stdout",
     "output_type": "stream",
     "text": [
      "\\\\\n",
      " \\\\\n",
      "  \\\\\n",
      "   \\\\\n",
      "   //\n",
      "  //\n",
      " //\n",
      "//\n"
     ]
    }
   ],
   "source": [
    "for i in range(4):\n",
    "    print(\" \"*i+\"\\\\\\\\\")#one backslash needed to add to one backslash to add a value to it,ie,one \"\\\" won't do,one more is neede to be added\n",
    "j = 3\n",
    "while j>=0:\n",
    "    print(\" \"*j+\"//\")\n",
    "    j-=1"
   ]
  },
  {
   "cell_type": "code",
   "execution_count": 2,
   "metadata": {},
   "outputs": [
    {
     "name": "stdout",
     "output_type": "stream",
     "text": [
      "Enter any year : 2011\n",
      "2011 is not a leap year\n"
     ]
    }
   ],
   "source": [
    "inputYear = int(input(\"Enter any year : \"))\n",
    "if (inputYear % 4) == 0:\n",
    "        if (inputYear % 100) == 0:\n",
    "            if (inputYear % 400) == 0:\n",
    "                print(\"{} is a leap year\".format(inputYear))\n",
    "            else:\n",
    "                print(\"{} is not a leap year\".format(inputYear))\n",
    "        else:\n",
    "            print(\"{} is a leap year\".format(inputYear))\n",
    "else:\n",
    "        print(\"{} is not a leap year\".format(inputYear))"
   ]
  },
  {
   "cell_type": "code",
   "execution_count": 10,
   "metadata": {},
   "outputs": [
    {
     "name": "stdout",
     "output_type": "stream",
     "text": [
      "4 3\n",
      "8 -1\n",
      "9 -2\n"
     ]
    }
   ],
   "source": [
    "list=[2,4,3,8,9,-1,-2]\n",
    "j=0\n",
    "for i,v in enumerate(list):\n",
    "    for j,t in enumerate(list[i+1:]):\n",
    "        if v+t==7:\n",
    "            print(v,t)"
   ]
  },
  {
   "cell_type": "code",
   "execution_count": null,
   "metadata": {},
   "outputs": [],
   "source": []
  }
 ],
 "metadata": {
  "kernelspec": {
   "display_name": "Python 3",
   "language": "python",
   "name": "python3"
  },
  "language_info": {
   "codemirror_mode": {
    "name": "ipython",
    "version": 3
   },
   "file_extension": ".py",
   "mimetype": "text/x-python",
   "name": "python",
   "nbconvert_exporter": "python",
   "pygments_lexer": "ipython3",
   "version": "3.7.4"
  }
 },
 "nbformat": 4,
 "nbformat_minor": 2
}
