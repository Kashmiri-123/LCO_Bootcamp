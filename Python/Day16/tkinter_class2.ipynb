{
 "cells": [
  {
   "cell_type": "code",
   "execution_count": null,
   "metadata": {},
   "outputs": [],
   "source": [
    "##amazon review through scrapping"
   ]
  },
  {
   "cell_type": "code",
   "execution_count": 8,
   "metadata": {},
   "outputs": [],
   "source": [
    "from tkinter import *\n",
    "\n",
    "class CustomerWindow(Frame):\n",
    "    \n",
    "    def __init__(self,parent,*args,**kwargs):\n",
    "        super().__init__(parent,*args,**kwargs)\n",
    "        \n",
    "        self._root=parent\n",
    "        self.lbl=Label(self._root,bg =\"black\",fg=\"white\",text=\"Hello World\")\n",
    "        self.lbl.pack()\n",
    "        \n",
    "root=Tk()\n",
    "root.title(\"MyApp\")\n",
    "root.geometry(\"300x400+40+40\")\n",
    "w=CustomerWindow(root)\n",
    "w.pack()\n",
    "\n",
    "\n",
    "root.mainloop()"
   ]
  },
  {
   "cell_type": "code",
   "execution_count": 11,
   "metadata": {},
   "outputs": [],
   "source": [
    "from tkinter import *\n",
    "\n",
    "class CustomerWindow(Frame):\n",
    "    def __init__(self,parent,text=\"\",*args,**kwargs):\n",
    "        super().__init__(parent,*args,**kwargs)\n",
    "        \n",
    "        self._root=parent\n",
    "        self._text=text\n",
    "        self.lbl=Label(self._root,bg =\"black\",fg=\"white\",text=self._text)\n",
    "        self.lbl.pack()\n",
    "        self.btn=Button(self._root,text=\"Click me\",command= lambda: self.method())\n",
    "        self.btn.pack()\n",
    "        \n",
    "    def method(self):\n",
    "        self.lbl[\"text\"]=\"Hey\"\n",
    "        \n",
    "root=Tk()\n",
    "root.title(\"MyApp\")\n",
    "root.geometry(\"300x400+40+40\")\n",
    "w=CustomerWindow(root,text=\"LCO\")\n",
    "w.pack()\n",
    "\n",
    "\n",
    "root.mainloop()"
   ]
  },
  {
   "cell_type": "code",
   "execution_count": null,
   "metadata": {},
   "outputs": [],
   "source": [
    "class custom_window(Frame):\n",
    "    def __init__(self, parent, text = \"\", *args, **kwargs):\n",
    "        super().__init__(parent, *args, **kwargs)\n",
    "        \n",
    "        self._root = parent\n",
    "        self._text = text\n",
    "        self.lbl = Label(self._root, bg=\"black\", fg=\"white\", text = self._text)\n",
    "        self.lbl.pack()\n",
    "        \n",
    "        self.btn_one = Button(self._root, text=\"Click me\", command = lambda: self.callback_btn_one())\n",
    "        self.btn_one.pack()\n",
    "        \n",
    "    def callback_btn_one(self):\n",
    "        self.lbl['text'] = \"New Text\"\n",
    "\n",
    "class App():\n",
    "    def __init__(self):\n",
    "        root = Tk()\n",
    "        root.title(\"MyApp\")\n",
    "        root.geometry(\"300x400+40+40\")\n",
    "        w = custom_window(root, text = \"okay\")\n",
    "        w.pack()\n",
    "\n",
    "\n",
    "        root.mainloop()\n",
    "Object=App()"
   ]
  },
  {
   "cell_type": "markdown",
   "metadata": {},
   "source": [
    "# Class Assignment"
   ]
  },
  {
   "cell_type": "code",
   "execution_count": 26,
   "metadata": {},
   "outputs": [],
   "source": [
    "##function call\n",
    "\n",
    "from tkinter import *\n",
    "root=Tk()\n",
    "def Celsius():\n",
    "    value=user_input.get()\n",
    "    value=(int(value))\n",
    "    value=(value - 32) * (5/9)\n",
    "    value=int(value)\n",
    "    lbl[\"text\"]=value\n",
    "    \n",
    "def Fahrenheit():\n",
    "    value=user_input.get()\n",
    "    value=(int(value))\n",
    "    value=(value*(9/5)) + 32\n",
    "    lbl[\"text\"]=value\n",
    "    \n",
    "root.title(\"Degree Converter\")\n",
    "root.geometry(\"400x400\")\n",
    "fm=Frame(root,bg=\"#74B9FF\",width=900,height=800)\n",
    "fm.place(x=70,y=90)\n",
    "lbl=Label(fm,fg='blue',bg=\"#74B9FF\")\n",
    "lbl.pack()\n",
    "user_input=Entry(fm,width=40)\n",
    "user_input.pack()\n",
    "btn=Button(fm,fg=\"#192A56\",bg=\"white\",text=\"Celsius\",command= lambda: Celsius())\n",
    "btn.pack(padx=30,pady=30)\n",
    "\n",
    "btn=Button(fm,fg=\"#192A56\",bg=\"white\",text=\"Farenheit\",command= lambda: Fahrenheit())\n",
    "btn.pack(padx=30,pady=30)\n",
    "\n",
    "\n",
    "root.mainloop()"
   ]
  },
  {
   "cell_type": "code",
   "execution_count": 27,
   "metadata": {},
   "outputs": [],
   "source": [
    "class backend():\n",
    "    def __init__(self):\n",
    "        pass\n",
    "    def calculator(self):\n",
    "        root=Tk()\n",
    "        def Celsius():\n",
    "            value=user_input.get()\n",
    "            value=(int(value))\n",
    "            value=(value - 32) * (5/9)\n",
    "            value=int(value)\n",
    "            lbl[\"text\"]=value\n",
    "\n",
    "        def Fahrenheit():\n",
    "            value=user_input.get()\n",
    "            value=(int(value))\n",
    "            value=(value*(9/5)) + 32\n",
    "            lbl[\"text\"]=value\n",
    "\n",
    "        root.title(\"Degree Converter\")\n",
    "        root.geometry(\"400x400\")\n",
    "        fm=Frame(root,bg=\"#74B9FF\",width=900,height=800)\n",
    "        fm.place(x=70,y=90)\n",
    "        lbl=Label(fm,fg='blue',bg=\"#74B9FF\")\n",
    "        lbl.pack()\n",
    "        user_input=Entry(fm,width=40)\n",
    "        user_input.pack()\n",
    "        btn=Button(fm,fg=\"#192A56\",bg=\"white\",text=\"Celsius\",command= lambda: Celsius())\n",
    "        btn.pack(padx=30,pady=30)\n",
    "\n",
    "        btn=Button(fm,fg=\"#192A56\",bg=\"white\",text=\"Farenheit\",command= lambda: Fahrenheit())\n",
    "        btn.pack(padx=30,pady=30)\n",
    "\n",
    "\n",
    "        root.mainloop()"
   ]
  },
  {
   "cell_type": "code",
   "execution_count": 28,
   "metadata": {},
   "outputs": [],
   "source": [
    "obj=backend()\n",
    "obj.calculator()"
   ]
  },
  {
   "cell_type": "code",
   "execution_count": null,
   "metadata": {},
   "outputs": [],
   "source": []
  }
 ],
 "metadata": {
  "kernelspec": {
   "display_name": "Python 3",
   "language": "python",
   "name": "python3"
  },
  "language_info": {
   "codemirror_mode": {
    "name": "ipython",
    "version": 3
   },
   "file_extension": ".py",
   "mimetype": "text/x-python",
   "name": "python",
   "nbconvert_exporter": "python",
   "pygments_lexer": "ipython3",
   "version": "3.7.4"
  }
 },
 "nbformat": 4,
 "nbformat_minor": 2
}
