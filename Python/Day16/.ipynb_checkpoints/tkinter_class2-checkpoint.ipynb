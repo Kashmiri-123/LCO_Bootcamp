{
 "cells": [
  {
   "cell_type": "code",
   "execution_count": null,
   "metadata": {},
   "outputs": [],
   "source": [
    "##amazon review through scrapping"
   ]
  },
  {
   "cell_type": "code",
   "execution_count": 8,
   "metadata": {},
   "outputs": [],
   "source": [
    "from tkinter import *\n",
    "\n",
    "class CustomerWindow(Frame):\n",
    "    \n",
    "    def __init__(self,parent,*args,**kwargs):\n",
    "        super().__init__(parent,*args,**kwargs)\n",
    "        \n",
    "        self._root=parent\n",
    "        self.lbl=Label(self._root,bg =\"black\",fg=\"white\",text=\"Hello World\")\n",
    "        self.lbl.pack()\n",
    "        \n",
    "root=Tk()\n",
    "root.title(\"MyApp\")\n",
    "root.geometry(\"300x400+40+40\")\n",
    "w=CustomerWindow(root)\n",
    "w.pack()\n",
    "\n",
    "\n",
    "root.mainloop()"
   ]
  },
  {
   "cell_type": "code",
   "execution_count": 11,
   "metadata": {},
   "outputs": [],
   "source": [
    "from tkinter import *\n",
    "\n",
    "class CustomerWindow(Frame):\n",
    "    def __init__(self,parent,text=\"\",*args,**kwargs):\n",
    "        super().__init__(parent,*args,**kwargs)\n",
    "        \n",
    "        self._root=parent\n",
    "        self._text=text\n",
    "        self.lbl=Label(self._root,bg =\"black\",fg=\"white\",text=self._text)\n",
    "        self.lbl.pack()\n",
    "        self.btn=Button(self._root,text=\"Click me\",command= lambda: self.method())\n",
    "        self.btn.pack()\n",
    "        \n",
    "    def method(self):\n",
    "        self.lbl[\"text\"]=\"Hey\"\n",
    "        \n",
    "root=Tk()\n",
    "root.title(\"MyApp\")\n",
    "root.geometry(\"300x400+40+40\")\n",
    "w=CustomerWindow(root,text=\"LCO\")\n",
    "w.pack()\n",
    "\n",
    "\n",
    "root.mainloop()"
   ]
  },
  {
   "cell_type": "markdown",
   "metadata": {},
   "source": [
    "# Class Assignment"
   ]
  },
  {
   "cell_type": "code",
   "execution_count": 48,
   "metadata": {},
   "outputs": [
    {
     "ename": "TclError",
     "evalue": "unknown option \"-disabledbackground\"",
     "output_type": "error",
     "traceback": [
      "\u001b[1;31m---------------------------------------------------------------------------\u001b[0m",
      "\u001b[1;31mTclError\u001b[0m                                  Traceback (most recent call last)",
      "\u001b[1;32m<ipython-input-48-4dda498157ad>\u001b[0m in \u001b[0;36m<module>\u001b[1;34m\u001b[0m\n\u001b[0;32m     46\u001b[0m         \u001b[0mw\u001b[0m\u001b[1;33m.\u001b[0m\u001b[0mpack\u001b[0m\u001b[1;33m(\u001b[0m\u001b[1;33m)\u001b[0m\u001b[1;33m\u001b[0m\u001b[1;33m\u001b[0m\u001b[0m\n\u001b[0;32m     47\u001b[0m         \u001b[0mroot\u001b[0m\u001b[1;33m.\u001b[0m\u001b[0mmainloop\u001b[0m\u001b[1;33m(\u001b[0m\u001b[1;33m)\u001b[0m\u001b[1;33m\u001b[0m\u001b[1;33m\u001b[0m\u001b[0m\n\u001b[1;32m---> 48\u001b[1;33m \u001b[0mobject\u001b[0m\u001b[1;33m=\u001b[0m\u001b[0mApp\u001b[0m\u001b[1;33m(\u001b[0m\u001b[1;33m)\u001b[0m\u001b[1;33m\u001b[0m\u001b[1;33m\u001b[0m\u001b[0m\n\u001b[0m",
      "\u001b[1;32m<ipython-input-48-4dda498157ad>\u001b[0m in \u001b[0;36m__init__\u001b[1;34m(self)\u001b[0m\n\u001b[0;32m     43\u001b[0m         \u001b[0muser_input\u001b[0m\u001b[1;33m=\u001b[0m\u001b[0mEntry\u001b[0m\u001b[1;33m(\u001b[0m\u001b[0mself\u001b[0m\u001b[1;33m.\u001b[0m\u001b[0mfm\u001b[0m\u001b[1;33m,\u001b[0m\u001b[0mwidth\u001b[0m\u001b[1;33m=\u001b[0m\u001b[1;36m40\u001b[0m\u001b[1;33m)\u001b[0m\u001b[1;33m\u001b[0m\u001b[1;33m\u001b[0m\u001b[0m\n\u001b[0;32m     44\u001b[0m         \u001b[0muser_input\u001b[0m\u001b[1;33m.\u001b[0m\u001b[0mpack\u001b[0m\u001b[1;33m(\u001b[0m\u001b[1;33m)\u001b[0m\u001b[1;33m\u001b[0m\u001b[1;33m\u001b[0m\u001b[0m\n\u001b[1;32m---> 45\u001b[1;33m         \u001b[0mw\u001b[0m \u001b[1;33m=\u001b[0m \u001b[0mFrontend\u001b[0m\u001b[1;33m(\u001b[0m\u001b[0mroot\u001b[0m\u001b[1;33m,\u001b[0m \u001b[0muser_input\u001b[0m\u001b[1;33m)\u001b[0m\u001b[1;33m\u001b[0m\u001b[1;33m\u001b[0m\u001b[0m\n\u001b[0m\u001b[0;32m     46\u001b[0m         \u001b[0mw\u001b[0m\u001b[1;33m.\u001b[0m\u001b[0mpack\u001b[0m\u001b[1;33m(\u001b[0m\u001b[1;33m)\u001b[0m\u001b[1;33m\u001b[0m\u001b[1;33m\u001b[0m\u001b[0m\n\u001b[0;32m     47\u001b[0m         \u001b[0mroot\u001b[0m\u001b[1;33m.\u001b[0m\u001b[0mmainloop\u001b[0m\u001b[1;33m(\u001b[0m\u001b[1;33m)\u001b[0m\u001b[1;33m\u001b[0m\u001b[1;33m\u001b[0m\u001b[0m\n",
      "\u001b[1;32m<ipython-input-48-4dda498157ad>\u001b[0m in \u001b[0;36m__init__\u001b[1;34m(self, parent, *args, **kwargs)\u001b[0m\n\u001b[0;32m      5\u001b[0m \u001b[1;32mclass\u001b[0m \u001b[0mFrontend\u001b[0m\u001b[1;33m(\u001b[0m\u001b[0mFrame\u001b[0m\u001b[1;33m)\u001b[0m\u001b[1;33m:\u001b[0m\u001b[1;33m\u001b[0m\u001b[1;33m\u001b[0m\u001b[0m\n\u001b[0;32m      6\u001b[0m     \u001b[1;32mdef\u001b[0m \u001b[0m__init__\u001b[0m\u001b[1;33m(\u001b[0m\u001b[0mself\u001b[0m\u001b[1;33m,\u001b[0m\u001b[0mparent\u001b[0m\u001b[1;33m,\u001b[0m\u001b[1;33m*\u001b[0m\u001b[0margs\u001b[0m\u001b[1;33m,\u001b[0m\u001b[1;33m**\u001b[0m\u001b[0mkwargs\u001b[0m\u001b[1;33m)\u001b[0m\u001b[1;33m:\u001b[0m\u001b[1;33m\u001b[0m\u001b[1;33m\u001b[0m\u001b[0m\n\u001b[1;32m----> 7\u001b[1;33m         \u001b[0msuper\u001b[0m\u001b[1;33m(\u001b[0m\u001b[1;33m)\u001b[0m\u001b[1;33m.\u001b[0m\u001b[0m__init__\u001b[0m\u001b[1;33m(\u001b[0m\u001b[0mparent\u001b[0m\u001b[1;33m,\u001b[0m\u001b[1;33m*\u001b[0m\u001b[0margs\u001b[0m\u001b[1;33m,\u001b[0m\u001b[1;33m**\u001b[0m\u001b[0mkwargs\u001b[0m\u001b[1;33m)\u001b[0m\u001b[1;33m\u001b[0m\u001b[1;33m\u001b[0m\u001b[0m\n\u001b[0m\u001b[0;32m      8\u001b[0m \u001b[1;33m\u001b[0m\u001b[0m\n\u001b[0;32m      9\u001b[0m         \u001b[0muser_input\u001b[0m\u001b[1;33m=\u001b[0m\u001b[0mEntry\u001b[0m\u001b[1;33m(\u001b[0m\u001b[0mroot\u001b[0m\u001b[1;33m,\u001b[0m\u001b[0mwidth\u001b[0m\u001b[1;33m=\u001b[0m\u001b[1;36m40\u001b[0m\u001b[1;33m)\u001b[0m\u001b[1;33m\u001b[0m\u001b[1;33m\u001b[0m\u001b[0m\n",
      "\u001b[1;32m~\\Anaconda3\\lib\\tkinter\\__init__.py\u001b[0m in \u001b[0;36m__init__\u001b[1;34m(self, master, cnf, **kw)\u001b[0m\n\u001b[0;32m   2742\u001b[0m             \u001b[0mextra\u001b[0m \u001b[1;33m=\u001b[0m \u001b[1;33m(\u001b[0m\u001b[1;34m'-class'\u001b[0m\u001b[1;33m,\u001b[0m \u001b[0mcnf\u001b[0m\u001b[1;33m[\u001b[0m\u001b[1;34m'class'\u001b[0m\u001b[1;33m]\u001b[0m\u001b[1;33m)\u001b[0m\u001b[1;33m\u001b[0m\u001b[1;33m\u001b[0m\u001b[0m\n\u001b[0;32m   2743\u001b[0m             \u001b[1;32mdel\u001b[0m \u001b[0mcnf\u001b[0m\u001b[1;33m[\u001b[0m\u001b[1;34m'class'\u001b[0m\u001b[1;33m]\u001b[0m\u001b[1;33m\u001b[0m\u001b[1;33m\u001b[0m\u001b[0m\n\u001b[1;32m-> 2744\u001b[1;33m         \u001b[0mWidget\u001b[0m\u001b[1;33m.\u001b[0m\u001b[0m__init__\u001b[0m\u001b[1;33m(\u001b[0m\u001b[0mself\u001b[0m\u001b[1;33m,\u001b[0m \u001b[0mmaster\u001b[0m\u001b[1;33m,\u001b[0m \u001b[1;34m'frame'\u001b[0m\u001b[1;33m,\u001b[0m \u001b[0mcnf\u001b[0m\u001b[1;33m,\u001b[0m \u001b[1;33m{\u001b[0m\u001b[1;33m}\u001b[0m\u001b[1;33m,\u001b[0m \u001b[0mextra\u001b[0m\u001b[1;33m)\u001b[0m\u001b[1;33m\u001b[0m\u001b[1;33m\u001b[0m\u001b[0m\n\u001b[0m\u001b[0;32m   2745\u001b[0m \u001b[1;33m\u001b[0m\u001b[0m\n\u001b[0;32m   2746\u001b[0m \u001b[1;32mclass\u001b[0m \u001b[0mLabel\u001b[0m\u001b[1;33m(\u001b[0m\u001b[0mWidget\u001b[0m\u001b[1;33m)\u001b[0m\u001b[1;33m:\u001b[0m\u001b[1;33m\u001b[0m\u001b[1;33m\u001b[0m\u001b[0m\n",
      "\u001b[1;32m~\\Anaconda3\\lib\\tkinter\\__init__.py\u001b[0m in \u001b[0;36m__init__\u001b[1;34m(self, master, widgetName, cnf, kw, extra)\u001b[0m\n\u001b[0;32m   2297\u001b[0m             \u001b[1;32mdel\u001b[0m \u001b[0mcnf\u001b[0m\u001b[1;33m[\u001b[0m\u001b[0mk\u001b[0m\u001b[1;33m]\u001b[0m\u001b[1;33m\u001b[0m\u001b[1;33m\u001b[0m\u001b[0m\n\u001b[0;32m   2298\u001b[0m         self.tk.call(\n\u001b[1;32m-> 2299\u001b[1;33m             (widgetName, self._w) + extra + self._options(cnf))\n\u001b[0m\u001b[0;32m   2300\u001b[0m         \u001b[1;32mfor\u001b[0m \u001b[0mk\u001b[0m\u001b[1;33m,\u001b[0m \u001b[0mv\u001b[0m \u001b[1;32min\u001b[0m \u001b[0mclasses\u001b[0m\u001b[1;33m:\u001b[0m\u001b[1;33m\u001b[0m\u001b[1;33m\u001b[0m\u001b[0m\n\u001b[0;32m   2301\u001b[0m             \u001b[0mk\u001b[0m\u001b[1;33m.\u001b[0m\u001b[0mconfigure\u001b[0m\u001b[1;33m(\u001b[0m\u001b[0mself\u001b[0m\u001b[1;33m,\u001b[0m \u001b[0mv\u001b[0m\u001b[1;33m)\u001b[0m\u001b[1;33m\u001b[0m\u001b[1;33m\u001b[0m\u001b[0m\n",
      "\u001b[1;31mTclError\u001b[0m: unknown option \"-disabledbackground\""
     ]
    }
   ],
   "source": [
    "from tkinter import *\n",
    "\n",
    "\n",
    "\n",
    "class Frontend(Frame):\n",
    "    def __init__(self,parent,*args,**kwargs):\n",
    "        super().__init__(parent,*args,**kwargs)\n",
    "        \n",
    "        user_input=Entry(root,width=40)\n",
    "        user_input.pack()\n",
    "        self.lbl=Label(self._root,bg =\"black\",fg=\"white\")\n",
    "        self.lbl.pack()\n",
    "        self.btn=Button(fm,fg=\"#192A56\",bg=\"white\",text=\"Celsius\",command= lambda: Celsius())\n",
    "        self.btn.pack(padx=30,pady=30)\n",
    "\n",
    "        self.btn=Button(fm,fg=\"#192A56\",bg=\"white\",text=\"Farenheit\",command= lambda: Fahrenheit())\n",
    "        self.btn.pack(padx=30,pady=30)\n",
    "    \n",
    "    def Celsius():\n",
    "        value=user_input.get()\n",
    "        value=(int(value))\n",
    "        value=(value - 32) * (5/9)\n",
    "        value=int(value)\n",
    "        lbl[\"text\"]=value\n",
    "    \n",
    "    def Fahrenheit():\n",
    "        value=user_input.get()\n",
    "        value=(int(value))\n",
    "        value=(value*(9/5)) + 32\n",
    "        lbl[\"text\"]=value\n",
    "\n",
    "        \n",
    "        \n",
    "class App():\n",
    "    def __init__(self):\n",
    "        root = Tk()\n",
    "        root.title(\"Degree Converter\")\n",
    "        root.geometry(\"400x400\")\n",
    "        self.fm=Frame(root,bg=\"#74B9FF\",width=900,height=800)\n",
    "        self.fm.pack()\n",
    "        self.lbl=Label(self.fm,fg='white',bg=\"#74B9FF\")\n",
    "        self.lbl.pack()\n",
    "        user_input=Entry(self.fm,width=40)\n",
    "        user_input.pack()\n",
    "        w = Frontend(root, user_input)\n",
    "        w.pack()\n",
    "        root.mainloop()     \n",
    "object=App()\n"
   ]
  },
  {
   "cell_type": "code",
   "execution_count": 43,
   "metadata": {},
   "outputs": [],
   "source": [
    "\n",
    "root=tk.Tk()\n",
    "def Celsius():\n",
    "    value=user_input.get()\n",
    "    value=(int(value))\n",
    "    value=(value - 32) * (5/9)\n",
    "    value=int(value)\n",
    "    lbl[\"text\"]=value\n",
    "    \n",
    "def Fahrenheit():\n",
    "    value=user_input.get()\n",
    "    value=(int(value))\n",
    "    value=(value*(9/5)) + 32\n",
    "    lbl[\"text\"]=value\n",
    "    \n",
    "root.title(\"Degree Converter\")\n",
    "root.geometry(\"400x400\")\n",
    "fm=Frame(root,bg=\"#74B9FF\",width=900,height=800)\n",
    "fm.place(x=70,y=90)\n",
    "lbl=Label(fm,fg='white',bg=\"#74B9FF\")\n",
    "lbl.pack()\n",
    "user_input=Entry(fm,width=40)\n",
    "user_input.pack()\n",
    "btn=Button(fm,fg=\"#192A56\",bg=\"white\",text=\"Celsius\",command= lambda: Celsius())\n",
    "btn.pack(padx=30,pady=30)\n",
    "\n",
    "btn=Button(fm,fg=\"#192A56\",bg=\"white\",text=\"Farenheit\",command= lambda: Fahrenheit())\n",
    "btn.pack(padx=30,pady=30)\n",
    "\n",
    "\n",
    "root.mainloop()"
   ]
  },
  {
   "cell_type": "code",
   "execution_count": 32,
   "metadata": {},
   "outputs": [
    {
     "ename": "TypeError",
     "evalue": "__init__() missing 1 required positional argument: 'parent'",
     "output_type": "error",
     "traceback": [
      "\u001b[1;31m---------------------------------------------------------------------------\u001b[0m",
      "\u001b[1;31mTypeError\u001b[0m                                 Traceback (most recent call last)",
      "\u001b[1;32m<ipython-input-32-9d509be991f1>\u001b[0m in \u001b[0;36m<module>\u001b[1;34m\u001b[0m\n\u001b[0;32m     26\u001b[0m \u001b[0mObject\u001b[0m\u001b[1;33m=\u001b[0m\u001b[0mApp\u001b[0m\u001b[1;33m(\u001b[0m\u001b[1;33m)\u001b[0m\u001b[1;33m\u001b[0m\u001b[1;33m\u001b[0m\u001b[0m\n\u001b[0;32m     27\u001b[0m \u001b[0mObject\u001b[0m\u001b[1;33m\u001b[0m\u001b[1;33m\u001b[0m\u001b[0m\n\u001b[1;32m---> 28\u001b[1;33m \u001b[0ma\u001b[0m\u001b[1;33m=\u001b[0m\u001b[0mcustom_window\u001b[0m\u001b[1;33m(\u001b[0m\u001b[1;33m)\u001b[0m\u001b[1;33m\u001b[0m\u001b[1;33m\u001b[0m\u001b[0m\n\u001b[0m\u001b[0;32m     29\u001b[0m \u001b[0ma\u001b[0m\u001b[1;33m\u001b[0m\u001b[1;33m\u001b[0m\u001b[0m\n",
      "\u001b[1;31mTypeError\u001b[0m: __init__() missing 1 required positional argument: 'parent'"
     ]
    }
   ],
   "source": [
    "class custom_window(Frame):\n",
    "    def __init__(self, parent, text = \"\", *args, **kwargs):\n",
    "        super().__init__(parent, *args, **kwargs)\n",
    "        \n",
    "        self._root = parent\n",
    "        self._text = text\n",
    "        self.lbl = Label(self._root, bg=\"black\", fg=\"white\", text = self._text)\n",
    "        self.lbl.pack()\n",
    "        \n",
    "        self.btn_one = Button(self._root, text=\"Click me\", command = lambda: self.callback_btn_one())\n",
    "        self.btn_one.pack()\n",
    "        \n",
    "    def callback_btn_one(self):\n",
    "        self.lbl['text'] = \"New Text\"\n",
    "\n",
    "class App():\n",
    "    def __init__(self):\n",
    "        root = Tk()\n",
    "        root.title(\"MyApp\")\n",
    "        root.geometry(\"300x400+40+40\")\n",
    "        w = custom_window(root, text = \"Dikhit\")\n",
    "        w.pack()\n",
    "\n",
    "\n",
    "        root.mainloop()\n",
    "Object=App()\n",
    "Object"
   ]
  },
  {
   "cell_type": "code",
   "execution_count": null,
   "metadata": {},
   "outputs": [],
   "source": []
  }
 ],
 "metadata": {
  "kernelspec": {
   "display_name": "Python 3",
   "language": "python",
   "name": "python3"
  },
  "language_info": {
   "codemirror_mode": {
    "name": "ipython",
    "version": 3
   },
   "file_extension": ".py",
   "mimetype": "text/x-python",
   "name": "python",
   "nbconvert_exporter": "python",
   "pygments_lexer": "ipython3",
   "version": "3.7.4"
  }
 },
 "nbformat": 4,
 "nbformat_minor": 2
}
