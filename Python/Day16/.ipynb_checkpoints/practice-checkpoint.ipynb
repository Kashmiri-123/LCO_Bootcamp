{
 "cells": [
  {
   "cell_type": "code",
   "execution_count": 4,
   "metadata": {},
   "outputs": [],
   "source": [
    "from tkinter import *\n",
    "\n",
    "root=Tk()\n",
    "mylabel=Label(root, text=\"Hello World\")\n",
    "##shozwing it into the screen\n",
    "mylabel.pack()\n",
    "\n",
    "root.mainloop()"
   ]
  },
  {
   "cell_type": "code",
   "execution_count": 5,
   "metadata": {},
   "outputs": [],
   "source": [
    "from tkinter import *\n",
    "\n",
    "root=Tk()\n",
    "myLabel=Label(root,text=\"Hey\")\n",
    "myLabel.pack()\n",
    "root.mainloop()"
   ]
  },
  {
   "cell_type": "markdown",
   "metadata": {},
   "source": [
    "# Grid in tkinter"
   ]
  },
  {
   "cell_type": "code",
   "execution_count": 14,
   "metadata": {},
   "outputs": [],
   "source": [
    "from tkinter import *\n",
    "root=Tk()\n",
    "\n",
    "myLabel1=Label(root,text=\"Hi\")\n",
    "myLabel2=Label(root,text=\"key\")\n",
    "myLabel3=Label(root,text=\"ok\")\n",
    "\n",
    "myLabel1.grid(row=1,column=0)\n",
    "myLabel2.grid(row=1,column=1)\n",
    "myLabel3.grid(row=1,column=11)\n",
    "\n",
    "\n",
    "\n",
    "root.mainloop()"
   ]
  },
  {
   "cell_type": "markdown",
   "metadata": {},
   "source": [
    "# Button"
   ]
  },
  {
   "cell_type": "code",
   "execution_count": 20,
   "metadata": {},
   "outputs": [],
   "source": [
    "from tkinter import *\n",
    "root=Tk()\n",
    "btn=Button(root,text=\"Click me\",padx=10,pady=20)\n",
    "btn.pack()\n",
    "\n",
    "root.mainloop()"
   ]
  },
  {
   "cell_type": "code",
   "execution_count": 40,
   "metadata": {},
   "outputs": [],
   "source": [
    "#Function\n",
    "from tkinter import *\n",
    "root=Tk()\n",
    "\n",
    "def clicker():\n",
    "    lbl=Label(root,text=\"clicked me\")\n",
    "    lbl.pack()\n",
    "\n",
    "btn=Button(root,text=\"click me\",command=clicker)\n",
    "btn.pack()\n",
    "\n",
    "root.mainloop()"
   ]
  },
  {
   "cell_type": "code",
   "execution_count": 44,
   "metadata": {},
   "outputs": [],
   "source": [
    "##input\n",
    "#Function\n",
    "\n",
    "from tkinter import *\n",
    "root=Tk()\n",
    "\n",
    "def clicker():\n",
    "    lbl=Label(root,text=\"Hello\"+input.get())\n",
    "    lbl.pack()\n",
    "    \n",
    "input=Entry(root,width=25)\n",
    "input.pack()\n",
    "input.insert(1,\"Enter your name : \")\n",
    "\n",
    "btn=Button(root,text=\"Enter your name \",command=clicker)\n",
    "btn.pack()\n",
    "\n",
    "root.mainloop()\n"
   ]
  },
  {
   "cell_type": "code",
   "execution_count": 49,
   "metadata": {},
   "outputs": [],
   "source": [
    "from tkinter import *\n",
    "root=Tk()"
   ]
  },
  {
   "cell_type": "code",
   "execution_count": 135,
   "metadata": {},
   "outputs": [],
   "source": [
    "from tkinter import *\n",
    "root=Tk()\n",
    "\n",
    "root.title(\"Calculator\")\n",
    "\n",
    "input=Entry(root,width=50,borderwidth=5)\n",
    "input.grid(column=0,row=0,columnspan=8,padx=10,pady=10)\n",
    "\n",
    "\n",
    "\n",
    "btn1=Button(root,text=\"1\",padx=40,pady=20,command=lambda:method)\n",
    "btn1.grid(row=1,column=0)\n",
    "\n",
    "\n",
    "btn2=Button(root,text=\"2\",padx=40,pady=20,command=lambda:method)\n",
    "btn2.grid(row=1,column=1)\n",
    "\n",
    "btn3=Button(root,text=\"3\",padx=40,pady=20,command=lambda:method)\n",
    "btn3.grid(row=1,column=2)\n",
    "\n",
    "btn4=Button(root,text=\"4\",padx=40,pady=20,command=lambda:method)\n",
    "btn4.grid(row=2,column=0)\n",
    "\n",
    "btn5=Button(root,text=\"5\",padx=40,pady=20,command=lambda:method)\n",
    "btn5.grid(row=2,column=1)\n",
    "\n",
    "btn6=Button(root,text=\"6\",padx=40,pady=20,command=lambda:method)\n",
    "btn6.grid(row=2,column=2)\n",
    "\n",
    "btn7=Button(root,text=\"7\",padx=40,pady=20,command=lambda:method)\n",
    "btn7.grid(row=3,column=0)\n",
    "\n",
    "btn8=Button(root,text=\"8\",padx=40,pady=20,command=lambda:method)\n",
    "btn8.grid(row=3,column=1)\n",
    "\n",
    "btn9=Button(root,text=\"9\",padx=40,pady=20,command=lambda:method)\n",
    "btn9.grid(row=3,column=2)\n",
    "\n",
    "btn0=Button(root,text=\"0\",padx=40,pady=20,command=lambda:method)\n",
    "btn0.grid(row=4,column=0)\n",
    "\n",
    "clear=Button(root,text=\"Clear\",padx=120,pady=20,command=lambda:method)\n",
    "clear.grid(row=4,column=1,columnspan=2)\n",
    "\n",
    "equal=Button(root,text=\"=\",padx=40,pady=20,command=lambda:method)\n",
    "equal.grid(row=5,column=0)\n",
    "\n",
    "add=Button(root,text=\"+\",padx=120,pady=20,command=lambda:method)\n",
    "add.grid(row=5,columnspan=2,column=1)\n",
    "\n",
    "root.mainloop()"
   ]
  },
  {
   "cell_type": "code",
   "execution_count": null,
   "metadata": {},
   "outputs": [],
   "source": []
  },
  {
   "cell_type": "code",
   "execution_count": null,
   "metadata": {},
   "outputs": [],
   "source": []
  },
  {
   "cell_type": "code",
   "execution_count": null,
   "metadata": {},
   "outputs": [],
   "source": []
  },
  {
   "cell_type": "code",
   "execution_count": null,
   "metadata": {},
   "outputs": [],
   "source": []
  },
  {
   "cell_type": "code",
   "execution_count": null,
   "metadata": {},
   "outputs": [],
   "source": []
  }
 ],
 "metadata": {
  "kernelspec": {
   "display_name": "Python 3",
   "language": "python",
   "name": "python3"
  },
  "language_info": {
   "codemirror_mode": {
    "name": "ipython",
    "version": 3
   },
   "file_extension": ".py",
   "mimetype": "text/x-python",
   "name": "python",
   "nbconvert_exporter": "python",
   "pygments_lexer": "ipython3",
   "version": "3.7.4"
  }
 },
 "nbformat": 4,
 "nbformat_minor": 2
}
