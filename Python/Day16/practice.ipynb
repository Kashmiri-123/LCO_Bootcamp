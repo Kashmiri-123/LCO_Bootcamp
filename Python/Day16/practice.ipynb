{
 "cells": [
  {
   "cell_type": "code",
   "execution_count": 4,
   "metadata": {},
   "outputs": [],
   "source": [
    "from tkinter import *\n",
    "\n",
    "root=Tk()\n",
    "mylabel=Label(root, text=\"Hello World\")\n",
    "##shozwing it into the screen\n",
    "mylabel.pack()\n",
    "\n",
    "root.mainloop()"
   ]
  },
  {
   "cell_type": "code",
   "execution_count": 5,
   "metadata": {},
   "outputs": [],
   "source": [
    "from tkinter import *\n",
    "\n",
    "root=Tk()\n",
    "myLabel=Label(root,text=\"Hey\")\n",
    "myLabel.pack()\n",
    "root.mainloop()"
   ]
  },
  {
   "cell_type": "markdown",
   "metadata": {},
   "source": [
    "# Grid in tkinter"
   ]
  },
  {
   "cell_type": "code",
   "execution_count": 14,
   "metadata": {},
   "outputs": [],
   "source": [
    "from tkinter import *\n",
    "root=Tk()\n",
    "\n",
    "myLabel1=Label(root,text=\"Hi\")\n",
    "myLabel2=Label(root,text=\"key\")\n",
    "myLabel3=Label(root,text=\"ok\")\n",
    "\n",
    "myLabel1.grid(row=1,column=0)\n",
    "myLabel2.grid(row=1,column=1)\n",
    "myLabel3.grid(row=1,column=11)\n",
    "\n",
    "\n",
    "\n",
    "root.mainloop()"
   ]
  },
  {
   "cell_type": "markdown",
   "metadata": {},
   "source": [
    "# Button"
   ]
  },
  {
   "cell_type": "code",
   "execution_count": 20,
   "metadata": {},
   "outputs": [],
   "source": [
    "from tkinter import *\n",
    "root=Tk()\n",
    "btn=Button(root,text=\"Click me\",padx=10,pady=20)\n",
    "btn.pack()\n",
    "\n",
    "root.mainloop()"
   ]
  },
  {
   "cell_type": "code",
   "execution_count": 40,
   "metadata": {},
   "outputs": [],
   "source": [
    "#Function\n",
    "from tkinter import *\n",
    "root=Tk()\n",
    "\n",
    "def clicker():\n",
    "    lbl=Label(root,text=\"clicked me\")\n",
    "    lbl.pack()\n",
    "\n",
    "btn=Button(root,text=\"click me\",command=clicker)\n",
    "btn.pack()\n",
    "\n",
    "root.mainloop()"
   ]
  },
  {
   "cell_type": "code",
   "execution_count": 2,
   "metadata": {},
   "outputs": [],
   "source": [
    "##input\n",
    "#Function\n",
    "\n",
    "from tkinter import *\n",
    "root=Tk()\n",
    "\n",
    "def clicker():\n",
    "    lbl=Label(root,text=\"Hello \"+input.get())\n",
    "    lbl.pack()\n",
    "    \n",
    "input=Entry(root,width=25)\n",
    "input.pack()\n",
    "input.insert(1,\"Enter your name : \")\n",
    "\n",
    "btn=Button(root,text=\"click here\",command=clicker)\n",
    "btn.pack()\n",
    "\n",
    "root.mainloop()\n"
   ]
  },
  {
   "cell_type": "markdown",
   "metadata": {},
   "source": [
    "# Image"
   ]
  },
  {
   "cell_type": "code",
   "execution_count": 4,
   "metadata": {},
   "outputs": [],
   "source": [
    "from tkinter import *\n",
    "from PIL import ImageTk,Image\n",
    "\n",
    "root=Tk()\n",
    "\n",
    "root.title(\"Image\")\n",
    "root.iconbitmap('C:\\\\Users\\\\Kashmiri\\\\Personal Projects\\\\Tkinter\\\\icon.bmp')\n",
    "\n",
    "\n",
    "my_img = ImageTk.PhotoImage(Image.open(\"C:\\\\Users\\\\Kashmiri\\\\Personal Projects\\\\Tkinter\\\\pic.jpg\"))\n",
    "\n",
    "lbl=Label(image=my_img)\n",
    "lbl.pack()\n",
    "# quit_btn = Button(root, text=\"Quit\", command = root.quit)\n",
    "# quit_btn.pack()\n",
    "\n",
    "root.mainloop()"
   ]
  },
  {
   "cell_type": "markdown",
   "metadata": {},
   "source": [
    "# Frame"
   ]
  },
  {
   "cell_type": "code",
   "execution_count": 31,
   "metadata": {},
   "outputs": [],
   "source": [
    "from tkinter import *\n",
    "from PIL import ImageTk,Image\n",
    "\n",
    "root=Tk()\n",
    "root.title(\"Frame\")\n",
    "\n",
    "frame = LabelFrame(root, text=\"This is a frame\", padx=20, pady=20)\n",
    "frame.pack(padx=20, pady=20)\n",
    "\n",
    "btn = Button(frame, text=\"I am inside frame\")\n",
    "btn.pack()\n",
    "\n",
    "btn1= Button(root, text=\"I am outside frame\")\n",
    "btn1.pack()\n",
    "\n",
    "\n",
    "root.mainloop()"
   ]
  },
  {
   "cell_type": "markdown",
   "metadata": {},
   "source": [
    "# creating new window"
   ]
  },
  {
   "cell_type": "code",
   "execution_count": 14,
   "metadata": {},
   "outputs": [],
   "source": [
    "from tkinter import *\n",
    "from PIL import ImageTk,Image\n",
    "\n",
    "root=Tk()\n",
    "root.title(\"Frame\")\n",
    "\n",
    "lbl= Label(root,text=\"First Window\").pack()\n",
    "\n",
    "\n",
    "top = Toplevel()\n",
    "top.title(\"Sec Window\")\n",
    "\n",
    "lbl= Label(top,text=\"Hello\").pack()\n",
    "\n",
    "my_img = ImageTk.PhotoImage(Image.open(\"pic.jpg\"))\n",
    "new_lbl = Label(top,image=my_img).pack()\n",
    "\n",
    "\n",
    "root.mainloop()"
   ]
  },
  {
   "cell_type": "markdown",
   "metadata": {},
   "source": [
    "# Opening image from file dialogue box"
   ]
  },
  {
   "cell_type": "code",
   "execution_count": 32,
   "metadata": {},
   "outputs": [],
   "source": [
    "from tkinter import *\n",
    "from PIL import ImageTk,Image\n",
    "from tkinter import filedialog\n",
    "\n",
    "root=Tk()\n",
    "root.title(\"First window\")\n",
    "\n",
    "def new_window():\n",
    "    top=Toplevel()\n",
    "    top.title(\"Second Window\")\n",
    "    top.filename = filedialog.askopenfilename(initialdir=\"C:\\\\Users\\\\Kashmiri\",title=\"Select a file\", filetypes=((\"jpg files\",\"*.jpg\"),(\"all files\",\" *.* \")) )\n",
    "    \n",
    "    mylbl = Label(top, text=top.filename).pack()\n",
    "    \n",
    "    global img\n",
    "    img= ImageTk.PhotoImage(Image.open(top.filename))\n",
    "    new_lbl=Label(top,image=img).pack()\n",
    "\n",
    "btn=Button(root,text=\"Click Here\", command=lambda:new_window())\n",
    "btn.pack()\n",
    "\n",
    "\n",
    "root.mainloop()"
   ]
  },
  {
   "cell_type": "code",
   "execution_count": null,
   "metadata": {},
   "outputs": [],
   "source": []
  }
 ],
 "metadata": {
  "kernelspec": {
   "display_name": "Python 3",
   "language": "python",
   "name": "python3"
  },
  "language_info": {
   "codemirror_mode": {
    "name": "ipython",
    "version": 3
   },
   "file_extension": ".py",
   "mimetype": "text/x-python",
   "name": "python",
   "nbconvert_exporter": "python",
   "pygments_lexer": "ipython3",
   "version": "3.7.4"
  }
 },
 "nbformat": 4,
 "nbformat_minor": 2
}
