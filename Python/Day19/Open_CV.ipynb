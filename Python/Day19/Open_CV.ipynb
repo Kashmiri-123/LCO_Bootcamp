{
 "cells": [
  {
   "cell_type": "code",
   "execution_count": null,
   "metadata": {},
   "outputs": [],
   "source": [
    "import requests as rq\n",
    "\n",
    "def image_downloader(url,file_path, file_name):\n",
    "    try:\n",
    "        data = rq.get(url)\n",
    "        file_name = file_name+\".jpg\"\n",
    "\n",
    "        with open(file_name, \"wb\") as file:\n",
    "            file.write(data)\n",
    "    except:\n",
    "        return \"Something went wrong!!\"\n",
    "def main():\n",
    "    url = input(\"Enter the url : \")\n",
    "    file_name = input(\"Enter the file name to save as : \")\n",
    "\n",
    "    image_downloader(url,'images/',file_name)\n",
    "\n",
    "if __name__ == '__main__' : main()"
   ]
  }
 ],
 "metadata": {
  "kernelspec": {
   "display_name": "Python 3",
   "language": "python",
   "name": "python3"
  },
  "language_info": {
   "codemirror_mode": {
    "name": "ipython",
    "version": 3
   },
   "file_extension": ".py",
   "mimetype": "text/x-python",
   "name": "python",
   "nbconvert_exporter": "python",
   "pygments_lexer": "ipython3",
   "version": "3.7.4"
  }
 },
 "nbformat": 4,
 "nbformat_minor": 2
}
