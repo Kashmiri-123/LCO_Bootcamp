{
 "cells": [
  {
   "cell_type": "code",
   "execution_count": 1,
   "metadata": {},
   "outputs": [
    {
     "name": "stdout",
     "output_type": "stream",
     "text": [
      "Enter : 10\n",
      "value:  10\n",
      "Enter : 10\n",
      "value:  20\n",
      "Enter : -10\n",
      "value:  10\n",
      "Enter : -10\n",
      "value:  0\n"
     ]
    },
    {
     "data": {
      "text/plain": [
       "<matplotlib.image.AxesImage at 0x22a9c6cfdc8>"
      ]
     },
     "execution_count": 1,
     "metadata": {},
     "output_type": "execute_result"
    }
   ],
   "source": [
    "import cv2\n",
    "import matplotlib.pyplot as plt\n",
    "\n",
    "img = cv2.imread(\"pic.jpg\")\n",
    "num_rows, num_cols = img.shape[:2]\n",
    "\n",
    "i=1\n",
    "value=0\n",
    "while i<5:\n",
    "    x=int(input(\"Enter : \"))\n",
    "    value=value+x\n",
    "    print(\"value: \", value)\n",
    "    rot_matrix = cv2.getRotationMatrix2D((num_cols/2, num_rows/2), value, 1.0)\n",
    "    img_rotation = cv2.warpAffine(img, rot_matrix, (num_cols, num_rows))\n",
    "    i+=1\n",
    "    cv2.imwrite(\"new.jpg\", img_rotation)\n",
    "\n",
    "plt.imshow(img_rotation)\n"
   ]
  },
  {
   "cell_type": "markdown",
   "metadata": {},
   "source": [
    "# using tkinter"
   ]
  },
  {
   "cell_type": "code",
   "execution_count": 3,
   "metadata": {},
   "outputs": [],
   "source": [
    "import cv2\n",
    "from tkinter import *\n",
    "from PIL import ImageTk,Image\n",
    "import matplotlib.pyplot as plt\n",
    "\n",
    "root=Tk()\n",
    "root.title(\"Image\")\n",
    "\n",
    "img = cv2.imread(\"pic.jpg\")\n",
    "num_rows, num_cols = img.shape[:2]\n",
    "\n",
    "my_img = ImageTk.PhotoImage(Image.open(\"pic.jpg\"))\n",
    "\n",
    "lbl=Label( image=my_img)\n",
    "lbl.pack()\n",
    "\n",
    "global value\n",
    "value=0\n",
    "\n",
    "def func_inc():\n",
    "    global img\n",
    "    global value\n",
    "    value = value+10\n",
    "#     print(\"value 1\", value)\n",
    "    rot_matrix = cv2.getRotationMatrix2D((num_cols/2, num_rows/2), value, 1.0)\n",
    "    img_rotation = cv2.warpAffine(img, rot_matrix, (num_cols, num_rows))\n",
    "    \n",
    "    cv2.imwrite(\"new.jpg\", img_rotation)\n",
    "#     img = cv2.imread(\"new.jpg\")\n",
    "#     num_rows, num_cols = img.shape[:2]\n",
    "\n",
    "    \n",
    "    \n",
    "def func_dec():\n",
    "    global img\n",
    "    global value\n",
    "    value=value-10\n",
    "#     print(\"Value 2 \", value)\n",
    "    rot_matrix = cv2.getRotationMatrix2D((num_cols/2, num_rows/2), value, 1.0)\n",
    "    img_rotation = cv2.warpAffine(img, rot_matrix, (num_cols, num_rows))\n",
    "    \n",
    "    cv2.imwrite(\"new.jpg\", img_rotation)\n",
    "#     img = cv2.imread(\"new.jpg\")\n",
    "#     num_rows, num_cols = img.shape[:2]\n",
    "\n",
    "    \n",
    "    \n",
    "btn1=Button(root, text=\"+\",width=20, command=lambda: func_inc())\n",
    "btn1.pack(side=LEFT)\n",
    "\n",
    "btn2=Button(root, text=\"-\",width=20, command=lambda: func_dec())\n",
    "btn2.pack(side=RIGHT)\n",
    "\n",
    "\n",
    "\n",
    "root.mainloop()\n"
   ]
  },
  {
   "cell_type": "markdown",
   "metadata": {},
   "source": [
    "# random image"
   ]
  },
  {
   "cell_type": "code",
   "execution_count": 2,
   "metadata": {},
   "outputs": [],
   "source": [
    "from tkinter import *\n",
    "from PIL import ImageTk,Image\n",
    "from tkinter import filedialog\n",
    "import cv2\n",
    "import matplotlib.pyplot as plt\n",
    "\n",
    "root=Tk()\n",
    "root.title(\"Image\")\n",
    "\n",
    "root.filename = filedialog.askopenfilename(initialdir=\"C:\\\\Users\\\\Kashmiri\",title=\"Select a file\", filetypes=((\"jpg files\",\"*.jpg\"),(\"all files\",\" *.* \")) )\n",
    "    \n",
    "my_img = ImageTk.PhotoImage(Image.open(root.filename))\n",
    "\n",
    "lbl=Label( image=my_img)\n",
    "lbl.pack()\n",
    "\n",
    "img = cv2.imread(root.filename)\n",
    "num_rows, num_cols = img.shape[:2]\n",
    "\n",
    "global value\n",
    "value=0\n",
    "\n",
    "def func_inc():\n",
    "    global img\n",
    "    global value\n",
    "    value = value+10\n",
    "    \n",
    "    rot_matrix = cv2.getRotationMatrix2D((num_cols/2, num_rows/2), value, 1.0)\n",
    "    img_rotation = cv2.warpAffine(img, rot_matrix, (num_cols, num_rows))\n",
    "    \n",
    "    cv2.imwrite(root.filename+\".jpg\", img_rotation)\n",
    "\n",
    "    \n",
    "    \n",
    "def func_dec():\n",
    "    global img\n",
    "    \n",
    "    global value\n",
    "    value = value-10\n",
    "    \n",
    "    rot_matrix = cv2.getRotationMatrix2D((num_cols/2, num_rows/2), -value, 1.0)\n",
    "    img_rotation = cv2.warpAffine(img, rot_matrix, (num_cols, num_rows))\n",
    "    \n",
    "    cv2.imwrite(root.filename+\".jpg\", img_rotation)\n",
    "\n",
    "    \n",
    "    \n",
    "btn1=Button(root, text=\"+\",width=20, command=lambda: func_inc())\n",
    "btn1.pack(side=LEFT)\n",
    "\n",
    "btn2=Button(root, text=\"-\",width=20, command=lambda: func_dec())\n",
    "btn2.pack(side=RIGHT)\n",
    "\n",
    "root.mainloop()"
   ]
  },
  {
   "cell_type": "code",
   "execution_count": null,
   "metadata": {},
   "outputs": [],
   "source": []
  }
 ],
 "metadata": {
  "kernelspec": {
   "display_name": "Python 3",
   "language": "python",
   "name": "python3"
  },
  "language_info": {
   "codemirror_mode": {
    "name": "ipython",
    "version": 3
   },
   "file_extension": ".py",
   "mimetype": "text/x-python",
   "name": "python",
   "nbconvert_exporter": "python",
   "pygments_lexer": "ipython3",
   "version": "3.7.4"
  }
 },
 "nbformat": 4,
 "nbformat_minor": 2
}
