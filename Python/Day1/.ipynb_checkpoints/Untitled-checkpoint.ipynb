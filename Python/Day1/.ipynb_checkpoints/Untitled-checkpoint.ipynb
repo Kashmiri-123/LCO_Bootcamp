{
 "cells": [
  {
   "cell_type": "code",
   "execution_count": 1,
   "metadata": {},
   "outputs": [
    {
     "name": "stdout",
     "output_type": "stream",
     "text": [
      "Hello World!\n"
     ]
    }
   ],
   "source": [
    "print(\"Hello World!\")"
   ]
  },
  {
   "cell_type": "code",
   "execution_count": 2,
   "metadata": {},
   "outputs": [
    {
     "name": "stdout",
     "output_type": "stream",
     "text": [
      "Hello$World\n"
     ]
    }
   ],
   "source": [
    "print(\"Hello\",\"World\",sep=\"$\")"
   ]
  },
  {
   "cell_type": "code",
   "execution_count": 3,
   "metadata": {},
   "outputs": [
    {
     "name": "stdout",
     "output_type": "stream",
     "text": [
      "Hello WOrld\n",
      "LCO\n"
     ]
    }
   ],
   "source": [
    "print(\"Hello\",\"WOrld\")\n",
    "print(\"LCO\")"
   ]
  },
  {
   "cell_type": "code",
   "execution_count": 5,
   "metadata": {},
   "outputs": [
    {
     "name": "stdout",
     "output_type": "stream",
     "text": [
      "Hello WOrldLCO\n"
     ]
    }
   ],
   "source": [
    "print(\"Hello\",\"WOrld\",end=\"\")\n",
    "print(\"LCO\")"
   ]
  },
  {
   "cell_type": "code",
   "execution_count": 8,
   "metadata": {},
   "outputs": [
    {
     "name": "stdout",
     "output_type": "stream",
     "text": [
      "Hello WOrld\n",
      "LCO\n"
     ]
    }
   ],
   "source": [
    "print(\"Hello\",\"WOrld\",end=\"\\n\")\n",
    "print(\"LCO\")"
   ]
  },
  {
   "cell_type": "code",
   "execution_count": 11,
   "metadata": {},
   "outputs": [
    {
     "name": "stdout",
     "output_type": "stream",
     "text": [
      "Hello WOrld\n"
     ]
    }
   ],
   "source": [
    "print(\"Hello\",\"WOrld\",end=\"\\n\")\n"
   ]
  },
  {
   "cell_type": "code",
   "execution_count": 15,
   "metadata": {},
   "outputs": [
    {
     "name": "stdout",
     "output_type": "stream",
     "text": [
      "HeyHeyHeyHeyHeyHeyHeyHeyHeyHey"
     ]
    }
   ],
   "source": [
    "for i in range(0,10):\n",
    "    print(\"Hey\", end=\"\")"
   ]
  },
  {
   "cell_type": "code",
   "execution_count": 22,
   "metadata": {},
   "outputs": [
    {
     "name": "stdout",
     "output_type": "stream",
     "text": [
      "HeyHeyHeyHeyHeyHeyHeyHeyHeyHey\n"
     ]
    }
   ],
   "source": [
    "print(\"Hey\"*10,sep=\"*\")"
   ]
  },
  {
   "cell_type": "code",
   "execution_count": 18,
   "metadata": {},
   "outputs": [
    {
     "name": "stdout",
     "output_type": "stream",
     "text": [
      "HeyHeyHeyHeyHeyHeyHeyHeyHeyHey hELLOhELLOhELLOhELLOhELLOhELLOhELLOhELLOhELLOhELLO\n"
     ]
    }
   ],
   "source": [
    "print(\"Hey\"*10,\"hELLO\"*10)"
   ]
  },
  {
   "cell_type": "code",
   "execution_count": 23,
   "metadata": {},
   "outputs": [
    {
     "name": "stdout",
     "output_type": "stream",
     "text": [
      "Hello LCO\n"
     ]
    }
   ],
   "source": [
    "print(\"Hello {}\".format(\"LCO\"))"
   ]
  },
  {
   "cell_type": "code",
   "execution_count": 26,
   "metadata": {},
   "outputs": [
    {
     "data": {
      "text/plain": [
       "'Hello ()'"
      ]
     },
     "execution_count": 26,
     "metadata": {},
     "output_type": "execute_result"
    }
   ],
   "source": [
    "\"Hello ()\".format(\"LCO\")"
   ]
  },
  {
   "cell_type": "code",
   "execution_count": 27,
   "metadata": {},
   "outputs": [
    {
     "name": "stdout",
     "output_type": "stream",
     "text": [
      "Hello LCO * Bootcamp\n"
     ]
    }
   ],
   "source": [
    "print(\"Hello {} * {}\".format(\"LCO\", \"Bootcamp\"))"
   ]
  },
  {
   "cell_type": "code",
   "execution_count": 30,
   "metadata": {},
   "outputs": [
    {
     "name": "stdout",
     "output_type": "stream",
     "text": [
      "Hello LCO * Bootcamp\n"
     ]
    }
   ],
   "source": [
    "print(\"Hello {0} * {1}\".format(\"LCO\",\"Bootcamp\"))"
   ]
  },
  {
   "cell_type": "code",
   "execution_count": 31,
   "metadata": {},
   "outputs": [
    {
     "name": "stdout",
     "output_type": "stream",
     "text": [
      "Hello LCO * LCO\n"
     ]
    }
   ],
   "source": [
    "print(\"Hello {0} * {0}\".format(\"LCO\",\"Bootcamp\"))"
   ]
  },
  {
   "cell_type": "code",
   "execution_count": 34,
   "metadata": {},
   "outputs": [
    {
     "name": "stdout",
     "output_type": "stream",
     "text": [
      "Hello LCO * Bootcamp\n"
     ]
    }
   ],
   "source": [
    "print(\"Hello {} * {l}\".format(\"LCO\",l=\"Bootcamp\"))"
   ]
  },
  {
   "cell_type": "code",
   "execution_count": 36,
   "metadata": {},
   "outputs": [
    {
     "name": "stdout",
     "output_type": "stream",
     "text": [
      "Enter a number 56\n",
      "56\n"
     ]
    }
   ],
   "source": [
    "num=input(\"Enter a number \")\n",
    "print(num)"
   ]
  },
  {
   "cell_type": "markdown",
   "metadata": {},
   "source": [
    "num=int(input(\"Enter a number \"))\n",
    "print(\"The number is \"+ str(num))"
   ]
  },
  {
   "cell_type": "code",
   "execution_count": 45,
   "metadata": {},
   "outputs": [
    {
     "name": "stdout",
     "output_type": "stream",
     "text": [
      "8\n"
     ]
    }
   ],
   "source": [
    "print(num)"
   ]
  },
  {
   "cell_type": "code",
   "execution_count": 46,
   "metadata": {},
   "outputs": [
    {
     "data": {
      "text/plain": [
       "8"
      ]
     },
     "execution_count": 46,
     "metadata": {},
     "output_type": "execute_result"
    }
   ],
   "source": [
    "num"
   ]
  },
  {
   "cell_type": "code",
   "execution_count": 47,
   "metadata": {},
   "outputs": [
    {
     "data": {
      "text/plain": [
       "13"
      ]
     },
     "execution_count": 47,
     "metadata": {},
     "output_type": "execute_result"
    }
   ],
   "source": [
    "num + 5"
   ]
  },
  {
   "cell_type": "code",
   "execution_count": null,
   "metadata": {},
   "outputs": [],
   "source": [
    "numOfQues=int(input(\"Enter the number of question you want to ask \"))\n",
    "question=[]\n",
    "answer=[]\n",
    "score=0\n",
    "for questions in range(0,numOfQues):\n",
    "    question.append(input(\"Enter the first question : \"))\n",
    "    answer.append(input(\"Enter the answer : \"))\n",
    "for ques in range(0,numOfQues):\n",
    "    print(question[ques])\n",
    "    answers=input(\"Your answer ? \")\n",
    "    if answers==answer[ques]:\n",
    "        score=score+10\n",
    "    else:\n",
    "        score=score\n",
    "print(\"Your score is \"+ str(score))\n"
   ]
  },
  {
   "cell_type": "code",
   "execution_count": 1,
   "metadata": {},
   "outputs": [
    {
     "name": "stdout",
     "output_type": "stream",
     "text": [
      "Enter the random number : 6\n",
      "You entered a smaller number.\n",
      "Chances for guessing left: 2\n",
      "Enter the random number : 557\n",
      "You entered a greater number.\n",
      "Chances for guessing left: 1\n",
      "Enter the random number : 56\n",
      "You entered a smaller number.\n",
      "Chances for guessing left: 0\n"
     ]
    }
   ],
   "source": [
    "import random\n",
    "randomNum=int(random.random()*100)\n",
    "chance=0\n",
    "while chance!=3:\n",
    "    userInput=int(input(\"Enter the random number : \"))\n",
    "    chance=chance+1\n",
    "    if userInput==randomNum:\n",
    "        print(\"You won!!\")\n",
    "        print(\"Chances for guessing left: \"+str(3-chance))\n",
    "    elif userInput>randomNum:\n",
    "        print(\"You entered a greater number.\")\n",
    "        print(\"Chances for guessing left: \"+str(3-chance))\n",
    "    else :\n",
    "        print(\"You entered a smaller number.\")\n",
    "        print(\"Chances for guessing left: \"+str(3-chance))\n",
    "\n",
    "    "
   ]
  },
  {
   "cell_type": "code",
   "execution_count": null,
   "metadata": {},
   "outputs": [],
   "source": [
    "numOfQues=int(input(\"Enter the number of question you want to ask \"))\n",
    "question=[]\n",
    "answer=[]\n",
    "correctAns=[]\n",
    "score=0\n",
    "i=0\n",
    "j=0\n",
    "for questions in range(0,numOfQues):\n",
    "    question.append(input(\"Enter the question : \"))\n",
    "    while i!=3:\n",
    "        answer.append(input(\"Option \"+ str(i+1)))\n",
    "        j+1\n",
    "        i=i+1\n",
    "    i=0\n",
    "    correctAns.append(int(input(\"Enter your choice \")))\n",
    "j=0\n",
    "for ques in range(0,numOfQues):\n",
    "    print(question[ques])\n",
    "    while i!=3:\n",
    "        print(answer[j])\n",
    "        i=i+1\n",
    "        j=j+1\n",
    "    i=0\n",
    "    ans=int(input(\"Enter your answer \"))\n",
    "    if ans==correctAns[ques]:\n",
    "        score=score+10\n",
    "    else: \n",
    "        score=score\n",
    "print(\"Your total score is \"+ str(score))\n",
    "    "
   ]
  },
  {
   "cell_type": "code",
   "execution_count": null,
   "metadata": {},
   "outputs": [],
   "source": []
  }
 ],
 "metadata": {
  "kernelspec": {
   "display_name": "Python 3",
   "language": "python",
   "name": "python3"
  },
  "language_info": {
   "codemirror_mode": {
    "name": "ipython",
    "version": 3
   },
   "file_extension": ".py",
   "mimetype": "text/x-python",
   "name": "python",
   "nbconvert_exporter": "python",
   "pygments_lexer": "ipython3",
   "version": "3.7.4"
  }
 },
 "nbformat": 4,
 "nbformat_minor": 2
}
