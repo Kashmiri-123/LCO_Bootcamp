{
 "cells": [
  {
   "cell_type": "code",
   "execution_count": 1,
   "metadata": {},
   "outputs": [
    {
     "name": "stdout",
     "output_type": "stream",
     "text": [
      "DAY1 Assignment\n"
     ]
    }
   ],
   "source": [
    "print(\"DAY1 Assignment\")"
   ]
  },
  {
   "cell_type": "code",
   "execution_count": 1,
   "metadata": {},
   "outputs": [
    {
     "name": "stdout",
     "output_type": "stream",
     "text": [
      "PayTM System\n",
      "Enter the amount you wangt to rechrage with 23\n",
      "Recharge of amount 23 is done\n"
     ]
    }
   ],
   "source": [
    "print(\"PayTM System\")\n",
    "rechargeAmount=int(input(\"Enter the amount you want to recharge with \"))\n",
    "if rechargeAmount==0:\n",
    "    print(\"No recharge\")\n",
    "else:\n",
    "    print(\"Recharge of amount \"+ str(rechargeAmount) + \" is done\")"
   ]
  },
  {
   "cell_type": "code",
   "execution_count": 1,
   "metadata": {},
   "outputs": [
    {
     "name": "stdout",
     "output_type": "stream",
     "text": [
      "Enter the amount for course you want to buy 799\n",
      "Amount earned by the company 415.48\n"
     ]
    }
   ],
   "source": [
    "course1=(\"React Native for Rs.799\")\n",
    "course2=(\"Flutter for Rs.900\")\n",
    "course3=(\"ReactJs for Rs.899\")\n",
    "amount=int(input(\"Enter the amount for course you want to buy \"))\n",
    "total=0\n",
    "if amount==0:\n",
    "    print(\"No course selected\")\n",
    "else :\n",
    "    gst=amount*(18/100)\n",
    "    google=amount*(30/100)\n",
    "    total=amount-(google+gst)\n",
    "print(\"Amount earned by the company \"+ str(total))"
   ]
  },
  {
   "cell_type": "code",
   "execution_count": null,
   "metadata": {},
   "outputs": [],
   "source": []
  },
  {
   "cell_type": "code",
   "execution_count": null,
   "metadata": {},
   "outputs": [],
   "source": []
  }
 ],
 "metadata": {
  "kernelspec": {
   "display_name": "Python 3",
   "language": "python",
   "name": "python3"
  },
  "language_info": {
   "codemirror_mode": {
    "name": "ipython",
    "version": 3
   },
   "file_extension": ".py",
   "mimetype": "text/x-python",
   "name": "python",
   "nbconvert_exporter": "python",
   "pygments_lexer": "ipython3",
   "version": "3.7.4"
  }
 },
 "nbformat": 4,
 "nbformat_minor": 2
}
