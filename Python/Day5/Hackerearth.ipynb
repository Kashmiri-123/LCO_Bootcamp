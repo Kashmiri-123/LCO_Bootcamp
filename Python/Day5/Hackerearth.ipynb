{
 "cells": [
  {
   "cell_type": "code",
   "execution_count": null,
   "metadata": {},
   "outputs": [],
   "source": [
    "###Hackerearth"
   ]
  },
  {
   "cell_type": "code",
   "execution_count": 4,
   "metadata": {},
   "outputs": [
    {
     "name": "stdout",
     "output_type": "stream",
     "text": [
      "enter string: zzoooo\n",
      "Yes\n"
     ]
    }
   ],
   "source": [
    "input_string=input(\"enter string: \")\n",
    "z_counter=0\n",
    "o_counter=0\n",
    "for i in input_string:\n",
    "    if i==\"z\":\n",
    "        z_counter+=1\n",
    "    elif i==\"o\":\n",
    "        o_counter+=1\n",
    "if z_counter*2==o_counter:\n",
    "    print(\"Yes\")\n",
    "else:\n",
    "    print(\"No\")"
   ]
  },
  {
   "cell_type": "code",
   "execution_count": null,
   "metadata": {},
   "outputs": [],
   "source": []
  },
  {
   "cell_type": "code",
   "execution_count": null,
   "metadata": {},
   "outputs": [],
   "source": []
  },
  {
   "cell_type": "code",
   "execution_count": 15,
   "metadata": {},
   "outputs": [
    {
     "name": "stdout",
     "output_type": "stream",
     "text": [
      "Enter 1\n",
      "ajdfaghfsdasgdfagsdhgasdfasfdahd\n",
      "gsadasfdashdasdkjgadhjdyjhasfdasgd\n",
      "66\n",
      "sadasfdashdasdkjadhjdyjhasfdasd\n",
      "adafdahdadkjadhjdyjhafdad\n",
      "dfdhddkjdhjdyjhfdd\n",
      "fhkjhjyjhf\n",
      "fhkjhjyjhf\n",
      "hkjhjyjh\n",
      "hkjhjyjh\n",
      "hkjhjyjh\n",
      "kjjyj\n",
      "kjjyj\n",
      "kjjyj\n",
      "kjjyj\n",
      "jjyj\n",
      "y\n",
      "y\n",
      "\n",
      "\n",
      "c:  4\n",
      "62\n"
     ]
    }
   ],
   "source": [
    "test=int(input(\"Enter \"))\n",
    "while test!=0:\n",
    "    first_string=input(\"\")\n",
    "    second_string=input(\"\")\n",
    "    count=0\n",
    "    total_len=len(first_string+second_string)\n",
    "    print(total_len)\n",
    "    for i in first_string:\n",
    "        for j in second_string:\n",
    "            if i==j:\n",
    "                count+=1\n",
    "                second_string=second_string.replace(j,\"\")\n",
    "                print(second_string)\n",
    "                break\n",
    "    print(\"c: \",count*2)\n",
    "    count=total_len-(count*2)\n",
    "    print(abs(count))\n",
    "    test-=1"
   ]
  },
  {
   "cell_type": "code",
   "execution_count": 15,
   "metadata": {},
   "outputs": [
    {
     "data": {
      "text/plain": [
       "6"
      ]
     },
     "execution_count": 15,
     "metadata": {},
     "output_type": "execute_result"
    }
   ],
   "source": [
    "gsadasfdashdasdkjgadhjdyjhasfdasgd\n",
    "ajdfaghfsdasgdfagsdhgasdfasfdahd"
   ]
  },
  {
   "cell_type": "code",
   "execution_count": 10,
   "metadata": {},
   "outputs": [
    {
     "data": {
      "text/plain": [
       "66"
      ]
     },
     "execution_count": 10,
     "metadata": {},
     "output_type": "execute_result"
    }
   ],
   "source": [
    "kjyjsd\n",
    "gfff"
   ]
  },
  {
   "cell_type": "code",
   "execution_count": 29,
   "metadata": {},
   "outputs": [
    {
     "name": "stdout",
     "output_type": "stream",
     "text": [
      "f\n",
      "Invalid Input\n"
     ]
    }
   ],
   "source": [
    "inputString=input(\"\")\n",
    "x=[]\n",
    "list1 = ['A','T','G','C','U']\n",
    "for v in inputString:\n",
    "    if v in list1:\n",
    "        if v==\"G\":\n",
    "            x.append(\"C\")\n",
    "        elif v==\"C\":\n",
    "            x.append(\"G\")\n",
    "        elif v==\"T\":\n",
    "            x.append(\"A\")\n",
    "        elif v==\"A\":\n",
    "            x.append(\"U\")\n",
    "        else:\n",
    "            print(\"Invalid Input\")\n",
    "            x.clear()\n",
    "            break\n",
    "    else:\n",
    "        print(\"Invalid Input\")\n",
    "        x.clear()\n",
    "        break\n",
    "if x:\n",
    "    for i in x:\n",
    "        print(i,end=\"\")"
   ]
  },
  {
   "cell_type": "code",
   "execution_count": null,
   "metadata": {},
   "outputs": [],
   "source": [
    "G --> C\n",
    "C --> G\n",
    "T --> A\n",
    "A --> U"
   ]
  },
  {
   "cell_type": "code",
   "execution_count": null,
   "metadata": {},
   "outputs": [],
   "source": [
    "10101010101010\n",
    "0000\n",
    "111   1010101"
   ]
  }
 ],
 "metadata": {
  "kernelspec": {
   "display_name": "Python 3",
   "language": "python",
   "name": "python3"
  },
  "language_info": {
   "codemirror_mode": {
    "name": "ipython",
    "version": 3
   },
   "file_extension": ".py",
   "mimetype": "text/x-python",
   "name": "python",
   "nbconvert_exporter": "python",
   "pygments_lexer": "ipython3",
   "version": "3.7.4"
  }
 },
 "nbformat": 4,
 "nbformat_minor": 2
}
