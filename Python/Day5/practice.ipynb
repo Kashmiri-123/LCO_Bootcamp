{
 "cells": [
  {
   "cell_type": "code",
   "execution_count": 11,
   "metadata": {},
   "outputs": [
    {
     "name": "stdout",
     "output_type": "stream",
     "text": [
      "['mango', 'guava', 'orange', 'banana']\n"
     ]
    }
   ],
   "source": [
    "list=[\"mango\",\"orange\",\"banana\"]\n",
    "list.insert(1,\"guava\")\n",
    "print(list)"
   ]
  },
  {
   "cell_type": "code",
   "execution_count": 12,
   "metadata": {},
   "outputs": [
    {
     "name": "stdout",
     "output_type": "stream",
     "text": [
      "['mango', 'guava', 'banana']\n"
     ]
    }
   ],
   "source": [
    "list.remove(\"orange\")\n",
    "print(list)"
   ]
  },
  {
   "cell_type": "code",
   "execution_count": 13,
   "metadata": {},
   "outputs": [
    {
     "name": "stdout",
     "output_type": "stream",
     "text": [
      "['mango', 'guava']\n"
     ]
    }
   ],
   "source": [
    "list.pop()\n",
    "print(list)"
   ]
  },
  {
   "cell_type": "code",
   "execution_count": 26,
   "metadata": {},
   "outputs": [
    {
     "name": "stdout",
     "output_type": "stream",
     "text": [
      "[2, 3, 4, 6]\n",
      "[2, 3, 4, 6, 'a', 'b', 'c', 'd']\n",
      "['d', 'c', 'b', 'a', 6, 4, 3, 2]\n"
     ]
    }
   ],
   "source": [
    "list1=[6,2,3,4]\n",
    "list1.sort()\n",
    "print(list1)\n",
    "list2=[\"a\",\"b\",\"c\",\"d\"]\n",
    "for i in list2:\n",
    "    list1.extend(i)\n",
    "print(list1)\n",
    "list1.reverse()\n",
    "print(list1)"
   ]
  },
  {
   "cell_type": "code",
   "execution_count": null,
   "metadata": {},
   "outputs": [],
   "source": [
    "##Tuple"
   ]
  },
  {
   "cell_type": "code",
   "execution_count": 31,
   "metadata": {},
   "outputs": [
    {
     "name": "stdout",
     "output_type": "stream",
     "text": [
      "(1, 2, 5, 22)\n",
      "5\n",
      "(1, 2)\n"
     ]
    }
   ],
   "source": [
    "tuple=(1,2,5,22)\n",
    "print(tuple)\n",
    "print(tuple[2])\n",
    "print(tuple[0:2])"
   ]
  },
  {
   "cell_type": "code",
   "execution_count": 36,
   "metadata": {},
   "outputs": [
    {
     "name": "stdout",
     "output_type": "stream",
     "text": [
      "1\n"
     ]
    }
   ],
   "source": [
    "tuple=(1,2,3,4,5,6,7,8,9)\n",
    "for i,v in enumerate(tuple):\n",
    "    if v==2:\n",
    "        print(i)"
   ]
  },
  {
   "cell_type": "markdown",
   "metadata": {},
   "source": [
    "# problem\n",
    "list1=[1,2,3]\n",
    "list2=[1,2]\n",
    "list3=list1.difference(list2)\n",
    "print(list3)"
   ]
  },
  {
   "cell_type": "code",
   "execution_count": 48,
   "metadata": {},
   "outputs": [
    {
     "name": "stdout",
     "output_type": "stream",
     "text": [
      "True\n"
     ]
    }
   ],
   "source": [
    "thisset = {\"apple\", \"banana\", \"cherry\"}\n",
    "\n",
    "print(\"banana\" in thisset)"
   ]
  },
  {
   "cell_type": "code",
   "execution_count": 53,
   "metadata": {},
   "outputs": [
    {
     "ename": "AttributeError",
     "evalue": "'list' object has no attribute 'update'",
     "output_type": "error",
     "traceback": [
      "\u001b[1;31m---------------------------------------------------------------------------\u001b[0m",
      "\u001b[1;31mAttributeError\u001b[0m                            Traceback (most recent call last)",
      "\u001b[1;32m<ipython-input-53-1c8d018e2056>\u001b[0m in \u001b[0;36m<module>\u001b[1;34m\u001b[0m\n\u001b[0;32m      1\u001b[0m \u001b[0mthisset\u001b[0m \u001b[1;33m=\u001b[0m \u001b[1;33m{\u001b[0m\u001b[1;34m\"apple\"\u001b[0m\u001b[1;33m,\u001b[0m \u001b[1;34m\"banana\"\u001b[0m\u001b[1;33m,\u001b[0m \u001b[1;34m\"cherry\"\u001b[0m\u001b[1;33m}\u001b[0m\u001b[1;33m\u001b[0m\u001b[1;33m\u001b[0m\u001b[0m\n\u001b[0;32m      2\u001b[0m \u001b[0mlist\u001b[0m\u001b[1;33m=\u001b[0m\u001b[1;33m[\u001b[0m\u001b[1;34m\"orange\"\u001b[0m\u001b[1;33m,\u001b[0m \u001b[1;34m\"mango\"\u001b[0m\u001b[1;33m,\u001b[0m \u001b[1;34m\"grapes\"\u001b[0m\u001b[1;33m]\u001b[0m\u001b[1;33m\u001b[0m\u001b[1;33m\u001b[0m\u001b[0m\n\u001b[1;32m----> 3\u001b[1;33m \u001b[0mlist\u001b[0m\u001b[1;33m.\u001b[0m\u001b[0mupdate\u001b[0m\u001b[1;33m(\u001b[0m\u001b[0mthisset\u001b[0m\u001b[1;33m)\u001b[0m\u001b[1;33m\u001b[0m\u001b[1;33m\u001b[0m\u001b[0m\n\u001b[0m\u001b[0;32m      4\u001b[0m \u001b[0mprint\u001b[0m\u001b[1;33m(\u001b[0m\u001b[0mlist\u001b[0m\u001b[1;33m)\u001b[0m\u001b[1;33m\u001b[0m\u001b[1;33m\u001b[0m\u001b[0m\n",
      "\u001b[1;31mAttributeError\u001b[0m: 'list' object has no attribute 'update'"
     ]
    }
   ],
   "source": [
    "thisset = {\"apple\", \"banana\", \"cherry\"}\n",
    "list=[\"orange\", \"mango\", \"grapes\"]\n",
    "list.update(thisset)\n",
    "print(list)##update function not applicable in list"
   ]
  },
  {
   "cell_type": "code",
   "execution_count": null,
   "metadata": {},
   "outputs": [],
   "source": [
    "###Dictionary"
   ]
  },
  {
   "cell_type": "code",
   "execution_count": 67,
   "metadata": {},
   "outputs": [
    {
     "name": "stdout",
     "output_type": "stream",
     "text": [
      "{1: 'Mainu', 2: 'Mon', 3: 'MainuMon', 'Kashmiri': 'Dikhit'}\n",
      "Mainu\n",
      "Dikhit\n",
      "Chandana\n",
      "1->Mainu\n",
      "2->Mon\n",
      "3->Chandana\n",
      "Kashmiri->Dikhit\n"
     ]
    }
   ],
   "source": [
    "dict={\n",
    "    1:\"Mainu\",\n",
    "    2:\"Mon\",\n",
    "    3:\"MainuMon\",\n",
    "    \"Kashmiri\":\"Dikhit\"\n",
    "}\n",
    "print(dict)\n",
    "print(dict[1])\n",
    "print(dict[\"Kashmiri\"])\n",
    "dict[3]=\"Chandana\"\n",
    "print(dict[3])\n",
    "for i,v in enumerate(dict):\n",
    "    print(v,end=\"->\")\n",
    "    print(dict[v])"
   ]
  },
  {
   "cell_type": "code",
   "execution_count": 81,
   "metadata": {},
   "outputs": [
    {
     "name": "stdout",
     "output_type": "stream",
     "text": [
      "Mainu\n",
      "Mon\n",
      "Chandana\n",
      "pp\n"
     ]
    }
   ],
   "source": [
    "for j in dict.values():\n",
    "    print(j)"
   ]
  },
  {
   "cell_type": "code",
   "execution_count": 82,
   "metadata": {},
   "outputs": [
    {
     "name": "stdout",
     "output_type": "stream",
     "text": [
      "1 -> Mainu\n",
      "2 -> Mon\n",
      "3 -> Chandana\n",
      "4 -> pp\n",
      "jaipur -> palace\n",
      "{1: 'Mainu', 2: 'Mon', 3: 'Chandana', 4: 'pp'}\n"
     ]
    }
   ],
   "source": [
    "dict[\"jaipur\"]=\"palace\"\n",
    "dict[4]=\"pp\"\n",
    "for i,j in dict.items():\n",
    "    print(i,\"->\",j)\n",
    "dict.pop(\"jaipur\")\n",
    "print(dict)"
   ]
  },
  {
   "cell_type": "code",
   "execution_count": 84,
   "metadata": {},
   "outputs": [
    {
     "name": "stdout",
     "output_type": "stream",
     "text": [
      "{1: 'Mainu', 2: 'Mon'}\n",
      "{1: 'Mainu', 2: 'Mon'}\n"
     ]
    }
   ],
   "source": [
    "dict.popitem()##delete the last item\n",
    "print(dict)\n",
    "my=dict\n",
    "print(my)"
   ]
  },
  {
   "cell_type": "code",
   "execution_count": null,
   "metadata": {},
   "outputs": [],
   "source": [
    "num=int(input(\"\"))\n",
    "first=1\n",
    "while first<num:\n",
    "    count=0\n",
    "    for i in range(1,num+1):\n",
    "        if first%i==0:\n",
    "            count+=1\n",
    "    if count==2:\n",
    "        print(first,end=\" \")\n",
    "    first+=1\n",
    "        \n",
    "        "
   ]
  },
  {
   "cell_type": "code",
   "execution_count": null,
   "metadata": {},
   "outputs": [],
   "source": []
  },
  {
   "cell_type": "code",
   "execution_count": null,
   "metadata": {},
   "outputs": [],
   "source": []
  },
  {
   "cell_type": "code",
   "execution_count": null,
   "metadata": {},
   "outputs": [],
   "source": []
  },
  {
   "cell_type": "code",
   "execution_count": null,
   "metadata": {},
   "outputs": [],
   "source": []
  },
  {
   "cell_type": "code",
   "execution_count": null,
   "metadata": {},
   "outputs": [],
   "source": []
  },
  {
   "cell_type": "code",
   "execution_count": null,
   "metadata": {},
   "outputs": [],
   "source": []
  }
 ],
 "metadata": {
  "kernelspec": {
   "display_name": "Python 3",
   "language": "python",
   "name": "python3"
  },
  "language_info": {
   "codemirror_mode": {
    "name": "ipython",
    "version": 3
   },
   "file_extension": ".py",
   "mimetype": "text/x-python",
   "name": "python",
   "nbconvert_exporter": "python",
   "pygments_lexer": "ipython3",
   "version": "3.7.4"
  }
 },
 "nbformat": 4,
 "nbformat_minor": 2
}
