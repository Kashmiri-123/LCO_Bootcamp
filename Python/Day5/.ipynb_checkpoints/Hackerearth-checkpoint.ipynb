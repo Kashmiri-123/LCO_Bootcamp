{
 "cells": [
  {
   "cell_type": "code",
   "execution_count": null,
   "metadata": {},
   "outputs": [],
   "source": [
    "###Hackerearth"
   ]
  },
  {
   "cell_type": "code",
   "execution_count": 4,
   "metadata": {},
   "outputs": [
    {
     "name": "stdout",
     "output_type": "stream",
     "text": [
      "enter string: zzoooo\n",
      "Yes\n"
     ]
    }
   ],
   "source": [
    "input_string=input(\"enter string: \")\n",
    "z_counter=0\n",
    "o_counter=0\n",
    "for i in input_string:\n",
    "    if i==\"z\":\n",
    "        z_counter+=1\n",
    "    elif i==\"o\":\n",
    "        o_counter+=1\n",
    "if z_counter*2==o_counter:\n",
    "    print(\"Yes\")\n",
    "else:\n",
    "    print(\"No\")"
   ]
  },
  {
   "cell_type": "code",
   "execution_count": null,
   "metadata": {},
   "outputs": [],
   "source": []
  },
  {
   "cell_type": "code",
   "execution_count": null,
   "metadata": {},
   "outputs": [],
   "source": []
  },
  {
   "cell_type": "code",
   "execution_count": 1,
   "metadata": {},
   "outputs": [
    {
     "name": "stdout",
     "output_type": "stream",
     "text": [
      "Enter 1\n",
      "gsadasfdashdasdkjgadhjdyjhasfdasgd\n",
      "ajdfaghfsdasgdfagsdhgasdfasfdahd\n",
      "66\n",
      "c:  64\n",
      "2\n"
     ]
    }
   ],
   "source": [
    "test=int(input(\"Enter \"))\n",
    "while test!=0:\n",
    "    first_string=input(\"\")\n",
    "    second_string=input(\"\")\n",
    "    count=0\n",
    "    for i in first_string:\n",
    "        for j in second_string:\n",
    "            if i==j:\n",
    "                count+=1\n",
    "                break\n",
    "    print(len(first_string+second_string))\n",
    "    print(\"c: \",count*2)\n",
    "    count=len(first_string+second_string)-(count*2)\n",
    "    print(abs(count))\n",
    "    test-=1"
   ]
  },
  {
   "cell_type": "code",
   "execution_count": 15,
   "metadata": {},
   "outputs": [
    {
     "data": {
      "text/plain": [
       "6"
      ]
     },
     "execution_count": 15,
     "metadata": {},
     "output_type": "execute_result"
    }
   ],
   "source": [
    "gsadasfdashdasdkjgadhjdyjhasfdasgd\n",
    "ajdfaghfsdasgdfagsdhgasdfasfdahd"
   ]
  },
  {
   "cell_type": "code",
   "execution_count": null,
   "metadata": {},
   "outputs": [],
   "source": []
  },
  {
   "cell_type": "code",
   "execution_count": null,
   "metadata": {},
   "outputs": [],
   "source": []
  },
  {
   "cell_type": "code",
   "execution_count": null,
   "metadata": {},
   "outputs": [],
   "source": []
  },
  {
   "cell_type": "code",
   "execution_count": null,
   "metadata": {},
   "outputs": [],
   "source": []
  }
 ],
 "metadata": {
  "kernelspec": {
   "display_name": "Python 3",
   "language": "python",
   "name": "python3"
  },
  "language_info": {
   "codemirror_mode": {
    "name": "ipython",
    "version": 3
   },
   "file_extension": ".py",
   "mimetype": "text/x-python",
   "name": "python",
   "nbconvert_exporter": "python",
   "pygments_lexer": "ipython3",
   "version": "3.7.4"
  }
 },
 "nbformat": 4,
 "nbformat_minor": 2
}
