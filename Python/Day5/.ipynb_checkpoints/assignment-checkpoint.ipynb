{
 "cells": [
  {
   "cell_type": "code",
   "execution_count": null,
   "metadata": {},
   "outputs": [],
   "source": [
    "Prob - 4 :\n",
    "Create a Rock-Paper Game in Python. Start the game, take input from the user and randomly choose Rock/Paper from a list\n",
    "and print the result of consecutive 3 rounds."
   ]
  },
  {
   "cell_type": "code",
   "execution_count": null,
   "metadata": {},
   "outputs": [
    {
     "name": "stdout",
     "output_type": "stream",
     "text": [
      "Rock vs paper-> paper wins   Rock vs scissor-> Rock wins    paper vs scissor-> scissor wins.\n",
      "Enter your choice : Rock/Paper/ScissorRock\n",
      "You loose!!\n",
      "Enter your choice : Rock/Paper/ScissorPaper\n",
      "Draw\n",
      "Enter your choice : Rock/Paper/ScissorScissor\n",
      "You won!!\n"
     ]
    }
   ],
   "source": [
    "import random\n",
    "list=[\"Rock\",\"Paper\",\"Scissor\"]\n",
    "print(\"Rock vs paper-> paper wins   Rock vs scissor-> Rock wins    paper vs scissor-> scissor wins.\")\n",
    "i=2\n",
    "while i!=0:\n",
    "    userInput=input(\"Enter your choice : Rock/Paper/Scissor : \")\n",
    "    random_choice=random.choice(list)\n",
    "    if userInput==random_choice:\n",
    "        print(\"Draw\")\n",
    "    elif userInput==\"Rock\" and random_choice==\"Paper\":\n",
    "        print(\"You loose!!\")\n",
    "    elif userInput==\"Paper\" and random_choice==\"Rock\":\n",
    "        print(\"You won!!\")\n",
    "    elif userInput==\"Rock\" and random_choice==\"Scissor\":\n",
    "        print(\"You won!!\")\n",
    "    elif userInput==\"Scissor\" and random_choice==\"Rock\":\n",
    "        print(\"You loose!!\")\n",
    "    elif userInput==\"Scissor\" and random_choice==\"Paper\":\n",
    "        print(\"You won!!\")\n",
    "    elif userInput==\"Paper\" and random_choice==\"Scissor\":\n",
    "        print(\"You loose!!\")\n",
    "    i-+1"
   ]
  },
  {
   "cell_type": "code",
   "execution_count": null,
   "metadata": {},
   "outputs": [],
   "source": [
    "Prob 5:\n",
    "You are given a string S. Suppose a character 'c' occurs consecutively X times in the string. Replace these consecutive\n",
    "occurrences of the character 'c' with (X,c) in the string.\n"
   ]
  },
  {
   "cell_type": "code",
   "execution_count": 5,
   "metadata": {},
   "outputs": [
    {
     "name": "stdout",
     "output_type": "stream",
     "text": [
      "Enter the string : 110110\n",
      "[(2, '1'), (1, '0'), (2, '1'), (1, '0')]\n"
     ]
    }
   ],
   "source": [
    "from itertools import groupby\n",
    "input_string=input(\"Enter the string : \")\n",
    "groups = groupby(input_string)\n",
    "result = [(sum(1 for _ in group),label) for label, group in groups]\n",
    "print(result)"
   ]
  },
  {
   "cell_type": "code",
   "execution_count": 26,
   "metadata": {},
   "outputs": [
    {
     "name": "stdout",
     "output_type": "stream",
     "text": [
      "problem 2: Implement a program of random password generator of a specified length in Python.\n",
      "Enter the maximum length of your password : 4\n",
      "Wy6r\n"
     ]
    }
   ],
   "source": [
    "import random\n",
    "import string\n",
    "print(\"problem 2: Implement a program of random password generator of a specified length in Python.\")\n",
    "length = int(input(\"Enter the maximum length of your password : \"))\n",
    "res = ''.join(random.choices(string.ascii_uppercase + string.ascii_lowercase +string.digits, k = length)) \n",
    "print(res)"
   ]
  },
  {
   "cell_type": "code",
   "execution_count": 5,
   "metadata": {},
   "outputs": [
    {
     "name": "stdout",
     "output_type": "stream",
     "text": [
      "Q1. Implement a program which will remove all the vowels from a given string.\n",
      "Enter the string : i write code\n",
      " wrt cd\n"
     ]
    }
   ],
   "source": [
    "print(\"Q1. Implement a program which will remove all the vowels from a given string.\")\n",
    "string = input(\"Enter the string : \")\n",
    "vowels = ['a','e','i','o','u','A','E','I','O','U']\n",
    "for i in string : \n",
    "    if i in vowels:\n",
    "        string = string.replace(i,'')\n",
    "print(string)"
   ]
  },
  {
   "cell_type": "code",
   "execution_count": 21,
   "metadata": {},
   "outputs": [
    {
     "name": "stdout",
     "output_type": "stream",
     "text": [
      "Q6: Print the three most common characters of a string with their occurrence count.Sort in descending order of occurrence count.If the occurrence count is the same, sort the characters in alphabetical order. \n",
      "\n",
      "\n",
      "Enter the string : dikhit\n",
      "d 1\n",
      "i 2\n",
      "k 1\n",
      "h 1\n",
      "i 2\n",
      "t 1\n"
     ]
    },
    {
     "data": {
      "text/plain": [
       "{'d', 'h', 'i', 'k', 't'}"
      ]
     },
     "execution_count": 21,
     "metadata": {},
     "output_type": "execute_result"
    }
   ],
   "source": [
    "print(\"Q6: Print the three most common characters of a string with their occurrence count.Sort in descending order of occurrence count.If the occurrence count is the same, sort the characters in alphabetical order. \")\n",
    "print()\n",
    "print()\n",
    "x=[]\n",
    "input_string=input(\"Enter the string : \")\n",
    "for i in input_string:\n",
    "    counter=input_string.count(i)\n",
    "    print(i,counter)\n",
    "    x.append(i)\n",
    "x=set(x)\n",
    "x"
   ]
  },
  {
   "cell_type": "code",
   "execution_count": null,
   "metadata": {},
   "outputs": [],
   "source": []
  }
 ],
 "metadata": {
  "kernelspec": {
   "display_name": "Python 3",
   "language": "python",
   "name": "python3"
  },
  "language_info": {
   "codemirror_mode": {
    "name": "ipython",
    "version": 3
   },
   "file_extension": ".py",
   "mimetype": "text/x-python",
   "name": "python",
   "nbconvert_exporter": "python",
   "pygments_lexer": "ipython3",
   "version": "3.7.4"
  }
 },
 "nbformat": 4,
 "nbformat_minor": 2
}
