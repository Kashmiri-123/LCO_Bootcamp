{
 "cells": [
  {
   "cell_type": "code",
   "execution_count": null,
   "metadata": {},
   "outputs": [],
   "source": [
    "For binary number fedcba , Decimal number = f * 25 + e * 24 + d * 23 + …..+ a * 20.\n",
    "1010101"
   ]
  },
  {
   "cell_type": "code",
   "execution_count": null,
   "metadata": {},
   "outputs": [],
   "source": [
    "test_cases=int(input(\"Enter the number of test cases : \"))\n",
    "while test_cases>0:\n",
    "    number=int(input(\"Enter the number : \"))\n",
    "    carrier=0\n",
    "    watch=0\n",
    "    i=0\n",
    "    while number>0:\n",
    "        watch=number%10\n",
    "        carrier=carrier+(watch*(2**i))\n",
    "        number/=10\n",
    "        number=int(number)\n",
    "        i+=1\n",
    "    print(carrier)\n",
    "    test_cases-=1"
   ]
  },
  {
   "cell_type": "code",
   "execution_count": 14,
   "metadata": {},
   "outputs": [
    {
     "name": "stdout",
     "output_type": "stream",
     "text": [
      "Enter : 6\n",
      "1\n",
      "11\n",
      "111\n",
      "1001\n",
      "11111\n",
      "100001\n"
     ]
    }
   ],
   "source": [
    "num=int(input(\"Enter : \"))\n",
    "print(\"1\")\n",
    "for i in range(2,num+1):\n",
    "    if i%2!=0:\n",
    "        print(i*\"1\")\n",
    "    elif i%2==0:\n",
    "        print(\"1\",end=\"\")\n",
    "        for j in range(1,i-1):\n",
    "            print(\"0\",end=\"\")\n",
    "        print(\"1\")\n",
    "        "
   ]
  },
  {
   "cell_type": "code",
   "execution_count": 21,
   "metadata": {},
   "outputs": [
    {
     "name": "stdout",
     "output_type": "stream",
     "text": [
      "Enter : 100000000\n"
     ]
    }
   ],
   "source": [
    "num=int(input(\"Enter : \"))\n",
    "if num<=1000:\n",
    "    print(\"1\")\n",
    "    print(\"11\")\n",
    "    for i in range(2,num+1):\n",
    "        print(i,end=\"\")\n",
    "        for j in range(1,i):\n",
    "            print(\"0\",end=\"\")\n",
    "        print(i)\n",
    "else:\n",
    "    pass"
   ]
  },
  {
   "cell_type": "code",
   "execution_count": 4,
   "metadata": {},
   "outputs": [
    {
     "name": "stdout",
     "output_type": "stream",
     "text": [
      "3 1\n",
      "4\n",
      "5 6\n",
      "11\n",
      "\n"
     ]
    }
   ],
   "source": [
    "while(1):\n",
    "    try:\n",
    "        a,b=input().split()\n",
    "        a=int(a)\n",
    "        b=int(b)\n",
    "        print(a+b)\n",
    "        a=0\n",
    "        b=0\n",
    "    except:\n",
    "        break"
   ]
  },
  {
   "cell_type": "code",
   "execution_count": 3,
   "metadata": {},
   "outputs": [
    {
     "name": "stdout",
     "output_type": "stream",
     "text": [
      "2\n",
      "5 14\n",
      "0.7999999999999998\n",
      "No\n",
      "3 21\n",
      "0.0\n",
      "Yes\n"
     ]
    }
   ],
   "source": [
    "test_cases=int(input())\n",
    "while test_cases:\n",
    "    a,b=input().split()\n",
    "    a=int(a)\n",
    "    b=int(b)\n",
    "    if a<=b:\n",
    "        x=b/a\n",
    "        y=int(x)\n",
    "        x=x-y\n",
    "        if x==0.0:\n",
    "            print(\"Yes\")\n",
    "        else:\n",
    "            print(\"No\")\n",
    "    else:\n",
    "        print(\"No\")\n",
    "    test_cases-=1"
   ]
  },
  {
   "cell_type": "code",
   "execution_count": null,
   "metadata": {},
   "outputs": [],
   "source": []
  }
 ],
 "metadata": {
  "kernelspec": {
   "display_name": "Python 3",
   "language": "python",
   "name": "python3"
  },
  "language_info": {
   "codemirror_mode": {
    "name": "ipython",
    "version": 3
   },
   "file_extension": ".py",
   "mimetype": "text/x-python",
   "name": "python",
   "nbconvert_exporter": "python",
   "pygments_lexer": "ipython3",
   "version": "3.7.4"
  }
 },
 "nbformat": 4,
 "nbformat_minor": 2
}
