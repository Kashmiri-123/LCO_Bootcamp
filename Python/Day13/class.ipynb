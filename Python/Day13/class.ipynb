{
 "cells": [
  {
   "cell_type": "code",
   "execution_count": 1,
   "metadata": {},
   "outputs": [
    {
     "name": "stdout",
     "output_type": "stream",
     "text": [
      "Enter the number of test cases : 4\n",
      "Enter the number : 101\n",
      "watch 1\n",
      "Car 1\n",
      "10\n",
      "watch 0\n",
      "Car 1\n",
      "1\n",
      "watch 1\n",
      "Car 5\n",
      "0\n",
      "5\n",
      "Enter the number : 1111\n",
      "watch 1\n",
      "Car 1\n",
      "111\n",
      "watch 1\n",
      "Car 3\n",
      "11\n",
      "watch 1\n",
      "Car 7\n",
      "1\n",
      "watch 1\n",
      "Car 15\n",
      "0\n",
      "15\n",
      "Enter the number : 00110\n",
      "watch 0\n",
      "Car 0\n",
      "11\n",
      "watch 1\n",
      "Car 2\n",
      "1\n",
      "watch 1\n",
      "Car 6\n",
      "0\n",
      "6\n",
      "Enter the number : 111111\n",
      "watch 1\n",
      "Car 1\n",
      "11111\n",
      "watch 1\n",
      "Car 3\n",
      "1111\n",
      "watch 1\n",
      "Car 7\n",
      "111\n",
      "watch 1\n",
      "Car 15\n",
      "11\n",
      "watch 1\n",
      "Car 31\n",
      "1\n",
      "watch 1\n",
      "Car 63\n",
      "0\n",
      "63\n"
     ]
    }
   ],
   "source": [
    "test_cases=int(input(\"Enter the number of test cases : \"))\n",
    "while test_cases>0:\n",
    "    number=int(input(\"Enter the number : \"))\n",
    "    carrier=0\n",
    "    watch=0\n",
    "    i=0\n",
    "    while number>0:\n",
    "        watch=number%10\n",
    "        carrier=carrier+(watch*(2**i))\n",
    "        number/=10\n",
    "        number=int(number)\n",
    "        print(number)\n",
    "        i+=1\n",
    "    print(carrier)\n",
    "    test_cases-=1"
   ]
  },
  {
   "cell_type": "code",
   "execution_count": null,
   "metadata": {},
   "outputs": [],
   "source": [
    "4\n",
    "101\n",
    "1111\n",
    "00110\n",
    "111111\n",
    "Sample Output\n",
    "5\n",
    "15\n",
    "6\n",
    "63"
   ]
  }
 ],
 "metadata": {
  "kernelspec": {
   "display_name": "Python 3",
   "language": "python",
   "name": "python3"
  },
  "language_info": {
   "codemirror_mode": {
    "name": "ipython",
    "version": 3
   },
   "file_extension": ".py",
   "mimetype": "text/x-python",
   "name": "python",
   "nbconvert_exporter": "python",
   "pygments_lexer": "ipython3",
   "version": "3.7.4"
  }
 },
 "nbformat": 4,
 "nbformat_minor": 2
}
