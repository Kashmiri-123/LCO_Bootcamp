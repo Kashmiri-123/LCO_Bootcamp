{
 "cells": [
  {
   "cell_type": "code",
   "execution_count": 2,
   "metadata": {},
   "outputs": [
    {
     "name": "stdout",
     "output_type": "stream",
     "text": [
      "Welcome: Mercury Tours\n",
      "http://newtours.demoaut.com/\n"
     ]
    }
   ],
   "source": [
    "from selenium import webdriver\n",
    "from selenium.webdriver.common.keys import Keys\n",
    "\n",
    "driver=webdriver.Chrome(executable_path=\"C:\\\\Users\\\\Kashmiri\\\\Documents\\\\chromedriver_win32 (1)\\\\chromedriver.exe\")\n",
    "driver.get(\"http://newtours.demoaut.com/\")\n",
    "print(driver.title)\n",
    "print(driver.current_url)\n",
    "driver.close()"
   ]
  },
  {
   "cell_type": "code",
   "execution_count": 12,
   "metadata": {
    "scrolled": true
   },
   "outputs": [
    {
     "name": "stdout",
     "output_type": "stream",
     "text": [
      "Frames & windows\n",
      "http://demo.automationtesting.in/Windows.html\n"
     ]
    }
   ],
   "source": [
    "from selenium import webdriver\n",
    "from selenium.webdriver.common.keys import Keys\n",
    "driver=webdriver.Chrome(executable_path=\"C:\\\\Users\\\\Kashmiri\\\\Documents\\\\chromedriver_win32 (1)\\\\chromedriver.exe\")\n",
    "driver.get(\"http://demo.automationtesting.in/Windows.html\")\n",
    "print(driver.title)\n",
    "print(driver.current_url)\n",
    "button=driver.find_element_by_xpath('//*[@id=\"Tabbed\"]/a/button').click()\n",
    "#driver.close()##only one window gets close(currently focused browser)\n",
    "driver.quit()#all the windows get close"
   ]
  },
  {
   "cell_type": "markdown",
   "metadata": {},
   "source": [
    "# NAvigation"
   ]
  },
  {
   "cell_type": "code",
   "execution_count": 1,
   "metadata": {},
   "outputs": [],
   "source": [
    "\n",
    "import time\n",
    "from selenium import webdriver\n",
    "from selenium.webdriver.common.keys import Keys\n",
    "driver=webdriver.Chrome(executable_path=\"C:\\\\Users\\\\Kashmiri\\\\Documents\\\\chromedriver_win32 (1)\\\\chromedriver.exe\")\n",
    "driver.get(\"http://newtours.demoaut.com/\")\n",
    "time.sleep(5)\n",
    "driver.get(\"http://youtube.com/\")\n",
    "driver.back()\n",
    "driver.forward()"
   ]
  },
  {
   "cell_type": "markdown",
   "metadata": {},
   "source": [
    "# Conditioal commands"
   ]
  },
  {
   "cell_type": "code",
   "execution_count": null,
   "metadata": {},
   "outputs": [],
   "source": [
    "from selenium import webdriver\n",
    "from selenium.webdriver.common.keys import Keys\n",
    "driver=webdriver.Chrome(executable_path=\"C:\\\\Users\\\\Kashmiri\\\\Documents\\\\chromedriver_win32 (1)\\\\chromedriver.exe\")\n",
    "driver.get(\"http://newtours.demoaut.com/\")\n",
    "user_name=driver.find_element_by_xpath('/html/body/div/table/tbody/tr/td[2]/table/tbody/tr[4]/td/table/tbody/tr/td[2]/table/tbody/tr[2]/td[3]/form/table/tbody/tr[4]/td/table/tbody/tr[2]/td[2]/input')\n",
    "print(user_name.is_displayed())\n",
    "print(user_name.is_enabled())\n",
    "password=driver.find_element_by_name('password')\n",
    "if user_name.is_displayed() and password.is_displayed():\n",
    "    user_name.send_keys(\"mercury\")\n",
    "    password.send_keys(\"mercury\")\n",
    "    driver.find_element_by_xpath('/html/body/div/table/tbody/tr/td[2]/table/tbody/tr[4]/td/table/tbody/tr/td[2]/table/tbody/tr[2]/td[3]/form/table/tbody/tr[4]/td/table/tbody/tr[4]/td[2]/div/input').click()\n",
    "    round_trip=driver.find_element_by_css_selector('input[value=roundtrip]')\n",
    "    one_trip=driver.find_element_by_css_selector('input[value=oneway]')\n",
    "    if round_trip.is_selected():\n",
    "        one_trip.click()\n",
    "        print(\"One way selected\")\n",
    "        continue_btn=driver.find_element_by_xpath('/html/body/div/table/tbody/tr/td[2]/table/tbody/tr[4]/td/table/tbody/tr/td[2]/table/tbody/tr[5]/td/form/table/tbody/tr[14]/td/input')\n",
    "        continue_btn.click()\n",
    "    else:\n",
    "        print(\"round trip selected\")\n",
    "else:\n",
    "    print(\"Something went wrong!\")\n"
   ]
  },
  {
   "cell_type": "code",
   "execution_count": null,
   "metadata": {},
   "outputs": [],
   "source": []
  },
  {
   "cell_type": "code",
   "execution_count": null,
   "metadata": {},
   "outputs": [],
   "source": []
  },
  {
   "cell_type": "code",
   "execution_count": null,
   "metadata": {},
   "outputs": [],
   "source": []
  },
  {
   "cell_type": "code",
   "execution_count": null,
   "metadata": {},
   "outputs": [],
   "source": []
  },
  {
   "cell_type": "code",
   "execution_count": null,
   "metadata": {},
   "outputs": [],
   "source": []
  },
  {
   "cell_type": "code",
   "execution_count": null,
   "metadata": {},
   "outputs": [],
   "source": []
  },
  {
   "cell_type": "code",
   "execution_count": null,
   "metadata": {},
   "outputs": [],
   "source": []
  },
  {
   "cell_type": "code",
   "execution_count": null,
   "metadata": {},
   "outputs": [],
   "source": []
  },
  {
   "cell_type": "code",
   "execution_count": null,
   "metadata": {},
   "outputs": [],
   "source": []
  },
  {
   "cell_type": "code",
   "execution_count": null,
   "metadata": {},
   "outputs": [],
   "source": []
  }
 ],
 "metadata": {
  "kernelspec": {
   "display_name": "Python 3",
   "language": "python",
   "name": "python3"
  },
  "language_info": {
   "codemirror_mode": {
    "name": "ipython",
    "version": 3
   },
   "file_extension": ".py",
   "mimetype": "text/x-python",
   "name": "python",
   "nbconvert_exporter": "python",
   "pygments_lexer": "ipython3",
   "version": "3.7.4"
  }
 },
 "nbformat": 4,
 "nbformat_minor": 2
}
