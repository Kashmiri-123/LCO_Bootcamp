{
 "cells": [
  {
   "cell_type": "code",
   "execution_count": 2,
   "metadata": {},
   "outputs": [
    {
     "name": "stdout",
     "output_type": "stream",
     "text": [
      "Welcome: Mercury Tours\n",
      "http://newtours.demoaut.com/\n"
     ]
    }
   ],
   "source": [
    "from selenium import webdriver\n",
    "from selenium.webdriver.common.keys import Keys\n",
    "\n",
    "driver=webdriver.Chrome(executable_path=\"C:\\\\Users\\\\Kashmiri\\\\Documents\\\\chromedriver_win32 (1)\\\\chromedriver.exe\")\n",
    "driver.get(\"http://newtours.demoaut.com/\")\n",
    "print(driver.title)\n",
    "print(driver.current_url)\n",
    "driver.close()"
   ]
  },
  {
   "cell_type": "code",
   "execution_count": 12,
   "metadata": {
    "scrolled": true
   },
   "outputs": [
    {
     "name": "stdout",
     "output_type": "stream",
     "text": [
      "Frames & windows\n",
      "http://demo.automationtesting.in/Windows.html\n"
     ]
    }
   ],
   "source": [
    "from selenium import webdriver\n",
    "from selenium.webdriver.common.keys import Keys\n",
    "driver=webdriver.Chrome(executable_path=\"C:\\\\Users\\\\Kashmiri\\\\Documents\\\\chromedriver_win32 (1)\\\\chromedriver.exe\")\n",
    "driver.get(\"http://demo.automationtesting.in/Windows.html\")\n",
    "print(driver.title)\n",
    "print(driver.current_url)\n",
    "button=driver.find_element_by_xpath('//*[@id=\"Tabbed\"]/a/button').click()\n",
    "#driver.close()##only one window gets close(currently focused browser)\n",
    "driver.quit()#all the windows get close"
   ]
  },
  {
   "cell_type": "code",
   "execution_count": 1,
   "metadata": {},
   "outputs": [],
   "source": [
    "##NAvigation\n",
    "import time\n",
    "from selenium import webdriver\n",
    "from selenium.webdriver.common.keys import Keys\n",
    "driver=webdriver.Chrome(executable_path=\"C:\\\\Users\\\\Kashmiri\\\\Documents\\\\chromedriver_win32 (1)\\\\chromedriver.exe\")\n",
    "driver.get(\"http://newtours.demoaut.com/\")\n",
    "time.sleep(5)\n",
    "driver.get(\"http://youtube.com/\")\n",
    "driver.back()\n",
    "driver.forward()"
   ]
  },
  {
   "cell_type": "code",
   "execution_count": 18,
   "metadata": {},
   "outputs": [
    {
     "name": "stdout",
     "output_type": "stream",
     "text": [
      "True\n",
      "True\n"
     ]
    },
    {
     "ename": "AttributeError",
     "evalue": "'WebDriver' object has no attribute 'find_element_by_css_selector_'",
     "output_type": "error",
     "traceback": [
      "\u001b[1;31m---------------------------------------------------------------------------\u001b[0m",
      "\u001b[1;31mAttributeError\u001b[0m                            Traceback (most recent call last)",
      "\u001b[1;32m<ipython-input-18-23e424ee076a>\u001b[0m in \u001b[0;36m<module>\u001b[1;34m\u001b[0m\n\u001b[0;32m     12\u001b[0m     \u001b[0mpassword\u001b[0m\u001b[1;33m.\u001b[0m\u001b[0msend_keys\u001b[0m\u001b[1;33m(\u001b[0m\u001b[1;34m\"mercury\"\u001b[0m\u001b[1;33m)\u001b[0m\u001b[1;33m\u001b[0m\u001b[1;33m\u001b[0m\u001b[0m\n\u001b[0;32m     13\u001b[0m     \u001b[0mdriver\u001b[0m\u001b[1;33m.\u001b[0m\u001b[0mfind_element_by_xpath\u001b[0m\u001b[1;33m(\u001b[0m\u001b[1;34m'/html/body/div/table/tbody/tr/td[2]/table/tbody/tr[4]/td/table/tbody/tr/td[2]/table/tbody/tr[2]/td[3]/form/table/tbody/tr[4]/td/table/tbody/tr[4]/td[2]/div/input'\u001b[0m\u001b[1;33m)\u001b[0m\u001b[1;33m.\u001b[0m\u001b[0mclick\u001b[0m\u001b[1;33m(\u001b[0m\u001b[1;33m)\u001b[0m\u001b[1;33m\u001b[0m\u001b[1;33m\u001b[0m\u001b[0m\n\u001b[1;32m---> 14\u001b[1;33m     \u001b[0mround_trip\u001b[0m\u001b[1;33m=\u001b[0m\u001b[0mdriver\u001b[0m\u001b[1;33m.\u001b[0m\u001b[0mfind_element_by_css_selector_\u001b[0m\u001b[1;33m(\u001b[0m\u001b[1;34m'input[value=roundtrip]'\u001b[0m\u001b[1;33m)\u001b[0m\u001b[1;33m\u001b[0m\u001b[1;33m\u001b[0m\u001b[0m\n\u001b[0m\u001b[0;32m     15\u001b[0m     \u001b[0mone_trip\u001b[0m\u001b[1;33m=\u001b[0m\u001b[0mdriver\u001b[0m\u001b[1;33m.\u001b[0m\u001b[0mfind_element_by_css_selector_\u001b[0m\u001b[1;33m(\u001b[0m\u001b[1;34m'input[value=oneway]'\u001b[0m\u001b[1;33m)\u001b[0m\u001b[1;33m\u001b[0m\u001b[1;33m\u001b[0m\u001b[0m\n\u001b[0;32m     16\u001b[0m     \u001b[1;32mif\u001b[0m \u001b[0mround_trip\u001b[0m\u001b[1;33m.\u001b[0m\u001b[0mis_selected\u001b[0m\u001b[1;33m(\u001b[0m\u001b[1;33m)\u001b[0m\u001b[1;33m:\u001b[0m\u001b[1;33m\u001b[0m\u001b[1;33m\u001b[0m\u001b[0m\n",
      "\u001b[1;31mAttributeError\u001b[0m: 'WebDriver' object has no attribute 'find_element_by_css_selector_'"
     ]
    }
   ],
   "source": [
    "##Conditioal commands\n",
    "from selenium import webdriver\n",
    "from selenium.webdriver.common.keys import Keys\n",
    "driver=webdriver.Chrome(executable_path=\"C:\\\\Users\\\\Kashmiri\\\\Documents\\\\chromedriver_win32 (1)\\\\chromedriver.exe\")\n",
    "driver.get(\"http://newtours.demoaut.com/\")\n",
    "user_name=driver.find_element_by_xpath('/html/body/div/table/tbody/tr/td[2]/table/tbody/tr[4]/td/table/tbody/tr/td[2]/table/tbody/tr[2]/td[3]/form/table/tbody/tr[4]/td/table/tbody/tr[2]/td[2]/input')\n",
    "print(user_name.is_displayed())\n",
    "print(user_name.is_enabled())\n",
    "password=driver.find_element_by_name('password')\n",
    "if user_name.is_displayed() and password.is_displayed():\n",
    "    user_name.send_keys(\"mercury\")\n",
    "    password.send_keys(\"mercury\")\n",
    "    driver.find_element_by_xpath('/html/body/div/table/tbody/tr/td[2]/table/tbody/tr[4]/td/table/tbody/tr/td[2]/table/tbody/tr[2]/td[3]/form/table/tbody/tr[4]/td/table/tbody/tr[4]/td[2]/div/input').click()\n",
    "    round_trip=driver.find_element_by_css_selector('input[value=roundtrip]')\n",
    "    one_trip=driver.find_element_by_value('One Way')\n",
    "    if round_trip.is_selected():\n",
    "        one_trip.click()\n",
    "        print(\"One way selected\")\n",
    "    else:\n",
    "        print(\"round trip selected\")\n",
    "else:\n",
    "    print(\"Something went wrong!\")\n"
   ]
  },
  {
   "cell_type": "code",
   "execution_count": 9,
   "metadata": {},
   "outputs": [
    {
     "name": "stdout",
     "output_type": "stream",
     "text": [
      "Element not found\n"
     ]
    }
   ],
   "source": [
    "driver=webdriver.Chrome(executable_path=\"C:\\\\Users\\\\Kashmiri\\\\Documents\\\\chromedriver_win32 (1)\\\\chromedriver.exe\")\n",
    "driver.get(\"http://newtours.demoaut.com/\")\n",
    "try:\n",
    "    element = driver.find_element_by_name('user')\n",
    "    if element.is_displayed():\n",
    "        print(\"Element Found\")\n",
    "        element.send_keys(\"Dikhit\")\n",
    "        \n",
    "except:\n",
    "    print(\"Element not found\")\n",
    "    \n",
    "time.sleep(5)\n",
    "driver.quit()"
   ]
  },
  {
   "cell_type": "code",
   "execution_count": 14,
   "metadata": {},
   "outputs": [
    {
     "name": "stdout",
     "output_type": "stream",
     "text": [
      "Element Found\n",
      "round trip selected\n"
     ]
    }
   ],
   "source": [
    "drivers=webdriver.Chrome(executable_path=\"C:\\\\Users\\\\Kashmiri\\\\Documents\\\\chromedriver_win32 (1)\\\\chromedriver.exe\")\n",
    "drivers.get(\"http://newtours.demoaut.com/\")\n",
    "name_element = drivers.find_element_by_name(\"userName\")\n",
    "pass_element = drivers.find_element_by_name(\"password\")\n",
    "if name_element.is_displayed() and pass_element.is_displayed():\n",
    "    print(\"Element Found\")\n",
    "    name_element.send_keys(\"mercury\")\n",
    "    pass_element.send_keys(\"mercury\")\n",
    "else:\n",
    "    print(\"Element not found\")\n",
    "log_in_element = drivers.find_element_by_name('login').click()\n",
    "trip = drivers.find_element_by_xpath('/html/body/div/table/tbody/tr/td[2]/table/tbody/tr[4]/td/table/tbody/tr/td[2]/table/tbody/tr[5]/td/form/table/tbody/tr[2]/td[2]/b/font/input[1]')\n",
    "if trip.is_selected():\n",
    "    print(\"round trip selected\")\n",
    "else:\n",
    "    print(\"nothing\")\n",
    "time.sleep(5)\n",
    "drivers.quit()"
   ]
  },
  {
   "cell_type": "code",
   "execution_count": null,
   "metadata": {},
   "outputs": [],
   "source": []
  },
  {
   "cell_type": "code",
   "execution_count": null,
   "metadata": {},
   "outputs": [],
   "source": []
  },
  {
   "cell_type": "code",
   "execution_count": null,
   "metadata": {},
   "outputs": [],
   "source": []
  },
  {
   "cell_type": "code",
   "execution_count": null,
   "metadata": {},
   "outputs": [],
   "source": []
  },
  {
   "cell_type": "code",
   "execution_count": null,
   "metadata": {},
   "outputs": [],
   "source": []
  },
  {
   "cell_type": "code",
   "execution_count": null,
   "metadata": {},
   "outputs": [],
   "source": []
  },
  {
   "cell_type": "code",
   "execution_count": null,
   "metadata": {},
   "outputs": [],
   "source": []
  },
  {
   "cell_type": "code",
   "execution_count": null,
   "metadata": {},
   "outputs": [],
   "source": []
  },
  {
   "cell_type": "code",
   "execution_count": null,
   "metadata": {},
   "outputs": [],
   "source": []
  },
  {
   "cell_type": "code",
   "execution_count": null,
   "metadata": {},
   "outputs": [],
   "source": []
  },
  {
   "cell_type": "code",
   "execution_count": null,
   "metadata": {},
   "outputs": [],
   "source": []
  },
  {
   "cell_type": "code",
   "execution_count": null,
   "metadata": {},
   "outputs": [],
   "source": []
  }
 ],
 "metadata": {
  "kernelspec": {
   "display_name": "Python 3",
   "language": "python",
   "name": "python3"
  },
  "language_info": {
   "codemirror_mode": {
    "name": "ipython",
    "version": 3
   },
   "file_extension": ".py",
   "mimetype": "text/x-python",
   "name": "python",
   "nbconvert_exporter": "python",
   "pygments_lexer": "ipython3",
   "version": "3.7.4"
  }
 },
 "nbformat": 4,
 "nbformat_minor": 2
}
