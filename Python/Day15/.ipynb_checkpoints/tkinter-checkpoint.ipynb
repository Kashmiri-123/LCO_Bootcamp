{
 "cells": [
  {
   "cell_type": "code",
   "execution_count": 2,
   "metadata": {},
   "outputs": [
    {
     "name": "stdout",
     "output_type": "stream",
     "text": [
      "tkinter\n"
     ]
    }
   ],
   "source": [
    "print(\"tkinter\")"
   ]
  },
  {
   "cell_type": "code",
   "execution_count": 1,
   "metadata": {},
   "outputs": [],
   "source": [
    "import tkinter as tk\n",
    "root=tk.Tk()##constructor call\n",
    "root.title(\"My_App\")\n",
    "root.geometry(\"800x400+830+200\")##values after + are the offset values\n",
    "root.resizable(False,True)##frame resize\n",
    "root.mainloop()"
   ]
  },
  {
   "cell_type": "code",
   "execution_count": 37,
   "metadata": {},
   "outputs": [],
   "source": [
    "import tkinter as tk\n",
    "from tkinter import *\n",
    "root=tk.Tk()##constructor call\n",
    "root.title(\"My_App\")\n",
    "root.geometry(\"800x400+600+200\")\n",
    "fm=Frame(root,bg='blue',width=600,height=800)\n",
    "fm.grid(row=0,column=0)\n",
    "fm1=Frame(root,bg='yellow',width=600,height=800)\n",
    "fm1.grid(row=1,column=1)\n",
    "root.mainloop()"
   ]
  },
  {
   "cell_type": "code",
   "execution_count": 39,
   "metadata": {},
   "outputs": [],
   "source": [
    "import tkinter as tk\n",
    "from tkinter import *\n",
    "root=tk.Tk()##constructor call\n",
    "root.title(\"My_App\")\n",
    "root.geometry(\"800x400+600+200\")\n",
    "fm=Frame(root,bg='blue',width=600,height=800)\n",
    "fm.place(x=120,y=50)\n",
    "root.mainloop()"
   ]
  },
  {
   "cell_type": "code",
   "execution_count": 50,
   "metadata": {},
   "outputs": [],
   "source": [
    "import tkinter as tk\n",
    "from tkinter import *\n",
    "root=tk.Tk()##constructor call\n",
    "def method():\n",
    "    lbl[\"text\"]=(\"Button clicked\")\n",
    "root.title(\"My_App\")\n",
    "root.geometry(\"800x400+600+200\")\n",
    "fm=Frame(root,bg='blue',width=600,height=800)\n",
    "fm.place(x=12,y=50)\n",
    "lbl=Label(fm,fg='white',bg=\"black\")\n",
    "lbl.pack()\n",
    "e=Entry(fm, width=5)##input entry\n",
    "e.pack()\n",
    "btn=Button(fm,fg=\"black\",bg=\"white\",text=\"Click me\",command= lambda: method())\n",
    "btn.pack(padx=30,pady=30)\n",
    "root.mainloop()"
   ]
  },
  {
   "cell_type": "code",
   "execution_count": 21,
   "metadata": {},
   "outputs": [],
   "source": [
    "import tkinter as tk\n",
    "from tkinter import *\n",
    "root=tk.Tk()##constructor call\n",
    "def method():\n",
    "    data=e.get()\n",
    "    lbl['text']=data\n",
    "    e.delete(0,END)\n",
    "    \n",
    "root.title(\"My_App\")\n",
    "root.geometry(\"800x400+600+200\")\n",
    "fm=Frame(root,bg='blue',width=600,height=800)\n",
    "fm.place(x=12,y=50)\n",
    "lbl=Label(fm,fg='white',bg=\"black\")\n",
    "lbl.pack()\n",
    "e=Entry(fm, width=5)##input entry\n",
    "e.pack()\n",
    "btn=Button(fm,fg=\"black\",bg=\"white\",text=\"Click me\",command= lambda: method())\n",
    "btn.pack(padx=30,pady=30)\n",
    "root.mainloop()"
   ]
  },
  {
   "cell_type": "code",
   "execution_count": 2,
   "metadata": {},
   "outputs": [],
   "source": [
    "import tkinter as tk\n",
    "from tkinter import *\n",
    "root=tk.Tk()\n",
    "def even_generator():\n",
    "    data=user_input.get()\n",
    "    if int(data)%2==0:\n",
    "        lbl[\"text\"]=\"Even number\"\n",
    "    else :\n",
    "        lbl[\"text\"]=\"Not an even number\"\n",
    "    \n",
    "root.title(\"Even Number Finder\")\n",
    "root.geometry(\"400x400\")\n",
    "fm=Frame(root,bg=\"#74B9FF\",width=900,height=800)\n",
    "fm.place(x=70,y=90)\n",
    "lbl=Label(fm,fg='white',bg=\"#74B9FF\")\n",
    "lbl.pack()\n",
    "user_input=Entry(fm,width=40)\n",
    "user_input.pack()\n",
    "btn=Button(fm,fg=\"#192A56\",bg=\"white\",text=\"Click me\",command= lambda: even_generator())\n",
    "btn.pack(padx=30,pady=30)\n",
    "\n",
    "\n",
    "root.mainloop()"
   ]
  },
  {
   "cell_type": "code",
   "execution_count": null,
   "metadata": {},
   "outputs": [],
   "source": []
  },
  {
   "cell_type": "code",
   "execution_count": null,
   "metadata": {},
   "outputs": [],
   "source": []
  },
  {
   "cell_type": "code",
   "execution_count": null,
   "metadata": {},
   "outputs": [],
   "source": []
  },
  {
   "cell_type": "code",
   "execution_count": null,
   "metadata": {},
   "outputs": [],
   "source": []
  },
  {
   "cell_type": "code",
   "execution_count": null,
   "metadata": {},
   "outputs": [],
   "source": []
  }
 ],
 "metadata": {
  "kernelspec": {
   "display_name": "Python 3",
   "language": "python",
   "name": "python3"
  },
  "language_info": {
   "codemirror_mode": {
    "name": "ipython",
    "version": 3
   },
   "file_extension": ".py",
   "mimetype": "text/x-python",
   "name": "python",
   "nbconvert_exporter": "python",
   "pygments_lexer": "ipython3",
   "version": "3.7.4"
  }
 },
 "nbformat": 4,
 "nbformat_minor": 2
}
