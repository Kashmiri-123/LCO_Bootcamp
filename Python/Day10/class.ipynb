{
 "cells": [
  {
   "cell_type": "code",
   "execution_count": 2,
   "metadata": {},
   "outputs": [],
   "source": [
    "with open(\"pic.jpg\",\"rb\") as p:\n",
    "    data=p.read()\n",
    "with open(\"gallery.jpg\",\"wb\") as g:\n",
    "    g.write(data)"
   ]
  },
  {
   "cell_type": "code",
   "execution_count": 36,
   "metadata": {},
   "outputs": [
    {
     "name": "stdout",
     "output_type": "stream",
     "text": [
      "File copied\n"
     ]
    }
   ],
   "source": [
    "import os\n",
    "def file_copy(source_path,des_path):\n",
    "    if os.path.exists(source_path):\n",
    "        with open(source_path,\"rb\") as p:\n",
    "            data=p.read()\n",
    "        if os.path.isdir(des_path):\n",
    "            with open(des_path+\"\\\\pic.jpg\",\"wb\") as r:\n",
    "                r.write(data)\n",
    "                print(\"File copied\")\n",
    "        else:\n",
    "            print(\"Destination path not valid.\")\n",
    "    else:\n",
    "        print(\"Source path not valid.\")\n",
    "file_copy(\"C:\\\\Users\\\\Kashmiri\\\\Downloads\\\\pic.jpg\",\"C:\\\\Users\\\\Kashmiri\\\\Pictures\")"
   ]
  },
  {
   "cell_type": "code",
   "execution_count": null,
   "metadata": {},
   "outputs": [],
   "source": [
    "API handling in python\n",
    "hard\n",
    "json"
   ]
  },
  {
   "cell_type": "code",
   "execution_count": null,
   "metadata": {},
   "outputs": [],
   "source": []
  },
  {
   "cell_type": "code",
   "execution_count": null,
   "metadata": {},
   "outputs": [],
   "source": []
  },
  {
   "cell_type": "code",
   "execution_count": null,
   "metadata": {},
   "outputs": [],
   "source": []
  }
 ],
 "metadata": {
  "kernelspec": {
   "display_name": "Python 3",
   "language": "python",
   "name": "python3"
  },
  "language_info": {
   "codemirror_mode": {
    "name": "ipython",
    "version": 3
   },
   "file_extension": ".py",
   "mimetype": "text/x-python",
   "name": "python",
   "nbconvert_exporter": "python",
   "pygments_lexer": "ipython3",
   "version": "3.7.4"
  }
 },
 "nbformat": 4,
 "nbformat_minor": 2
}
