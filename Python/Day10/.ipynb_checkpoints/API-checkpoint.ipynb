{
 "cells": [
  {
   "cell_type": "code",
   "execution_count": 3,
   "metadata": {},
   "outputs": [
    {
     "data": {
      "text/plain": [
       "{'login': 'Kashmiri-123',\n",
       " 'id': 42890352,\n",
       " 'node_id': 'MDQ6VXNlcjQyODkwMzUy',\n",
       " 'avatar_url': 'https://avatars3.githubusercontent.com/u/42890352?v=4',\n",
       " 'gravatar_id': '',\n",
       " 'url': 'https://api.github.com/users/Kashmiri-123',\n",
       " 'html_url': 'https://github.com/Kashmiri-123',\n",
       " 'followers_url': 'https://api.github.com/users/Kashmiri-123/followers',\n",
       " 'following_url': 'https://api.github.com/users/Kashmiri-123/following{/other_user}',\n",
       " 'gists_url': 'https://api.github.com/users/Kashmiri-123/gists{/gist_id}',\n",
       " 'starred_url': 'https://api.github.com/users/Kashmiri-123/starred{/owner}{/repo}',\n",
       " 'subscriptions_url': 'https://api.github.com/users/Kashmiri-123/subscriptions',\n",
       " 'organizations_url': 'https://api.github.com/users/Kashmiri-123/orgs',\n",
       " 'repos_url': 'https://api.github.com/users/Kashmiri-123/repos',\n",
       " 'events_url': 'https://api.github.com/users/Kashmiri-123/events{/privacy}',\n",
       " 'received_events_url': 'https://api.github.com/users/Kashmiri-123/received_events',\n",
       " 'type': 'User',\n",
       " 'site_admin': False,\n",
       " 'name': 'Kashmiri Mahanta',\n",
       " 'company': None,\n",
       " 'blog': '',\n",
       " 'location': None,\n",
       " 'email': None,\n",
       " 'hireable': None,\n",
       " 'bio': None,\n",
       " 'public_repos': 10,\n",
       " 'public_gists': 2,\n",
       " 'followers': 6,\n",
       " 'following': 3,\n",
       " 'created_at': '2018-09-01T11:22:49Z',\n",
       " 'updated_at': '2020-01-22T14:24:13Z',\n",
       " 'private_gists': 0,\n",
       " 'total_private_repos': 12,\n",
       " 'owned_private_repos': 11,\n",
       " 'disk_usage': 190904,\n",
       " 'collaborators': 3,\n",
       " 'two_factor_authentication': False,\n",
       " 'plan': {'name': 'free',\n",
       "  'space': 976562499,\n",
       "  'collaborators': 0,\n",
       "  'private_repos': 10000}}"
      ]
     },
     "execution_count": 3,
     "metadata": {},
     "output_type": "execute_result"
    }
   ],
   "source": [
    "import requests as rq\n",
    "r = rq.get('https://api.github.com/user', auth=('Kashmiri-123', 'aim123@#'))\n",
    "r.json()"
   ]
  },
  {
   "cell_type": "code",
   "execution_count": 14,
   "metadata": {},
   "outputs": [
    {
     "name": "stdout",
     "output_type": "stream",
     "text": [
      "Enter username : Kashmiri-123\n",
      "Enter password\n",
      "········\n",
      "Total number of repositories is 22\n",
      "\n",
      "\n",
      "\n",
      "PRINTING THE REPOSITORIES : \n",
      "Repository no. 1  API_Fetch-Edamam-\n",
      "Repository no. 2  Blockchain-Interaction\n",
      "Repository no. 3  BlockChain-Transaction\n",
      "Repository no. 4  Desktop-Application\n",
      "Repository no. 5  Evernote-Clone\n",
      "Repository no. 6  Faculty_Student_WebApp\n",
      "Repository no. 7  hornbill-components\n",
      "Repository no. 8  NodeJs_API_Authentication\n",
      "Repository no. 9  Photo-Clicker\n",
      "Repository no. 10  Whatsapp_UI\n"
     ]
    }
   ],
   "source": [
    "import requests as rq\n",
    "import getpass\n",
    "user_name=input(\"Enter username : \")\n",
    "print(\"Enter password\")\n",
    "try: \n",
    "    passwaord = getpass.getpass() \n",
    "except Exception as error: \n",
    "    print('ERROR', error)\n",
    "r = rq.get('https://api.github.com/user', auth=(user_name, password))\n",
    "data=r.json()\n",
    "public_repo=data[\"public_repos\"]\n",
    "private_repo=data[\"total_private_repos\"]\n",
    "total_repo=public_repo+private_repo\n",
    "print(\"Total number of repositories is\",str(total_repo))\n",
    "print(\"\\n\\n\")\n",
    "print(\"PRINTING THE REPOSITORIES : \")\n",
    "name=\"Kashmiri-123\"\n",
    "repo=rq.get(\"https://api.github.com/users/\"+name+\"/repos\")\n",
    "repos=repo.json()\n",
    "for i in range(len(repos)):\n",
    "    print(\"Repository no.\",i+1,end=\"  \")\n",
    "    print(repos[i]['name'])"
   ]
  },
  {
   "cell_type": "code",
   "execution_count": 41,
   "metadata": {},
   "outputs": [
    {
     "name": "stdout",
     "output_type": "stream",
     "text": [
      "Random User Api \n"
     ]
    },
    {
     "data": {
      "text/plain": [
       "{'results': [{'gender': 'female',\n",
       "   'name': {'title': 'Miss', 'first': 'Emma', 'last': 'Johansen'},\n",
       "   'location': {'street': {'number': 7854, 'name': 'Vesterhavsgade'},\n",
       "    'city': 'Aalborg S.Ø.',\n",
       "    'state': 'Nordjylland',\n",
       "    'country': 'Denmark',\n",
       "    'postcode': 97216,\n",
       "    'coordinates': {'latitude': '-27.8265', 'longitude': '75.5143'},\n",
       "    'timezone': {'offset': '+4:00',\n",
       "     'description': 'Abu Dhabi, Muscat, Baku, Tbilisi'}},\n",
       "   'email': 'emma.johansen@example.com',\n",
       "   'login': {'uuid': '4409ce09-f735-401b-9380-d142ab67f745',\n",
       "    'username': 'angrysnake191',\n",
       "    'password': 'love123',\n",
       "    'salt': 'BnudfSvl',\n",
       "    'md5': '95d1b390de51c0d251719265b4fa6141',\n",
       "    'sha1': '824afbbe962ee653488968e4d152e8e45946d4de',\n",
       "    'sha256': '7f009d18fa35c0d22b1e2b3d23c6986862b3046db6bc452d83f024f92ee012d1'},\n",
       "   'dob': {'date': '1961-03-17T21:26:30.187Z', 'age': 59},\n",
       "   'registered': {'date': '2004-08-26T05:09:19.386Z', 'age': 16},\n",
       "   'phone': '74494234',\n",
       "   'cell': '24296303',\n",
       "   'id': {'name': 'CPR', 'value': '170361-3140'},\n",
       "   'picture': {'large': 'https://randomuser.me/api/portraits/women/62.jpg',\n",
       "    'medium': 'https://randomuser.me/api/portraits/med/women/62.jpg',\n",
       "    'thumbnail': 'https://randomuser.me/api/portraits/thumb/women/62.jpg'},\n",
       "   'nat': 'DK'}],\n",
       " 'info': {'seed': '8f52e48a0a9dde37',\n",
       "  'results': 1,\n",
       "  'page': 1,\n",
       "  'version': '1.3'}}"
      ]
     },
     "execution_count": 41,
     "metadata": {},
     "output_type": "execute_result"
    }
   ],
   "source": [
    "import requests as rq\n",
    "print(\"Random User Api \")\n",
    "get_data=rq.get(\"https://randomuser.me/api/\")\n",
    "convert_data=get_data.json()\n",
    "catch_data=convert_data[results]\n",
    "catch_data"
   ]
  },
  {
   "cell_type": "code",
   "execution_count": 23,
   "metadata": {},
   "outputs": [
    {
     "name": "stdout",
     "output_type": "stream",
     "text": [
      "Random User Api \n",
      "Name Miss Livia Braathen\n",
      "Age 41\n",
      "Email livia.braathen@example.com\n",
      "Phone 21192544\n",
      "Phone https://randomuser.me/api/portraits/med/women/73.jpg\n"
     ]
    }
   ],
   "source": [
    "import requests as rq\n",
    "print(\"Random User Api \")\n",
    "get_data=rq.get(\"https://randomuser.me/api/\")\n",
    "convert_data=get_data.json()\n",
    "catch_data=convert_data[\"results\"]\n",
    "for i in range(len(catch_data)):\n",
    "    print(\"Name\",catch_data[i][\"name\"][\"title\"],catch_data[i][\"name\"][\"first\"],catch_data[i][\"name\"][\"last\"])\n",
    "    print(\"Age\",catch_data[i][\"dob\"][\"age\"])    \n",
    "    print(\"Email\",catch_data[i][\"email\"])    \n",
    "    print(\"Phone\",catch_data[i][\"phone\"])\n",
    "    print(\"Phone\",catch_data[i][\"picture\"][\"medium\"])    "
   ]
  },
  {
   "cell_type": "code",
   "execution_count": 44,
   "metadata": {},
   "outputs": [
    {
     "name": "stdout",
     "output_type": "stream",
     "text": [
      "Weather Api \n"
     ]
    },
    {
     "data": {
      "text/plain": [
       "{'cod': 401,\n",
       " 'message': 'Invalid API key. Please see http://openweathermap.org/faq#error401 for more info.'}"
      ]
     },
     "execution_count": 44,
     "metadata": {},
     "output_type": "execute_result"
    }
   ],
   "source": [
    "import requests as rq\n",
    "import geocoder\n",
    "g = geocoder.ip('me')\n",
    "lat=g.latlng[0]\n",
    "long=g.latlng[1]\n",
    "print(\"Weather Api \")\n",
    "# get_data=rq.get(\"api.openweathermap.org/data/2.5/weather?lat=\"+str(lat)+\"&lon=\"+str(long))\n",
    "get_data=rq.get(\"http://api.openweathermap.org/data/2.5/weather?lat=26.9196&lon=75.7878?\")\n",
    "json_data=get_data.json()\n",
    "json_data\n"
   ]
  },
  {
   "cell_type": "code",
   "execution_count": 28,
   "metadata": {},
   "outputs": [
    {
     "name": "stdout",
     "output_type": "stream",
     "text": [
      "[26.9196, 75.7878]\n"
     ]
    }
   ],
   "source": [
    "import geocoder\n",
    "g = geocoder.ip('me')\n",
    "print(g.latlng)"
   ]
  },
  {
   "cell_type": "code",
   "execution_count": 72,
   "metadata": {},
   "outputs": [
    {
     "ename": "KeyError",
     "evalue": "'articles'",
     "output_type": "error",
     "traceback": [
      "\u001b[1;31m---------------------------------------------------------------------------\u001b[0m",
      "\u001b[1;31mKeyError\u001b[0m                                  Traceback (most recent call last)",
      "\u001b[1;32m<ipython-input-72-25c0934ebd82>\u001b[0m in \u001b[0;36m<module>\u001b[1;34m\u001b[0m\n\u001b[0;32m      2\u001b[0m \u001b[0mfetch_data\u001b[0m\u001b[1;33m=\u001b[0m\u001b[0mrq\u001b[0m\u001b[1;33m.\u001b[0m\u001b[0mget\u001b[0m\u001b[1;33m(\u001b[0m\u001b[1;34m\"https://newsapi.org/v2/everything?q=bitcoin&from=2019-12-22&sortBy=publishedAt&apiKey=51ef4be8e1b247d7a752d484c818b287\"\u001b[0m\u001b[1;33m)\u001b[0m\u001b[1;33m\u001b[0m\u001b[1;33m\u001b[0m\u001b[0m\n\u001b[0;32m      3\u001b[0m \u001b[0mjson_converter\u001b[0m\u001b[1;33m=\u001b[0m\u001b[0mfetch_data\u001b[0m\u001b[1;33m.\u001b[0m\u001b[0mjson\u001b[0m\u001b[1;33m(\u001b[0m\u001b[1;33m)\u001b[0m\u001b[1;33m\u001b[0m\u001b[1;33m\u001b[0m\u001b[0m\n\u001b[1;32m----> 4\u001b[1;33m \u001b[0mjson_converter\u001b[0m\u001b[1;33m=\u001b[0m\u001b[0mjson_converter\u001b[0m\u001b[1;33m[\u001b[0m\u001b[1;34m\"articles\"\u001b[0m\u001b[1;33m]\u001b[0m\u001b[1;33m\u001b[0m\u001b[1;33m\u001b[0m\u001b[0m\n\u001b[0m\u001b[0;32m      5\u001b[0m \u001b[1;32mfor\u001b[0m \u001b[0mi\u001b[0m \u001b[1;32min\u001b[0m \u001b[0mrange\u001b[0m\u001b[1;33m(\u001b[0m\u001b[0mlen\u001b[0m\u001b[1;33m(\u001b[0m\u001b[0mjson_converter\u001b[0m\u001b[1;33m)\u001b[0m\u001b[1;33m)\u001b[0m\u001b[1;33m:\u001b[0m\u001b[1;33m\u001b[0m\u001b[1;33m\u001b[0m\u001b[0m\n\u001b[0;32m      6\u001b[0m     \u001b[0mprint\u001b[0m\u001b[1;33m(\u001b[0m\u001b[1;34m\"Record\"\u001b[0m\u001b[1;33m,\u001b[0m\u001b[0mi\u001b[0m\u001b[1;33m+\u001b[0m\u001b[1;36m1\u001b[0m\u001b[1;33m)\u001b[0m\u001b[1;33m\u001b[0m\u001b[1;33m\u001b[0m\u001b[0m\n",
      "\u001b[1;31mKeyError\u001b[0m: 'articles'"
     ]
    }
   ],
   "source": [
    "import requests as rq\n",
    "fetch_data=rq.get(\"https://newsapi.org/v2/everything?q=bitcoin&from=2019-12-22&sortBy=publishedAt&apiKey=51ef4be8e1b247d7a752d484c818b287\")\n",
    "json_converter=fetch_data.json()\n",
    "json_converter=json_converter[\"articles\"]\n",
    "for i in range(len(json_converter)):\n",
    "    print(\"Record\",i+1)\n",
    "    print(\"Author:\",json_converter[i][\"author\"],end=\"                 \")\n",
    "    print(\"Publish date:\",json_converter[i][\"publishedAt\"],end=\"\\n\")\n",
    "    print(\"Description:\",json_converter[i][\"description\"])\n",
    "    print(\"News url:\",json_converter[i][\"url\"])\n",
    "    print(\"\\n\\n\")"
   ]
  },
  {
   "cell_type": "code",
   "execution_count": 70,
   "metadata": {},
   "outputs": [
    {
     "name": "stdout",
     "output_type": "stream",
     "text": [
      "Random User Api \n",
      "Name Ms Andrea Poulsen\n",
      "Age 59\n",
      "Email andrea.poulsen@example.com\n",
      "Phone 16673123\n"
     ]
    },
    {
     "data": {
      "image/jpeg": "[encoded data removed]",
      "text/plain": [
       "<IPython.core.display.Image object>"
      ]
     },
     "execution_count": 70,
     "metadata": {
      "image/jpeg": {
       "width": 100
      }
     },
     "output_type": "execute_result"
    }
   ],
   "source": [
    "import requests as rq\n",
    "from IPython.display import Image\n",
    "print(\"Random User Api \")\n",
    "get_data=rq.get(\"https://randomuser.me/api/\")\n",
    "convert_data=get_data.json()\n",
    "catch_data=convert_data[\"results\"]\n",
    "for i in range(len(catch_data)):\n",
    "    print(\"Name\",catch_data[i][\"name\"][\"title\"],catch_data[i][\"name\"][\"first\"],catch_data[i][\"name\"][\"last\"])\n",
    "    print(\"Age\",catch_data[i][\"dob\"][\"age\"])    \n",
    "    print(\"Email\",catch_data[i][\"email\"])    \n",
    "    print(\"Phone\",catch_data[i][\"phone\"])\n",
    "    pic_url=catch_data[i][\"picture\"][\"medium\"]\n",
    "    r = rq.get(pic_url)\n",
    "    \n",
    "with open('picture2.jpg','wb') as f:\n",
    "    f.write(r.content)\n",
    "\n",
    "Image(filename=\"picture2.jpg\", width=100)\n"
   ]
  },
  {
   "cell_type": "code",
   "execution_count": 71,
   "metadata": {},
   "outputs": [
    {
     "name": "stdout",
     "output_type": "stream",
     "text": [
      "Space Api\n",
      "People in space now : \n",
      "Name: Christina Koch  Craft: ISS\n",
      "Name: Alexander Skvortsov  Craft: ISS\n",
      "Name: Luca Parmitano  Craft: ISS\n",
      "Name: Andrew Morgan  Craft: ISS\n",
      "Name: Oleg Skripochka  Craft: ISS\n",
      "Name: Jessica Meir  Craft: ISS\n"
     ]
    }
   ],
   "source": [
    "import requests as rq\n",
    "print(\"Space Api\")\n",
    "get_data=rq.get(\"http://api.open-notify.org/astros.json\")\n",
    "catch_json=get_data.json()\n",
    "catch_json=catch_json[\"people\"]\n",
    "print(\"People in space now : \")\n",
    "for i in range(len(catch_json)):\n",
    "    print(\"Name:\" ,catch_json[i][\"name\"],end=\"  \")\n",
    "    print(\"Craft:\" ,catch_json[i][\"craft\"])"
   ]
  },
  {
   "cell_type": "code",
   "execution_count": 5,
   "metadata": {},
   "outputs": [
    {
     "name": "stdout",
     "output_type": "stream",
     "text": [
      "Enter your city name: Jaipur\n",
      "Temperature: 292.15\n",
      "Latitude : 26.92\n",
      "Longitude : 75.82\n",
      "Description : haze\n"
     ]
    }
   ],
   "source": [
    "import requests as rq\n",
    "\n",
    "city = input(\"Enter your city name: \")\n",
    "url = 'https://api.openweathermap.org/data/2.5/weather?q={}&appid=179f69f0b5ab5a661397a3e8decfa313'.format(city)\n",
    "\n",
    "res = rq.get(url)\n",
    "data = res.json()\n",
    "temp = data['main']['temp']\n",
    "\n",
    "latitude = data['coord']['lat']\n",
    "longitude = data['coord']['lon']\n",
    "\n",
    "description = data['weather'][0]['description']\n",
    "\n",
    "\n",
    "\n",
    "print('Temperature: {}'.format(temp))\n",
    "print('Latitude : {}'.format(latitude))\n",
    "print('Longitude : {}'.format(longitude))\n",
    "print('Description : {}'.format(description))"
   ]
  },
  {
   "cell_type": "code",
   "execution_count": null,
   "metadata": {},
   "outputs": [],
   "source": []
  }
 ],
 "metadata": {
  "kernelspec": {
   "display_name": "Python 3",
   "language": "python",
   "name": "python3"
  },
  "language_info": {
   "codemirror_mode": {
    "name": "ipython",
    "version": 3
   },
   "file_extension": ".py",
   "mimetype": "text/x-python",
   "name": "python",
   "nbconvert_exporter": "python",
   "pygments_lexer": "ipython3",
   "version": "3.7.4"
  }
 },
 "nbformat": 4,
 "nbformat_minor": 2
}
