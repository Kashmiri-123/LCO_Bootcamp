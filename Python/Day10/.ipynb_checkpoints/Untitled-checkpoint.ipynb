{
 "cells": [
  {
   "cell_type": "code",
   "execution_count": 2,
   "metadata": {},
   "outputs": [],
   "source": [
    "with open(\"pic.jpg\",\"rb\") as p:\n",
    "    data=p.read()\n",
    "with open(\"gallery.jpg\",\"wb\") as g:\n",
    "    g.write(data)"
   ]
  },
  {
   "cell_type": "code",
   "execution_count": 21,
   "metadata": {},
   "outputs": [],
   "source": [
    "def file_copy(source_path,des_path):\n",
    "    with open(source_path,\"rb\") as p:\n",
    "        data=p.read()\n",
    "    with open(des_path,\"wb\") as r:\n",
    "        r.write(data)\n",
    "file_copy(\"C:\\\\Users\\\\Kashmiri\\\\Downloads\\\\pic.jpg\",\"C:\\\\Users\\\\Kashmiri\\\\Pictures\\\\pic.jpg\")"
   ]
  },
  {
   "cell_type": "code",
   "execution_count": null,
   "metadata": {},
   "outputs": [],
   "source": []
  }
 ],
 "metadata": {
  "kernelspec": {
   "display_name": "Python 3",
   "language": "python",
   "name": "python3"
  },
  "language_info": {
   "codemirror_mode": {
    "name": "ipython",
    "version": 3
   },
   "file_extension": ".py",
   "mimetype": "text/x-python",
   "name": "python",
   "nbconvert_exporter": "python",
   "pygments_lexer": "ipython3",
   "version": "3.7.4"
  }
 },
 "nbformat": 4,
 "nbformat_minor": 2
}
