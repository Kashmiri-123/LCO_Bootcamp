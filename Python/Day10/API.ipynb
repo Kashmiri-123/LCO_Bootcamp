{
 "cells": [
  {
   "cell_type": "code",
   "execution_count": 3,
   "metadata": {},
   "outputs": [
    {
     "data": {
      "text/plain": [
       "{'login': 'Kashmiri-123',\n",
       " 'id': 42890352,\n",
       " 'node_id': 'MDQ6VXNlcjQyODkwMzUy',\n",
       " 'avatar_url': 'https://avatars3.githubusercontent.com/u/42890352?v=4',\n",
       " 'gravatar_id': '',\n",
       " 'url': 'https://api.github.com/users/Kashmiri-123',\n",
       " 'html_url': 'https://github.com/Kashmiri-123',\n",
       " 'followers_url': 'https://api.github.com/users/Kashmiri-123/followers',\n",
       " 'following_url': 'https://api.github.com/users/Kashmiri-123/following{/other_user}',\n",
       " 'gists_url': 'https://api.github.com/users/Kashmiri-123/gists{/gist_id}',\n",
       " 'starred_url': 'https://api.github.com/users/Kashmiri-123/starred{/owner}{/repo}',\n",
       " 'subscriptions_url': 'https://api.github.com/users/Kashmiri-123/subscriptions',\n",
       " 'organizations_url': 'https://api.github.com/users/Kashmiri-123/orgs',\n",
       " 'repos_url': 'https://api.github.com/users/Kashmiri-123/repos',\n",
       " 'events_url': 'https://api.github.com/users/Kashmiri-123/events{/privacy}',\n",
       " 'received_events_url': 'https://api.github.com/users/Kashmiri-123/received_events',\n",
       " 'type': 'User',\n",
       " 'site_admin': False,\n",
       " 'name': 'Kashmiri Mahanta',\n",
       " 'company': None,\n",
       " 'blog': '',\n",
       " 'location': None,\n",
       " 'email': None,\n",
       " 'hireable': None,\n",
       " 'bio': None,\n",
       " 'public_repos': 10,\n",
       " 'public_gists': 2,\n",
       " 'followers': 6,\n",
       " 'following': 3,\n",
       " 'created_at': '2018-09-01T11:22:49Z',\n",
       " 'updated_at': '2020-01-22T14:24:13Z',\n",
       " 'private_gists': 0,\n",
       " 'total_private_repos': 12,\n",
       " 'owned_private_repos': 11,\n",
       " 'disk_usage': 190904,\n",
       " 'collaborators': 3,\n",
       " 'two_factor_authentication': False,\n",
       " 'plan': {'name': 'free',\n",
       "  'space': 976562499,\n",
       "  'collaborators': 0,\n",
       "  'private_repos': 10000}}"
      ]
     },
     "execution_count": 3,
     "metadata": {},
     "output_type": "execute_result"
    }
   ],
   "source": [
    "import requests as rq\n",
    "r = rq.get('https://api.github.com/user', auth=('Kashmiri-123', 'aim123@#'))\n",
    "r.json()"
   ]
  },
  {
   "cell_type": "code",
   "execution_count": null,
   "metadata": {},
   "outputs": [],
   "source": [
    "randomuser.api->any random api at one time\n",
    "totalreposit,repo name\n",
    "weather application"
   ]
  },
  {
   "cell_type": "code",
   "execution_count": 5,
   "metadata": {},
   "outputs": [
    {
     "data": {
      "text/plain": [
       "'https://api.github.com/users/Kashmiri-123/repos'"
      ]
     },
     "execution_count": 5,
     "metadata": {},
     "output_type": "execute_result"
    }
   ],
   "source": [
    "import requests as rq\n",
    "r = rq.get('https://api.github.com/user', auth=('Kashmiri-123', 'aim123@#'))\n",
    "data=r.json()\n",
    "data[\"repos_url\"]"
   ]
  }
 ],
 "metadata": {
  "kernelspec": {
   "display_name": "Python 3",
   "language": "python",
   "name": "python3"
  },
  "language_info": {
   "codemirror_mode": {
    "name": "ipython",
    "version": 3
   },
   "file_extension": ".py",
   "mimetype": "text/x-python",
   "name": "python",
   "nbconvert_exporter": "python",
   "pygments_lexer": "ipython3",
   "version": "3.7.4"
  }
 },
 "nbformat": 4,
 "nbformat_minor": 2
}
