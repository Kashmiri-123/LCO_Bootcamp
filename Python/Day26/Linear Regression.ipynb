{
 "cells": [
  {
   "cell_type": "code",
   "execution_count": null,
   "metadata": {},
   "outputs": [],
   "source": [
    "Supervised learning->dealing with structural data\n",
    "\n",
    "UnSupervised learning->dealing with unstructural data\n"
   ]
  },
  {
   "cell_type": "code",
   "execution_count": null,
   "metadata": {},
   "outputs": [],
   "source": [
    "Linear Regression->y=wx+b(w=weight,b=bias)"
   ]
  },
  {
   "cell_type": "code",
   "execution_count": null,
   "metadata": {},
   "outputs": [],
   "source": []
  },
  {
   "cell_type": "code",
   "execution_count": 20,
   "metadata": {},
   "outputs": [
    {
     "name": "stdout",
     "output_type": "stream",
     "text": [
      "[[ 1]\n",
      " [ 2]\n",
      " [ 5]\n",
      " [ 8]\n",
      " [12]\n",
      " [15]]\n",
      "\n",
      "[1.37244349]\n",
      "-0.3358449946178652\n"
     ]
    },
    {
     "data": {
      "image/png": "[encoded data removed]",
      "text/plain": [
       "<Figure size 432x288 with 1 Axes>"
      ]
     },
     "metadata": {
      "needs_background": "light"
     },
     "output_type": "display_data"
    }
   ],
   "source": [
    "import matplotlib.pyplot as plt\n",
    "from sklearn.linear_model import LinearRegression\n",
    "import numpy as np\n",
    "\n",
    "def main():\n",
    "    lr = LinearRegression()\n",
    "\n",
    "    x = np.array([1,2,5,8,12,15])\n",
    "    y = np.array([-2,6,4,12,20,17])\n",
    "\n",
    "    x = x.reshape(-1,1)\n",
    "\n",
    "#     print(x)\n",
    "    print()\n",
    "\n",
    "    lr.fit(x,y)\n",
    "    \n",
    "    print(lr.coef_)#m\n",
    "    print(lr.intercept_)#intercept(c)\n",
    "    \n",
    "    b=(lr.intercept_,lr.coef_[0])\n",
    "    plot_regresssion_line(x,y,b)    \n",
    "\n",
    "    \n",
    "##SECOND VALUE\n",
    "def plot_regresssion_line(x,y,b):\n",
    "    \n",
    "    plt.scatter(x,y,color = \"r\", marker = \"x\", s=50)\n",
    "    \n",
    "    #predicted response vector\n",
    "    y_pred = b[0] + b[1]*x\n",
    "    \n",
    "    #plotting the regression line\n",
    "    plt.plot(x,y_pred, color=\"b\")\n",
    "    \n",
    "    plt.xlabel(\"X\")\n",
    "    plt.ylabel(\"Y\")\n",
    "    \n",
    "    plt.show()\n",
    "    \n",
    "main()"
   ]
  },
  {
   "cell_type": "code",
   "execution_count": null,
   "metadata": {},
   "outputs": [],
   "source": []
  },
  {
   "cell_type": "code",
   "execution_count": null,
   "metadata": {},
   "outputs": [],
   "source": []
  }
 ],
 "metadata": {
  "kernelspec": {
   "display_name": "Python 3",
   "language": "python",
   "name": "python3"
  },
  "language_info": {
   "codemirror_mode": {
    "name": "ipython",
    "version": 3
   },
   "file_extension": ".py",
   "mimetype": "text/x-python",
   "name": "python",
   "nbconvert_exporter": "python",
   "pygments_lexer": "ipython3",
   "version": "3.7.4"
  }
 },
 "nbformat": 4,
 "nbformat_minor": 2
}
