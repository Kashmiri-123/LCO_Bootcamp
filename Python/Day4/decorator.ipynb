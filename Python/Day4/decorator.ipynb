{
 "cells": [
  {
   "cell_type": "code",
   "execution_count": 1,
   "metadata": {},
   "outputs": [
    {
     "data": {
      "text/plain": [
       "'LCO'"
      ]
     },
     "execution_count": 1,
     "metadata": {},
     "output_type": "execute_result"
    }
   ],
   "source": [
    "def lco():\n",
    "    return \"LCO\"\n",
    "lco()"
   ]
  },
  {
   "cell_type": "code",
   "execution_count": 1,
   "metadata": {},
   "outputs": [
    {
     "data": {
      "text/plain": [
       "'Kashmiri'"
      ]
     },
     "execution_count": 1,
     "metadata": {},
     "output_type": "execute_result"
    }
   ],
   "source": [
    "def method(name):\n",
    "    return name\n",
    "method(\"Kashmiri\")"
   ]
  },
  {
   "cell_type": "code",
   "execution_count": 15,
   "metadata": {},
   "outputs": [
    {
     "data": {
      "text/plain": [
       "'Kashmiri'"
      ]
     },
     "execution_count": 15,
     "metadata": {},
     "output_type": "execute_result"
    }
   ],
   "source": [
    "def method2(func):\n",
    "    x=func(\"Kashmiri\")\n",
    "    return x\n",
    "method2(method)"
   ]
  },
  {
   "cell_type": "code",
   "execution_count": 40,
   "metadata": {},
   "outputs": [
    {
     "data": {
      "text/plain": [
       "'LCO'"
      ]
     },
     "execution_count": 40,
     "metadata": {},
     "output_type": "execute_result"
    }
   ],
   "source": [
    "def func1(param1):\n",
    "    return \"LCO\"\n",
    "def func2(func):\n",
    "    x=func(\"JI\")\n",
    "    return x\n",
    "x=func2(func1)\n",
    "x"
   ]
  },
  {
   "cell_type": "code",
   "execution_count": 32,
   "metadata": {},
   "outputs": [
    {
     "data": {
      "text/plain": [
       "<function __main__.method3()>"
      ]
     },
     "execution_count": 32,
     "metadata": {},
     "output_type": "execute_result"
    }
   ],
   "source": [
    "def method3():\n",
    "    def method4():\n",
    "        return \"Hello World\"\n",
    "    return method4\n",
    "z=method3()\n",
    "# z-->returns reference of method 4\n",
    "z()"
   ]
  },
  {
   "cell_type": "code",
   "execution_count": 20,
   "metadata": {},
   "outputs": [
    {
     "data": {
      "text/plain": [
       "'LCO'"
      ]
     },
     "execution_count": 20,
     "metadata": {},
     "output_type": "execute_result"
    }
   ],
   "source": [
    "def capitalize(func):\n",
    "    def wrapper(data):\n",
    "        f=func(data)\n",
    "        return f.upper()\n",
    "    return wrapper\n",
    "@capitalize\n",
    "def method5(param):\n",
    "    return param\n",
    "method5(\"lco\")"
   ]
  },
  {
   "cell_type": "code",
   "execution_count": 21,
   "metadata": {},
   "outputs": [
    {
     "data": {
      "text/plain": [
       "'LCO'"
      ]
     },
     "execution_count": 21,
     "metadata": {},
     "output_type": "execute_result"
    }
   ],
   "source": [
    "@capitalize\n",
    "def method6(param):\n",
    "    return param\n",
    "method6(\"lco\")"
   ]
  },
  {
   "cell_type": "code",
   "execution_count": 22,
   "metadata": {},
   "outputs": [
    {
     "data": {
      "text/plain": [
       "'LCO Hello'"
      ]
     },
     "execution_count": 22,
     "metadata": {},
     "output_type": "execute_result"
    }
   ],
   "source": [
    "def capitalize(func):\n",
    "    def wrapper(data):\n",
    "        data=data.upper()\n",
    "        return func(data)\n",
    "    return wrapper\n",
    "@capitalize\n",
    "def method6(param):\n",
    "    return param+ \" Hello\"\n",
    "method6(\"lco\")"
   ]
  },
  {
   "cell_type": "code",
   "execution_count": 52,
   "metadata": {},
   "outputs": [
    {
     "data": {
      "text/plain": [
       "' wrt cd'"
      ]
     },
     "execution_count": 52,
     "metadata": {},
     "output_type": "execute_result"
    }
   ],
   "source": [
    "def vowelRemover(func):\n",
    "    unwanted=[\"I\",\"a\",\"e\",\"i\",\"o\",\"u\",\"A\",\"E\"]\n",
    "    def wrapper(data):\n",
    "        for i in unwanted:\n",
    "            data=data.replace(i,'')\n",
    "        return func(data)\n",
    "    return wrapper\n",
    "@vowelRemover\n",
    "def method7(param):\n",
    "    return param\n",
    "method7(\"I write code\")"
   ]
  },
  {
   "cell_type": "code",
   "execution_count": 53,
   "metadata": {},
   "outputs": [
    {
     "data": {
      "text/plain": [
       "'pploo'"
      ]
     },
     "execution_count": 53,
     "metadata": {},
     "output_type": "execute_result"
    }
   ],
   "source": [
    "def case_Rmover(case):\n",
    "    def vowel_remover(func):\n",
    "        def wrapper(data):\n",
    "            new_str=\"\"\n",
    "            for chr in data:\n",
    "                if not chr in [case,case.lower(),case.upper()]:\n",
    "                    new_str+=chr\n",
    "            return func(new_str)\n",
    "        return wrapper\n",
    "    return vowel_remover\n",
    "@case_Rmover(case=\"a\")\n",
    "def method8(param):\n",
    "    return param\n",
    "method8(\"Applaaoo\")"
   ]
  },
  {
   "cell_type": "raw",
   "metadata": {},
   "source": [
    "Any amount of decorators can also be used in the same function.Decorator is basically used to add extra functionality to a function."
   ]
  },
  {
   "cell_type": "code",
   "execution_count": 6,
   "metadata": {},
   "outputs": [
    {
     "name": "stdout",
     "output_type": "stream",
     "text": [
      "[1, 2, 3]\n"
     ]
    }
   ],
   "source": [
    "def duplicate_Remover(func):\n",
    "    def wrapper(data):\n",
    "        data=list(set(data))\n",
    "        return func(data)\n",
    "    return wrapper\n",
    "@duplicate_Remover\n",
    "def method8(param):\n",
    "    print(param)\n",
    "method8([1,2,3,3])"
   ]
  },
  {
   "cell_type": "code",
   "execution_count": null,
   "metadata": {},
   "outputs": [],
   "source": []
  }
 ],
 "metadata": {
  "kernelspec": {
   "display_name": "Python 3",
   "language": "python",
   "name": "python3"
  },
  "language_info": {
   "codemirror_mode": {
    "name": "ipython",
    "version": 3
   },
   "file_extension": ".py",
   "mimetype": "text/x-python",
   "name": "python",
   "nbconvert_exporter": "python",
   "pygments_lexer": "ipython3",
   "version": "3.7.4"
  }
 },
 "nbformat": 4,
 "nbformat_minor": 2
}
