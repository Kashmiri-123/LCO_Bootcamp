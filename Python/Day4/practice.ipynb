{
 "cells": [
  {
   "cell_type": "code",
   "execution_count": 2,
   "metadata": {},
   "outputs": [
    {
     "data": {
      "text/plain": [
       "20"
      ]
     },
     "execution_count": 2,
     "metadata": {},
     "output_type": "execute_result"
    }
   ],
   "source": [
    "def succ(num):\n",
    "    return num+1\n",
    "name_changer=succ\n",
    "name_changer(19)"
   ]
  },
  {
   "cell_type": "code",
   "execution_count": 3,
   "metadata": {},
   "outputs": [
    {
     "data": {
      "text/plain": [
       "11"
      ]
     },
     "execution_count": 3,
     "metadata": {},
     "output_type": "execute_result"
    }
   ],
   "source": [
    "del succ ###can delete succ or name_changer without deleting the function\n",
    "name_changer(10)"
   ]
  },
  {
   "cell_type": "code",
   "execution_count": 4,
   "metadata": {},
   "outputs": [
    {
     "ename": "NameError",
     "evalue": "name 'succ' is not defined",
     "output_type": "error",
     "traceback": [
      "\u001b[1;31m---------------------------------------------------------------------------\u001b[0m",
      "\u001b[1;31mNameError\u001b[0m                                 Traceback (most recent call last)",
      "\u001b[1;32m<ipython-input-4-dc32bd8fdaa8>\u001b[0m in \u001b[0;36m<module>\u001b[1;34m\u001b[0m\n\u001b[1;32m----> 1\u001b[1;33m \u001b[0msucc\u001b[0m\u001b[1;33m(\u001b[0m\u001b[1;36m9\u001b[0m\u001b[1;33m)\u001b[0m\u001b[1;33m\u001b[0m\u001b[1;33m\u001b[0m\u001b[0m\n\u001b[0m",
      "\u001b[1;31mNameError\u001b[0m: name 'succ' is not defined"
     ]
    }
   ],
   "source": [
    "succ(9)## has been deleted hence occurs error"
   ]
  },
  {
   "cell_type": "code",
   "execution_count": 5,
   "metadata": {},
   "outputs": [
    {
     "name": "stdout",
     "output_type": "stream",
     "text": [
      "I am function 1 \n",
      "I am calling function 2 now.\n",
      "I am function 2\n"
     ]
    }
   ],
   "source": [
    "def function1():\n",
    "    def function2():\n",
    "        print(\"I am function 2\")\n",
    "    print(\"I am function 1 \")\n",
    "    print(\"I am calling function 2 now.\")\n",
    "    function2()\n",
    "function1()"
   ]
  },
  {
   "cell_type": "code",
   "execution_count": 12,
   "metadata": {},
   "outputs": [
    {
     "data": {
      "text/plain": [
       "'Dikhit Kumar'"
      ]
     },
     "execution_count": 12,
     "metadata": {},
     "output_type": "execute_result"
    }
   ],
   "source": [
    "def firstFunc():\n",
    "    def seondFunc():\n",
    "        return \"Dikhit\"\n",
    "    def thirdFunc(func):\n",
    "        x=func()+\" Kumar\"\n",
    "        return x\n",
    "    return thirdFunc(seondFunc)\n",
    "firstFunc()"
   ]
  },
  {
   "cell_type": "code",
   "execution_count": 14,
   "metadata": {},
   "outputs": [
    {
     "name": "stdout",
     "output_type": "stream",
     "text": [
      "I a function function1\n",
      "I am calling function2\n",
      "I am function 2\n",
      "I am passed as an argument\n"
     ]
    }
   ],
   "source": [
    "def function2():\n",
    "    print(\"I am function 2\")\n",
    "    print(\"I am passed as an argument\")\n",
    "def function1(func):\n",
    "    print(\"I a function function1\")\n",
    "    print(\"I am calling function2\")\n",
    "    func()\n",
    "function1(function2)"
   ]
  },
  {
   "cell_type": "code",
   "execution_count": 18,
   "metadata": {},
   "outputs": [
    {
     "data": {
      "text/plain": [
       "6"
      ]
     },
     "execution_count": 18,
     "metadata": {},
     "output_type": "execute_result"
    }
   ],
   "source": [
    "import math\n",
    "def method1(func):\n",
    "    adder=0\n",
    "    for i in [1,2,3]:\n",
    "        adder=adder+func(i)\n",
    "    return adder\n",
    "def add(x):\n",
    "    return x\n",
    "method1(add)"
   ]
  },
  {
   "cell_type": "code",
   "execution_count": 20,
   "metadata": {},
   "outputs": [
    {
     "data": {
      "text/plain": [
       "2.3492405557375347"
      ]
     },
     "execution_count": 20,
     "metadata": {},
     "output_type": "execute_result"
    }
   ],
   "source": [
    "import math\n",
    "def method1(func):\n",
    "    adder=0\n",
    "    for i in [1,2,2.5]:\n",
    "        adder=adder+func(i)\n",
    "    return adder\n",
    "method1(math.sin)####calling the sin function"
   ]
  },
  {
   "cell_type": "markdown",
   "metadata": {},
   "source": [
    "# PROBLEM\n",
    "def f(x):\n",
    "    def g(y):\n",
    "        print(x,y)\n",
    "        return y + x + 3 \n",
    "    return g\n",
    "\n",
    "nf1 = f(1)\n",
    "\n",
    "print(nf1(2))"
   ]
  },
  {
   "cell_type": "code",
   "execution_count": 33,
   "metadata": {},
   "outputs": [
    {
     "name": "stdout",
     "output_type": "stream",
     "text": [
      "1\n"
     ]
    }
   ],
   "source": [
    "def factirial(n):\n",
    "    if n==0:\n",
    "        return 1\n",
    "    else:\n",
    "        return n*factirial(n-1)\n",
    "print(factirial(0))"
   ]
  },
  {
   "cell_type": "code",
   "execution_count": 5,
   "metadata": {},
   "outputs": [
    {
     "data": {
      "text/plain": [
       "6"
      ]
     },
     "execution_count": 5,
     "metadata": {},
     "output_type": "execute_result"
    }
   ],
   "source": [
    "def factorial_decorator(func):\n",
    "    def factorial(n):\n",
    "        if n==0:\n",
    "            return 1\n",
    "        else:\n",
    "            return n*factorial(n-1)\n",
    "    return factorial\n",
    "@factorial_decorator\n",
    "def fact(num):\n",
    "    return num\n",
    "fact(3)\n"
   ]
  },
  {
   "cell_type": "code",
   "execution_count": null,
   "metadata": {},
   "outputs": [],
   "source": []
  }
 ],
 "metadata": {
  "kernelspec": {
   "display_name": "Python 3",
   "language": "python",
   "name": "python3"
  },
  "language_info": {
   "codemirror_mode": {
    "name": "ipython",
    "version": 3
   },
   "file_extension": ".py",
   "mimetype": "text/x-python",
   "name": "python",
   "nbconvert_exporter": "python",
   "pygments_lexer": "ipython3",
   "version": "3.7.4"
  }
 },
 "nbformat": 4,
 "nbformat_minor": 2
}
