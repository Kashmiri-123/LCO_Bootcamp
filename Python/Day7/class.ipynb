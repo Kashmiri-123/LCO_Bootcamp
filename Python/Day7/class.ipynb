{
 "cells": [
  {
   "cell_type": "code",
   "execution_count": null,
   "metadata": {},
   "outputs": [],
   "source": [
    "print(\"Day  7\")"
   ]
  },
  {
   "cell_type": "code",
   "execution_count": 4,
   "metadata": {},
   "outputs": [
    {
     "name": "stdout",
     "output_type": "stream",
     "text": [
      "Hello\n"
     ]
    }
   ],
   "source": [
    "class my_class():\n",
    "    def __init__(self,num):\n",
    "        self.num=num\n",
    "    def get_num(self):\n",
    "        return self.num\n",
    "    def say_hello(self):\n",
    "        print(\"Hello\")\n",
    "class new_class(my_class):\n",
    "    def __init__(self,num):\n",
    "        self.num=num\n",
    "    def get_num(self):\n",
    "        return self.num\n",
    "object=new_class(18)\n",
    "object.get_num()\n",
    "object.say_hello()"
   ]
  },
  {
   "cell_type": "code",
   "execution_count": 6,
   "metadata": {},
   "outputs": [
    {
     "data": {
      "text/plain": [
       "18"
      ]
     },
     "execution_count": 6,
     "metadata": {},
     "output_type": "execute_result"
    }
   ],
   "source": [
    "class my_class():\n",
    "    def __init__(self,num):\n",
    "        self.num1=num\n",
    "    def get_num(self):\n",
    "        return self.num1\n",
    "class new_class(my_class):\n",
    "    def __init__(self,num):\n",
    "        super().__init__(num)##immediate instance of parent class\n",
    "object=new_class(18)\n",
    "object.get_num()\n"
   ]
  },
  {
   "cell_type": "code",
   "execution_count": 20,
   "metadata": {},
   "outputs": [
    {
     "data": {
      "text/plain": [
       "20"
      ]
     },
     "execution_count": 20,
     "metadata": {},
     "output_type": "execute_result"
    }
   ],
   "source": [
    "class A():\n",
    "    def __init__(self,num):\n",
    "        self.num=num\n",
    "    def printer1(self):\n",
    "        return self.num\n",
    "class B(A):\n",
    "    def __init__(self,num):\n",
    "        self.num=num\n",
    "    def printer2(self):\n",
    "        return self.num\n",
    "class C(B):\n",
    "    def __init__(self,num):\n",
    "        self.num=num\n",
    "    def printer3(self):\n",
    "        return self.num\n",
    "object=C(20)\n",
    "object.printer1()"
   ]
  },
  {
   "cell_type": "code",
   "execution_count": 21,
   "metadata": {},
   "outputs": [
    {
     "data": {
      "text/plain": [
       "20"
      ]
     },
     "execution_count": 21,
     "metadata": {},
     "output_type": "execute_result"
    }
   ],
   "source": [
    "class A():\n",
    "    def __init__(self,num):\n",
    "        self.__num=num\n",
    "    def printer1(self):\n",
    "        return self.num\n",
    "class B(A):\n",
    "    def __init__(self,num):\n",
    "        super().__init__(num)\n",
    "        self.num=num\n",
    "    def printer2(self):\n",
    "        return self.num\n",
    "class C(B):\n",
    "    def __init__(self,num):\n",
    "        self.num=num\n",
    "    def printer3(self):\n",
    "        return self.num\n",
    "object=C(20)\n",
    "object.printer1()"
   ]
  },
  {
   "cell_type": "code",
   "execution_count": 28,
   "metadata": {},
   "outputs": [
    {
     "data": {
      "text/plain": [
       "20"
      ]
     },
     "execution_count": 28,
     "metadata": {},
     "output_type": "execute_result"
    }
   ],
   "source": [
    "class A():\n",
    "    def __init__(self,num):\n",
    "        self.__num=num\n",
    "    def printer1(self):\n",
    "        return self.num\n",
    "class B(A):\n",
    "    def __init__(self,num):\n",
    "#         super().__init__(num)\n",
    "        self.num=num\n",
    "    def printer2(self):\n",
    "        return self.num\n",
    "class C(B):\n",
    "    def __init__(self,num):\n",
    "        super().__init__(num)\n",
    "        self.__num=num\n",
    "    def printer3(self):\n",
    "        return self.__num\n",
    "object=C(20)\n",
    "object.printer1()"
   ]
  },
  {
   "cell_type": "code",
   "execution_count": 2,
   "metadata": {},
   "outputs": [
    {
     "name": "stdout",
     "output_type": "stream",
     "text": [
      "12\n"
     ]
    }
   ],
   "source": [
    "class Parent_one():\n",
    "    def __init__(self,num):\n",
    "        self.num=num\n",
    "        \n",
    "    def printer(self):\n",
    "        print(self.num)\n",
    "        \n",
    "class Parent_two():\n",
    "    def __init__(self,num):\n",
    "        super().__init__(num)\n",
    "        self.num=num\n",
    "        \n",
    "    def printer(self):\n",
    "        print(self.num)\n",
    "        \n",
    "class Child(Parent_one,Parent_two):\n",
    "    def __init__(self,num):\n",
    "        super().__init__(num)\n",
    "        self.num=num\n",
    "object=Child(12)\n",
    "object.printer()"
   ]
  },
  {
   "cell_type": "code",
   "execution_count": 5,
   "metadata": {},
   "outputs": [
    {
     "name": "stdout",
     "output_type": "stream",
     "text": [
      "one\n"
     ]
    }
   ],
   "source": [
    "class Parent_one():\n",
    "    def printer(self):\n",
    "        print(\"one\")\n",
    "        \n",
    "class Parent_two():\n",
    "    def printer(self):\n",
    "        print(\"two\")\n",
    "        \n",
    "class Child(Parent_one,Parent_two):\n",
    "    def __init__(self):\n",
    "        super(Parent_one,self).__init__()\n",
    "object=Child()\n",
    "object.printer()"
   ]
  },
  {
   "cell_type": "code",
   "execution_count": null,
   "metadata": {},
   "outputs": [],
   "source": [
    "mro=>method resolution order"
   ]
  },
  {
   "cell_type": "code",
   "execution_count": 7,
   "metadata": {},
   "outputs": [
    {
     "data": {
      "text/plain": [
       "(__main__.Child, __main__.Parent_one, __main__.Parent_two, object)"
      ]
     },
     "execution_count": 7,
     "metadata": {},
     "output_type": "execute_result"
    }
   ],
   "source": [
    "Child.__mro__"
   ]
  },
  {
   "cell_type": "code",
   "execution_count": null,
   "metadata": {},
   "outputs": [],
   "source": [
    "ambiguity?\n",
    "generator?"
   ]
  },
  {
   "cell_type": "code",
   "execution_count": 12,
   "metadata": {},
   "outputs": [
    {
     "name": "stdout",
     "output_type": "stream",
     "text": [
      "one\n"
     ]
    }
   ],
   "source": [
    "class A():\n",
    "    def __init__(self):\n",
    "        pass\n",
    "    def printer(self):\n",
    "        print(\"one\")\n",
    "        \n",
    "class B():\n",
    "    def __init__(self):\n",
    "        pass\n",
    "    def printer(self):\n",
    "        print(\"two\")\n",
    "        \n",
    "class C(A,B):\n",
    "    def __init__(self):\n",
    "        super(A,self).__init__()\n",
    "object=C()\n",
    "object.printer()"
   ]
  },
  {
   "cell_type": "code",
   "execution_count": null,
   "metadata": {},
   "outputs": [],
   "source": []
  },
  {
   "cell_type": "code",
   "execution_count": null,
   "metadata": {},
   "outputs": [],
   "source": []
  },
  {
   "cell_type": "code",
   "execution_count": null,
   "metadata": {},
   "outputs": [],
   "source": []
  }
 ],
 "metadata": {
  "kernelspec": {
   "display_name": "Python 3",
   "language": "python",
   "name": "python3"
  },
  "language_info": {
   "codemirror_mode": {
    "name": "ipython",
    "version": 3
   },
   "file_extension": ".py",
   "mimetype": "text/x-python",
   "name": "python",
   "nbconvert_exporter": "python",
   "pygments_lexer": "ipython3",
   "version": "3.7.4"
  }
 },
 "nbformat": 4,
 "nbformat_minor": 2
}
