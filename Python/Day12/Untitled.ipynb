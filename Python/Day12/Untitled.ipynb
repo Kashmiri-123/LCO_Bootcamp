{
 "cells": [
  {
   "cell_type": "code",
   "execution_count": 15,
   "metadata": {},
   "outputs": [
    {
     "data": {
      "text/plain": [
       "{'Title': 'Guardians of the Galaxy Vol. 2',\n",
       " 'Year': '2017',\n",
       " 'Rated': 'PG-13',\n",
       " 'Released': '05 May 2017',\n",
       " 'Runtime': '136 min',\n",
       " 'Genre': 'Action, Adventure, Comedy, Sci-Fi',\n",
       " 'Director': 'James Gunn',\n",
       " 'Writer': 'James Gunn, Dan Abnett (based on the Marvel comics by), Andy Lanning (based on the Marvel comics by), Steve Englehart (Star-Lord created by), Steve Gan (Star-Lord created by), Jim Starlin (Gamora and Drax created by), Stan Lee (Groot created by), Larry Lieber (Groot created by), Jack Kirby (Groot created by), Bill Mantlo (Rocket Raccoon created by), Keith Giffen (Rocket Raccoon created by), Steve Gerber (Howard the Duck created by), Val Mayerik (Howard the Duck created by)',\n",
       " 'Actors': 'Chris Pratt, Zoe Saldana, Dave Bautista, Vin Diesel',\n",
       " 'Plot': \"The Guardians struggle to keep together as a team while dealing with their personal family issues, notably Star-Lord's encounter with his father the ambitious celestial being Ego.\",\n",
       " 'Language': 'English',\n",
       " 'Country': 'USA',\n",
       " 'Awards': 'Nominated for 1 Oscar. Another 14 wins & 52 nominations.',\n",
       " 'Poster': 'https://m.media-amazon.com/images/M/MV5BNjM0NTc0NzItM2FlYS00YzEwLWE0YmUtNTA2ZWIzODc2OTgxXkEyXkFqcGdeQXVyNTgwNzIyNzg@._V1_SX300.jpg',\n",
       " 'Ratings': [{'Source': 'Internet Movie Database', 'Value': '7.6/10'},\n",
       "  {'Source': 'Rotten Tomatoes', 'Value': '84%'},\n",
       "  {'Source': 'Metacritic', 'Value': '67/100'}],\n",
       " 'Metascore': '67',\n",
       " 'imdbRating': '7.6',\n",
       " 'imdbVotes': '518,435',\n",
       " 'imdbID': 'tt3896198',\n",
       " 'Type': 'movie',\n",
       " 'DVD': '22 Aug 2017',\n",
       " 'BoxOffice': '$389,804,217',\n",
       " 'Production': 'Walt Disney Pictures',\n",
       " 'Website': 'N/A',\n",
       " 'Response': 'True'}"
      ]
     },
     "execution_count": 15,
     "metadata": {},
     "output_type": "execute_result"
    }
   ],
   "source": [
    "import requests as rq\n",
    "data=rq.get(\"http://www.omdbapi.com/?i=tt3896198&apikey=7815f87e\")\n",
    "data=data.json()\n",
    "data"
   ]
  },
  {
   "cell_type": "code",
   "execution_count": 30,
   "metadata": {
    "scrolled": true
   },
   "outputs": [
    {
     "name": "stdout",
     "output_type": "stream",
     "text": [
      "Iron Man    02 May 2008     7.9\n",
      "The Incredible Hulk    13 Jun 2008     6.7\n",
      "Iron Man 2    07 May 2010     7.0\n",
      "Thor    06 May 2011     7.0\n",
      "Captain America: The First Avenger    22 Jul 2011     6.9\n",
      "Marvel's The Avengers data not available\n",
      "Iron Man 3    03 May 2013     7.2\n",
      "Thor: The Dark World    08 Nov 2013     6.9\n",
      "Captain America: The Winter Soldier    04 Apr 2014     7.7\n",
      "Guardians of the Galaxy    01 Aug 2014     8.0\n",
      "Avengers: Age of Ultron    01 May 2015     7.3\n",
      "Ant-Man    17 Jul 2015     7.3\n",
      "Captain America: Civil War    06 May 2016     7.8\n",
      "Doctor Strange    04 Nov 2016     7.5\n",
      "Guardians of the Galaxy Vol. 2    05 May 2017     7.6\n",
      "Spider-Man: Homecoming    07 Jul 2017     7.4\n",
      "Thor: Ragnarok    03 Nov 2017     7.9\n",
      "Black Panther    16 Feb 2018     7.3\n",
      "Avengers: Infinity War    27 Apr 2018     8.5\n",
      "Ant-Man and the Wasp    06 Jul 2018     7.1\n",
      "Captain Marvel    08 Mar 2019     6.9\n",
      "Avengers: Endgame    26 Apr 2019     8.5\n",
      "Spider-Man: Far from Home    02 Jul 2019     7.6\n"
     ]
    }
   ],
   "source": [
    "import requests as rq\n",
    "from bs4 import BeautifulSoup\n",
    "temp_data=\"\"\n",
    "res = rq.get(\"https://en.wikipedia.org/wiki/List_of_Marvel_Cinematic_Universe_films\")                                                  \n",
    "soup = BeautifulSoup(res.text, 'html.parser') \n",
    "table = soup.find(\"table\",class_=\"wikitable plainrowheaders\")\n",
    "with open(\"marvel.txt\",\"w+\") as file:\n",
    "    for items in table.find_all(\"tr\")[2:]:\n",
    "        data = [' '.join(item.text.split()) for item in items.find_all(['th','td'])]\n",
    "        if len(data)>2:\n",
    "            try:\n",
    "                rating_data=rq.get(\"http://www.omdbapi.com/?i=tt3896198&apikey=ed593c9&t=\"+data[0])\n",
    "                rating_data=rating_data.json()\n",
    "                print(rating_data[\"Title\"]+\"    \"+rating_data[\"Released\"]+\"     \"+rating_data[\"imdbRating\"])\n",
    "                file.write(rating_data[\"Title\"]+\"    \"+rating_data[\"Released\"]+\"     \"+rating_data[\"imdbRating\"]+\"\\n\")\n",
    "            except:\n",
    "                print(data[0] ,\"data not available\")"
   ]
  },
  {
   "cell_type": "code",
   "execution_count": 32,
   "metadata": {},
   "outputs": [],
   "source": [
    "import requests\n",
    "from bs4 import BeautifulSoup\n",
    "url = \"http://www.amazon.com/\"\n",
    "headers = {'User-Agent': 'Mozilla/5.0 (Windows NT 6.3; Win64; x64) AppleWebKit/537.36 (KHTML, like Gecko) Chrome/54.0.2840.71 Safari/537.36'}\n",
    "s = rq.Session()\n",
    "amazon = s.get(url, headers=headers)\n",
    "soup=BeautifulSoup(amazon.text,\"html.parser\")"
   ]
  },
  {
   "cell_type": "code",
   "execution_count": null,
   "metadata": {},
   "outputs": [],
   "source": [
    "import requests as rq\n",
    "from bs4 import BeautifulSoup\n",
    "temp_data=\"\"\n",
    "res = rq.get(\"https://en.wikipedia.org/wiki/List_of_Marvel_Cinematic_Universe_films\")                                                  \n",
    "soup = BeautifulSoup(res.text, 'html.parser') \n",
    "table = soup.find(\"table\",class_=\"wikitable plainrowheaders\")\n",
    "with open(\"marvel.txt\",\"w+\") as file:\n",
    "    for items in table.find_all(\"tr\")[2:]:\n",
    "        data = [' '.join(item.text.split()) for item in items.find_all(['th','td'])]\n",
    "        if len(data)>2:\n",
    "            try:\n",
    "                rating_data=rq.get(\"http://www.omdbapi.com/?i=tt3896198&apikey=ed593c9&t=\"+data[0])\n",
    "                rating_data=rating_data.json()\n",
    "                print(rating_data[\"Title\"]+\"    \"+rating_data[\"Released\"]+\"     \"+rating_data[\"imdbRating\"])\n",
    "                file.write(rating_data[\"Title\"]+\"    \"+rating_data[\"Released\"]+\"     \"+rating_data[\"imdbRating\"]+\"\\n\")\n",
    "            except:\n",
    "                print(data[0] ,\"data not available\")"
   ]
  }
 ],
 "metadata": {
  "kernelspec": {
   "display_name": "Python 3",
   "language": "python",
   "name": "python3"
  },
  "language_info": {
   "codemirror_mode": {
    "name": "ipython",
    "version": 3
   },
   "file_extension": ".py",
   "mimetype": "text/x-python",
   "name": "python",
   "nbconvert_exporter": "python",
   "pygments_lexer": "ipython3",
   "version": "3.7.4"
  }
 },
 "nbformat": 4,
 "nbformat_minor": 2
}
