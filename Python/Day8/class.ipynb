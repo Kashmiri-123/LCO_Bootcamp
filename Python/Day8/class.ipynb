{
 "cells": [
  {
   "cell_type": "code",
   "execution_count": null,
   "metadata": {},
   "outputs": [],
   "source": [
    ".bat in windows\n",
    "mro=>method resolution order\n",
    "interpreter?\n",
    "byte code in python\n",
    "generator"
   ]
  },
  {
   "cell_type": "code",
   "execution_count": 1,
   "metadata": {},
   "outputs": [
    {
     "name": "stdout",
     "output_type": "stream",
     "text": [
      "Exception!!Error\n"
     ]
    }
   ],
   "source": [
    "try:\n",
    "    2/0\n",
    "except:\n",
    "    print(\"Exception!!Error\")"
   ]
  },
  {
   "cell_type": "code",
   "execution_count": 9,
   "metadata": {},
   "outputs": [
    {
     "name": "stdout",
     "output_type": "stream",
     "text": [
      "No module named 'sss'\n"
     ]
    }
   ],
   "source": [
    "try:\n",
    "    import sss\n",
    "    2/0\n",
    "except ZeroDivisionError as e :\n",
    "    print(e)\n",
    "except ImportError as e:\n",
    "    print(e)\n",
    "except Exception as e:\n",
    "    print(e)"
   ]
  },
  {
   "cell_type": "code",
   "execution_count": 10,
   "metadata": {},
   "outputs": [
    {
     "name": "stdout",
     "output_type": "stream",
     "text": [
      "No module named 'sss'\n"
     ]
    }
   ],
   "source": [
    "try:\n",
    "    import sss\n",
    "    2/0\n",
    "except Exception as e:##general exception to all the errors\n",
    "    print(e)"
   ]
  },
  {
   "cell_type": "code",
   "execution_count": 12,
   "metadata": {},
   "outputs": [
    {
     "name": "stdout",
     "output_type": "stream",
     "text": [
      "This is my error\n"
     ]
    }
   ],
   "source": [
    "class my_error(Exception):\n",
    "    def __init__(self,msg):\n",
    "        self._msg=msg\n",
    "    def get_msg(self):\n",
    "        return self._msg\n",
    "class Coding_is_fun():\n",
    "    def __init__(self,num):\n",
    "        if num<10:\n",
    "            raise my_error(\"This is my error\")##ananomous object\n",
    "            ##raise is the through block of the python\n",
    "try:\n",
    "    x=Coding_is_fun(5)\n",
    "except my_error as e:\n",
    "    print(e.get_msg())"
   ]
  }
 ],
 "metadata": {
  "kernelspec": {
   "display_name": "Python 3",
   "language": "python",
   "name": "python3"
  },
  "language_info": {
   "codemirror_mode": {
    "name": "ipython",
    "version": 3
   },
   "file_extension": ".py",
   "mimetype": "text/x-python",
   "name": "python",
   "nbconvert_exporter": "python",
   "pygments_lexer": "ipython3",
   "version": "3.7.4"
  }
 },
 "nbformat": 4,
 "nbformat_minor": 2
}
