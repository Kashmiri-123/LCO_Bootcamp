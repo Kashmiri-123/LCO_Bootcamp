{
 "cells": [
  {
   "cell_type": "code",
   "execution_count": 2,
   "metadata": {},
   "outputs": [
    {
     "name": "stdout",
     "output_type": "stream",
     "text": [
      "[12 34]\n"
     ]
    }
   ],
   "source": [
    "import numpy as np\n",
    "x=np.array([12,34])\n",
    "print(x)"
   ]
  },
  {
   "cell_type": "code",
   "execution_count": 3,
   "metadata": {},
   "outputs": [
    {
     "data": {
      "text/plain": [
       "numpy.ndarray"
      ]
     },
     "execution_count": 3,
     "metadata": {},
     "output_type": "execute_result"
    }
   ],
   "source": [
    "type(x)"
   ]
  },
  {
   "cell_type": "code",
   "execution_count": 5,
   "metadata": {},
   "outputs": [
    {
     "data": {
      "text/plain": [
       "array([[0., 0., 0.],\n",
       "       [0., 0., 0.],\n",
       "       [0., 0., 0.],\n",
       "       [0., 0., 0.],\n",
       "       [0., 0., 0.]])"
      ]
     },
     "execution_count": 5,
     "metadata": {},
     "output_type": "execute_result"
    }
   ],
   "source": [
    "np.zeros((5,3))\n"
   ]
  },
  {
   "cell_type": "code",
   "execution_count": 8,
   "metadata": {},
   "outputs": [
    {
     "data": {
      "text/plain": [
       "array([[1., 1.],\n",
       "       [1., 1.]])"
      ]
     },
     "execution_count": 8,
     "metadata": {},
     "output_type": "execute_result"
    }
   ],
   "source": [
    "np.ones((2,2))"
   ]
  },
  {
   "cell_type": "code",
   "execution_count": 10,
   "metadata": {},
   "outputs": [
    {
     "data": {
      "text/plain": [
       "array([ 0.59935817,  0.64409189, -0.11675715,  0.32181476])"
      ]
     },
     "execution_count": 10,
     "metadata": {},
     "output_type": "execute_result"
    }
   ],
   "source": [
    "np.random.randn(4)"
   ]
  },
  {
   "cell_type": "code",
   "execution_count": 19,
   "metadata": {},
   "outputs": [
    {
     "data": {
      "text/plain": [
       "35"
      ]
     },
     "execution_count": 19,
     "metadata": {},
     "output_type": "execute_result"
    }
   ],
   "source": [
    "np.random.randint(12,56)"
   ]
  },
  {
   "cell_type": "code",
   "execution_count": 20,
   "metadata": {},
   "outputs": [
    {
     "data": {
      "text/plain": [
       "array([[1., 0., 0., 0.],\n",
       "       [0., 1., 0., 0.],\n",
       "       [0., 0., 1., 0.],\n",
       "       [0., 0., 0., 1.]])"
      ]
     },
     "execution_count": 20,
     "metadata": {},
     "output_type": "execute_result"
    }
   ],
   "source": [
    "np.eye(4)##generates identity matrix"
   ]
  },
  {
   "cell_type": "code",
   "execution_count": 21,
   "metadata": {},
   "outputs": [
    {
     "data": {
      "text/plain": [
       "array([[1., 0., 0.],\n",
       "       [0., 1., 0.],\n",
       "       [0., 0., 1.]])"
      ]
     },
     "execution_count": 21,
     "metadata": {},
     "output_type": "execute_result"
    }
   ],
   "source": [
    "np.identity(3)"
   ]
  },
  {
   "cell_type": "code",
   "execution_count": 30,
   "metadata": {},
   "outputs": [
    {
     "data": {
      "text/plain": [
       "array([1.        , 3.33333333, 5.66666667, 8.        ])"
      ]
     },
     "execution_count": 30,
     "metadata": {},
     "output_type": "execute_result"
    }
   ],
   "source": [
    "np.linspace(1,8,4)"
   ]
  },
  {
   "cell_type": "code",
   "execution_count": 32,
   "metadata": {},
   "outputs": [
    {
     "data": {
      "text/plain": [
       "array([1.        , 2.14285714, 3.28571429, 4.42857143, 5.57142857,\n",
       "       6.71428571, 7.85714286, 9.        ])"
      ]
     },
     "execution_count": 32,
     "metadata": {},
     "output_type": "execute_result"
    }
   ],
   "source": [
    "np.linspace(1,9,8)"
   ]
  },
  {
   "cell_type": "code",
   "execution_count": 33,
   "metadata": {},
   "outputs": [
    {
     "data": {
      "text/plain": [
       "array([ 100.        ,  215.443469  ,  464.15888336, 1000.        ])"
      ]
     },
     "execution_count": 33,
     "metadata": {},
     "output_type": "execute_result"
    }
   ],
   "source": [
    "np.logspace(2,3,4)"
   ]
  },
  {
   "cell_type": "code",
   "execution_count": 34,
   "metadata": {},
   "outputs": [
    {
     "data": {
      "text/plain": [
       "array([1.00000000e+00, 6.30957344e+00, 3.98107171e+01, 2.51188643e+02,\n",
       "       1.58489319e+03, 1.00000000e+04, 6.30957344e+04, 3.98107171e+05,\n",
       "       2.51188643e+06, 1.58489319e+07, 1.00000000e+08])"
      ]
     },
     "execution_count": 34,
     "metadata": {},
     "output_type": "execute_result"
    }
   ],
   "source": [
    "np.logspace(0,8,11)"
   ]
  },
  {
   "cell_type": "code",
   "execution_count": 35,
   "metadata": {},
   "outputs": [
    {
     "data": {
      "text/plain": [
       "array([2.        , 2.33333333, 2.66666667, 3.        ])"
      ]
     },
     "execution_count": 35,
     "metadata": {},
     "output_type": "execute_result"
    }
   ],
   "source": [
    "np.linspace(2,3,4)"
   ]
  },
  {
   "cell_type": "code",
   "execution_count": 36,
   "metadata": {},
   "outputs": [
    {
     "data": {
      "text/plain": [
       "array([0. , 0.8, 1.6, 2.4, 3.2, 4. , 4.8, 5.6, 6.4, 7.2, 8. ])"
      ]
     },
     "execution_count": 36,
     "metadata": {},
     "output_type": "execute_result"
    }
   ],
   "source": [
    "np.linspace(0,8,11)"
   ]
  },
  {
   "cell_type": "code",
   "execution_count": 38,
   "metadata": {},
   "outputs": [
    {
     "data": {
      "text/plain": [
       "array([12, 34])"
      ]
     },
     "execution_count": 38,
     "metadata": {},
     "output_type": "execute_result"
    }
   ],
   "source": [
    "x=np.array([12,34])\n",
    "x"
   ]
  },
  {
   "cell_type": "code",
   "execution_count": 39,
   "metadata": {},
   "outputs": [
    {
     "data": {
      "text/plain": [
       "array([99, 34])"
      ]
     },
     "execution_count": 39,
     "metadata": {},
     "output_type": "execute_result"
    }
   ],
   "source": [
    "x[0]=99\n",
    "x"
   ]
  },
  {
   "cell_type": "code",
   "execution_count": 40,
   "metadata": {},
   "outputs": [
    {
     "data": {
      "text/plain": [
       "array([1.39e-43, 4.76e-44], dtype=float32)"
      ]
     },
     "execution_count": 40,
     "metadata": {},
     "output_type": "execute_result"
    }
   ],
   "source": [
    "x.dtype=np.float32\n",
    "x"
   ]
  },
  {
   "cell_type": "code",
   "execution_count": 41,
   "metadata": {},
   "outputs": [
    {
     "data": {
      "text/plain": [
       "array(['a', 'b', 'h'], dtype=object)"
      ]
     },
     "execution_count": 41,
     "metadata": {},
     "output_type": "execute_result"
    }
   ],
   "source": [
    "xx=np.array(['a','b','h'],dtype=np.object)\n",
    "xx"
   ]
  },
  {
   "cell_type": "code",
   "execution_count": 43,
   "metadata": {},
   "outputs": [
    {
     "data": {
      "text/plain": [
       "array([['a', 'b', 'h']], dtype='<U1')"
      ]
     },
     "execution_count": 43,
     "metadata": {},
     "output_type": "execute_result"
    }
   ],
   "source": [
    "xx=np.array([('a','b','h')])\n",
    "xx"
   ]
  },
  {
   "cell_type": "code",
   "execution_count": 54,
   "metadata": {},
   "outputs": [
    {
     "data": {
      "text/plain": [
       "array([-0.25931404,  0.15267245,  0.26735521, -0.78553574,  1.03500945,\n",
       "       -0.94120476, -1.10020159, -2.3993921 , -0.33322964, -0.28242134,\n",
       "       -0.34705777,  1.116828  ,  0.25779508, -1.30408013,  0.76520251,\n",
       "       -1.46084063, -0.99478615, -0.09154859,  1.57412054, -1.07639539,\n",
       "       -1.25762363, -1.31783619, -1.494797  , -0.7628729 ,  0.26426703,\n",
       "       -0.58380982,  1.0421643 ,  0.02137768, -0.03220619,  0.16389098,\n",
       "       -1.12209757,  1.35461814, -0.05377256, -1.58568831,  0.31582423,\n",
       "        0.42041557,  0.50629496,  1.57251988,  0.355785  ,  0.07634771,\n",
       "       -0.09645391,  1.54434897, -0.11118189, -0.35584056,  0.52421498,\n",
       "        1.50502732,  0.48246307, -0.69156622,  0.27857996, -0.98631991,\n",
       "        1.31540316,  0.45681844, -0.12721081,  0.01067981,  1.53328054,\n",
       "       -0.64451918])"
      ]
     },
     "execution_count": 54,
     "metadata": {},
     "output_type": "execute_result"
    }
   ],
   "source": [
    "z=np.random.randn(56)\n",
    "z"
   ]
  },
  {
   "cell_type": "code",
   "execution_count": 55,
   "metadata": {},
   "outputs": [
    {
     "data": {
      "text/plain": [
       "array([[-0.25931404,  0.15267245,  0.26735521, -0.78553574,  1.03500945,\n",
       "        -0.94120476, -1.10020159, -2.3993921 ],\n",
       "       [-0.33322964, -0.28242134, -0.34705777,  1.116828  ,  0.25779508,\n",
       "        -1.30408013,  0.76520251, -1.46084063],\n",
       "       [-0.99478615, -0.09154859,  1.57412054, -1.07639539, -1.25762363,\n",
       "        -1.31783619, -1.494797  , -0.7628729 ],\n",
       "       [ 0.26426703, -0.58380982,  1.0421643 ,  0.02137768, -0.03220619,\n",
       "         0.16389098, -1.12209757,  1.35461814],\n",
       "       [-0.05377256, -1.58568831,  0.31582423,  0.42041557,  0.50629496,\n",
       "         1.57251988,  0.355785  ,  0.07634771],\n",
       "       [-0.09645391,  1.54434897, -0.11118189, -0.35584056,  0.52421498,\n",
       "         1.50502732,  0.48246307, -0.69156622],\n",
       "       [ 0.27857996, -0.98631991,  1.31540316,  0.45681844, -0.12721081,\n",
       "         0.01067981,  1.53328054, -0.64451918]])"
      ]
     },
     "execution_count": 55,
     "metadata": {},
     "output_type": "execute_result"
    }
   ],
   "source": [
    "z.reshape(7,8)"
   ]
  },
  {
   "cell_type": "code",
   "execution_count": 49,
   "metadata": {},
   "outputs": [
    {
     "data": {
      "text/plain": [
       "array([[-0.34600946],\n",
       "       [-1.19093856],\n",
       "       [-0.49306164],\n",
       "       [ 0.23257597],\n",
       "       [-2.57542822],\n",
       "       [ 0.69978331],\n",
       "       [-1.38453032],\n",
       "       [-0.66731833],\n",
       "       [ 0.62447711],\n",
       "       [-1.61279394],\n",
       "       [ 0.07726199],\n",
       "       [-0.34199832],\n",
       "       [ 0.0059425 ],\n",
       "       [ 0.04921001],\n",
       "       [-1.61080738],\n",
       "       [-1.45382161],\n",
       "       [ 1.87831122],\n",
       "       [-1.75416017],\n",
       "       [ 0.17029875],\n",
       "       [-0.85377097],\n",
       "       [-0.81998071],\n",
       "       [ 0.75213716],\n",
       "       [-0.86714045],\n",
       "       [-0.21248229],\n",
       "       [-0.44018678]])"
      ]
     },
     "execution_count": 49,
     "metadata": {},
     "output_type": "execute_result"
    }
   ],
   "source": [
    "z.reshape(25,1)##returns"
   ]
  },
  {
   "cell_type": "code",
   "execution_count": 50,
   "metadata": {},
   "outputs": [
    {
     "data": {
      "text/plain": [
       "array([[-0.34600946],\n",
       "       [-1.19093856],\n",
       "       [-0.49306164],\n",
       "       [ 0.23257597],\n",
       "       [-2.57542822],\n",
       "       [ 0.69978331],\n",
       "       [-1.38453032],\n",
       "       [-0.66731833],\n",
       "       [ 0.62447711],\n",
       "       [-1.61279394],\n",
       "       [ 0.07726199],\n",
       "       [-0.34199832],\n",
       "       [ 0.0059425 ],\n",
       "       [ 0.04921001],\n",
       "       [-1.61080738],\n",
       "       [-1.45382161],\n",
       "       [ 1.87831122],\n",
       "       [-1.75416017],\n",
       "       [ 0.17029875],\n",
       "       [-0.85377097],\n",
       "       [-0.81998071],\n",
       "       [ 0.75213716],\n",
       "       [-0.86714045],\n",
       "       [-0.21248229],\n",
       "       [-0.44018678]])"
      ]
     },
     "execution_count": 50,
     "metadata": {},
     "output_type": "execute_result"
    }
   ],
   "source": [
    "z.reshape(-1,1)"
   ]
  },
  {
   "cell_type": "code",
   "execution_count": 51,
   "metadata": {},
   "outputs": [
    {
     "data": {
      "text/plain": [
       "array([[-0.34600946, -1.19093856, -0.49306164,  0.23257597, -2.57542822,\n",
       "         0.69978331, -1.38453032, -0.66731833,  0.62447711, -1.61279394,\n",
       "         0.07726199, -0.34199832,  0.0059425 ,  0.04921001, -1.61080738,\n",
       "        -1.45382161,  1.87831122, -1.75416017,  0.17029875, -0.85377097,\n",
       "        -0.81998071,  0.75213716, -0.86714045, -0.21248229, -0.44018678]])"
      ]
     },
     "execution_count": 51,
     "metadata": {},
     "output_type": "execute_result"
    }
   ],
   "source": [
    "z.reshape(1,-1)"
   ]
  },
  {
   "cell_type": "code",
   "execution_count": 59,
   "metadata": {},
   "outputs": [],
   "source": [
    "##resize=modifies the object\n"
   ]
  },
  {
   "cell_type": "code",
   "execution_count": 57,
   "metadata": {},
   "outputs": [
    {
     "data": {
      "text/plain": [
       "array([-0.25931404,  0.15267245,  0.26735521, -0.78553574,  1.03500945,\n",
       "       -0.94120476, -1.10020159, -2.3993921 , -0.33322964, -0.28242134,\n",
       "       -0.34705777,  1.116828  ,  0.25779508, -1.30408013,  0.76520251,\n",
       "       -1.46084063, -0.99478615, -0.09154859,  1.57412054, -1.07639539,\n",
       "       -1.25762363, -1.31783619, -1.494797  , -0.7628729 ,  0.26426703,\n",
       "       -0.58380982,  1.0421643 ,  0.02137768, -0.03220619,  0.16389098,\n",
       "       -1.12209757,  1.35461814, -0.05377256, -1.58568831,  0.31582423,\n",
       "        0.42041557,  0.50629496,  1.57251988,  0.355785  ,  0.07634771,\n",
       "       -0.09645391,  1.54434897, -0.11118189, -0.35584056,  0.52421498,\n",
       "        1.50502732,  0.48246307, -0.69156622,  0.27857996, -0.98631991,\n",
       "        1.31540316,  0.45681844, -0.12721081,  0.01067981,  1.53328054,\n",
       "       -0.64451918])"
      ]
     },
     "execution_count": 57,
     "metadata": {},
     "output_type": "execute_result"
    }
   ],
   "source": [
    "z.ravel()"
   ]
  },
  {
   "cell_type": "code",
   "execution_count": 66,
   "metadata": {},
   "outputs": [
    {
     "data": {
      "text/plain": [
       "array([[1., 1., 1.],\n",
       "       [1., 1., 1.],\n",
       "       [1., 1., 1.]])"
      ]
     },
     "execution_count": 66,
     "metadata": {},
     "output_type": "execute_result"
    }
   ],
   "source": [
    "a=np.ones((3,3))\n",
    "a"
   ]
  },
  {
   "cell_type": "code",
   "execution_count": 79,
   "metadata": {},
   "outputs": [
    {
     "data": {
      "text/plain": [
       "array([[1., 9., 1.],\n",
       "       [1., 4., 1.],\n",
       "       [1., 1., 1.]])"
      ]
     },
     "execution_count": 79,
     "metadata": {},
     "output_type": "execute_result"
    }
   ],
   "source": [
    "a[0][1]=9\n",
    "a[1][1]=4\n",
    "a"
   ]
  },
  {
   "cell_type": "code",
   "execution_count": 83,
   "metadata": {},
   "outputs": [
    {
     "data": {
      "text/plain": [
       "array([[0.        , 2.19722458, 0.        ],\n",
       "       [0.        , 1.38629436, 0.        ],\n",
       "       [0.        , 0.        , 0.        ]])"
      ]
     },
     "execution_count": 83,
     "metadata": {},
     "output_type": "execute_result"
    }
   ],
   "source": [
    "np.log(a)"
   ]
  },
  {
   "cell_type": "code",
   "execution_count": 82,
   "metadata": {},
   "outputs": [
    {
     "data": {
      "text/plain": [
       "array([[1., 1., 1.],\n",
       "       [9., 4., 1.],\n",
       "       [1., 1., 1.]])"
      ]
     },
     "execution_count": 82,
     "metadata": {},
     "output_type": "execute_result"
    }
   ],
   "source": [
    "a.T##transpose"
   ]
  },
  {
   "cell_type": "code",
   "execution_count": 76,
   "metadata": {},
   "outputs": [
    {
     "data": {
      "text/plain": [
       "array([[1., 1., 1.],\n",
       "       [1., 1., 1.],\n",
       "       [1., 1., 1.]])"
      ]
     },
     "execution_count": 76,
     "metadata": {},
     "output_type": "execute_result"
    }
   ],
   "source": [
    "w=np.ones((3,3))\n",
    "w"
   ]
  },
  {
   "cell_type": "code",
   "execution_count": 78,
   "metadata": {},
   "outputs": [
    {
     "data": {
      "text/plain": [
       "array([[11., 11., 11.],\n",
       "       [ 6.,  6.,  6.],\n",
       "       [ 3.,  3.,  3.]])"
      ]
     },
     "execution_count": 78,
     "metadata": {},
     "output_type": "execute_result"
    }
   ],
   "source": [
    "##multiple two matrix\n",
    "np.matmul(a,w)"
   ]
  }
 ],
 "metadata": {
  "kernelspec": {
   "display_name": "Python 3",
   "language": "python",
   "name": "python3"
  },
  "language_info": {
   "codemirror_mode": {
    "name": "ipython",
    "version": 3
   },
   "file_extension": ".py",
   "mimetype": "text/x-python",
   "name": "python",
   "nbconvert_exporter": "python",
   "pygments_lexer": "ipython3",
   "version": "3.7.4"
  }
 },
 "nbformat": 4,
 "nbformat_minor": 2
}
