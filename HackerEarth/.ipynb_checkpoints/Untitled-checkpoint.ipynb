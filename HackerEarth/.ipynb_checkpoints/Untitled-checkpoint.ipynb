{
 "cells": [
  {
   "cell_type": "code",
   "execution_count": 3,
   "metadata": {},
   "outputs": [
    {
     "name": "stdout",
     "output_type": "stream",
     "text": [
      "Enter : 10 5\n",
      "2\n"
     ]
    }
   ],
   "source": [
    "fnum,snum=input(\"Enter : \").split()\n",
    "fnum=int(fnum)\n",
    "snum=int(snum)\n",
    "count=0\n",
    "for i in range(1,min(fnum,snum)+1):\n",
    "    if fnum%i==snum%i==0:\n",
    "        count+=1\n",
    "print(count)"
   ]
  },
  {
   "cell_type": "code",
   "execution_count": 12,
   "metadata": {},
   "outputs": [
    {
     "name": "stdout",
     "output_type": "stream",
     "text": [
      "Enter the size of the array : 5\n",
      "1 2 3 4 5\n",
      "4\n"
     ]
    }
   ],
   "source": [
    "array_size=int(input(\"Enter the size of the array : \"))\n",
    "list=input().split()\n",
    "sum=0\n",
    "for i,v in enumerate(list):\n",
    "    sum=sum+int(v)\n",
    "for j in list:\n",
    "    if int(j)*array_size>sum:\n",
    "        print(j)\n",
    "        break"
   ]
  },
  {
   "cell_type": "code",
   "execution_count": 20,
   "metadata": {},
   "outputs": [
    {
     "name": "stdout",
     "output_type": "stream",
     "text": [
      "3\n",
      "10 11 12\n",
      "12\n"
     ]
    }
   ],
   "source": [
    "array_size=int(input(\"\"))\n",
    "list=input().split()\n",
    "sum=0\n",
    "carrier=[]\n",
    "p=0\n",
    "for i,v in enumerate(list):\n",
    "    sum=sum+int(v)\n",
    "for j in list:\n",
    "    if int(j)*array_size>sum:\n",
    "        carrier.append(j)\n",
    "p=min(carrier)\n",
    "print(p)"
   ]
  },
  {
   "cell_type": "code",
   "execution_count": 27,
   "metadata": {},
   "outputs": [
    {
     "name": "stdout",
     "output_type": "stream",
     "text": [
      "3\n",
      "sumit mitsu\n",
      "YES\n",
      "ambuj jumba\n",
      "YES\n",
      "abhi hibb\n",
      "NO\n"
     ]
    }
   ],
   "source": [
    "test_case_num=int(input(\"\"))\n",
    "while test_case_num>0:\n",
    "    f_string,s_string=input().split()\n",
    "    f_string=sorted(f_string)\n",
    "    s_string=sorted(s_string)\n",
    "    if f_string==s_string:\n",
    "        print(\"YES\")\n",
    "    else:\n",
    "        print(\"NO\")\n",
    "    test_case_num-=1"
   ]
  },
  {
   "cell_type": "code",
   "execution_count": null,
   "metadata": {},
   "outputs": [],
   "source": [
    "sumit mitsu\n",
    "ambuj jumba\n",
    "abhi hibb\n"
   ]
  },
  {
   "cell_type": "code",
   "execution_count": 49,
   "metadata": {},
   "outputs": [
    {
     "name": "stdout",
     "output_type": "stream",
     "text": [
      "Enter number : 1401601499\n",
      "10\n",
      "olegal ISBN\n"
     ]
    }
   ],
   "source": [
    "input_num=input(\"Enter number : \")\n",
    "sum=0\n",
    "p=1\n",
    "if len(input_num)==10:\n",
    "    for i,v in enumerate(input_num):\n",
    "        sum=sum+(p*int(v))\n",
    "        p+=1\n",
    "    if sum%11==0:\n",
    "        print(\"Legal ISBN\")\n",
    "    else:\n",
    "        print(\"llegal ISBN\")\n",
    "else:\n",
    "    print(\"Illegal ISBN\")\n",
    "    \n"
   ]
  },
  {
   "cell_type": "code",
   "execution_count": null,
   "metadata": {},
   "outputs": [],
   "source": [
    "1401601499"
   ]
  },
  {
   "cell_type": "code",
   "execution_count": 43,
   "metadata": {},
   "outputs": [
    {
     "name": "stdout",
     "output_type": "stream",
     "text": [
      "5\n"
     ]
    }
   ],
   "source": [
    "ListName = [ \"Hello\", \"Edureka\", 1,2,3 ]\n",
    "print(len(ListName))"
   ]
  }
 ],
 "metadata": {
  "kernelspec": {
   "display_name": "Python 3",
   "language": "python",
   "name": "python3"
  },
  "language_info": {
   "codemirror_mode": {
    "name": "ipython",
    "version": 3
   },
   "file_extension": ".py",
   "mimetype": "text/x-python",
   "name": "python",
   "nbconvert_exporter": "python",
   "pygments_lexer": "ipython3",
   "version": "3.7.4"
  }
 },
 "nbformat": 4,
 "nbformat_minor": 2
}
