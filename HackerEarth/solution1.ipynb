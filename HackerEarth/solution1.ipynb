{
 "cells": [
  {
   "cell_type": "code",
   "execution_count": 3,
   "metadata": {},
   "outputs": [
    {
     "name": "stdout",
     "output_type": "stream",
     "text": [
      "Enter : 10 5\n",
      "2\n"
     ]
    }
   ],
   "source": [
    "fnum,snum=input(\"Enter : \").split()\n",
    "fnum=int(fnum)\n",
    "snum=int(snum)\n",
    "count=0\n",
    "for i in range(1,min(fnum,snum)+1):\n",
    "    if fnum%i==snum%i==0:\n",
    "        count+=1\n",
    "print(count)"
   ]
  },
  {
   "cell_type": "code",
   "execution_count": 20,
   "metadata": {},
   "outputs": [
    {
     "name": "stdout",
     "output_type": "stream",
     "text": [
      "3\n",
      "10 11 12\n",
      "12\n"
     ]
    }
   ],
   "source": [
    "array_size=int(input(\"\"))\n",
    "list=input().split()\n",
    "sum=0\n",
    "carrier=[]\n",
    "p=0\n",
    "for i,v in enumerate(list):\n",
    "    sum=sum+int(v)\n",
    "for j in list:\n",
    "    if int(j)*array_size>sum:\n",
    "        carrier.append(j)\n",
    "p=min(carrier)\n",
    "print(p)"
   ]
  },
  {
   "cell_type": "code",
   "execution_count": 27,
   "metadata": {},
   "outputs": [
    {
     "name": "stdout",
     "output_type": "stream",
     "text": [
      "3\n",
      "sumit mitsu\n",
      "YES\n",
      "ambuj jumba\n",
      "YES\n",
      "abhi hibb\n",
      "NO\n"
     ]
    }
   ],
   "source": [
    "test_case_num=int(input(\"\"))\n",
    "while test_case_num>0:\n",
    "    f_string,s_string=input().split()\n",
    "    f_string=sorted(f_string)\n",
    "    s_string=sorted(s_string)\n",
    "    if f_string==s_string:\n",
    "        print(\"YES\")\n",
    "    else:\n",
    "        print(\"NO\")\n",
    "    test_case_num-=1"
   ]
  },
  {
   "cell_type": "code",
   "execution_count": null,
   "metadata": {},
   "outputs": [],
   "source": [
    "sumit mitsu\n",
    "ambuj jumba\n",
    "abhi hibb\n"
   ]
  },
  {
   "cell_type": "code",
   "execution_count": 50,
   "metadata": {},
   "outputs": [
    {
     "name": "stdout",
     "output_type": "stream",
     "text": [
      "Enter number : 1401601499\n",
      "Legal ISBN\n"
     ]
    }
   ],
   "source": [
    "input_num=input(\"Enter number : \")\n",
    "sum=0\n",
    "p=1\n",
    "if len(input_num)==10:\n",
    "    for i,v in enumerate(input_num):\n",
    "        sum=sum+(p*int(v))\n",
    "        p+=1\n",
    "    if sum%11==0:\n",
    "        print(\"Legal ISBN\")\n",
    "    else:\n",
    "        print(\"llegal ISBN\")\n",
    "else:\n",
    "    print(\"Illegal ISBN\")\n",
    "    \n"
   ]
  },
  {
   "cell_type": "code",
   "execution_count": null,
   "metadata": {},
   "outputs": [],
   "source": [
    "1401601499"
   ]
  },
  {
   "cell_type": "code",
   "execution_count": 43,
   "metadata": {},
   "outputs": [
    {
     "name": "stdout",
     "output_type": "stream",
     "text": [
      "5\n"
     ]
    }
   ],
   "source": [
    "input_string = input()\n",
    "input_cypher_code = int(input())\n",
    "for items in input_string:\n",
    "    if items.isalpha():\n",
    "        value = ord(items)\n",
    "        value = value + input_cypher_code\n",
    "        if items.islower():\n",
    "            if value > 122:\n",
    "                value = 122 - value\n",
    "                value = value + 96\n",
    "        if items.isupper():\n",
    "            if value > 90:\n",
    "                value = 90 - value\n",
    "                value = value + 65\n",
    "        value = chr(value)\n",
    "        input_string = input_string.replace(items,value)\n",
    "    elif items.isdigit():\n",
    "        value = int(items) + input_cypher_code\n",
    "        value = value % 10\n",
    "        value = str(value)\n",
    "        input_string = input_string.replace(items,value)\n",
    "    else:\n",
    "        pass\n",
    "print(input_string)"
   ]
  },
  {
   "cell_type": "code",
   "execution_count": 100,
   "metadata": {},
   "outputs": [
    {
     "name": "stdout",
     "output_type": "stream",
     "text": [
      "Enter : All-convoYs-9-be:Alert1.\n",
      "Enter number : 4\n",
      "Ell-convoYs-9-be:Elert1.\n",
      "App-convoYs-9-be:Apert1.\n",
      "App-convoYs-9-be:Apert1.\n",
      "All-gonvoYs-9-be:Alert1.\n",
      "All-csnvsYs-9-be:Alert1.\n",
      "All-corvoYs-9-be:Alert1.\n",
      "All-conzoYs-9-be:Alert1.\n",
      "All-csnvsYs-9-be:Alert1.\n",
      "All-convo]s-9-be:Alert1.\n",
      "All-convoYw-9-be:Alert1.\n"
     ]
    },
    {
     "ename": "TypeError",
     "evalue": "'list' object is not callable",
     "output_type": "error",
     "traceback": [
      "\u001b[1;31m---------------------------------------------------------------------------\u001b[0m",
      "\u001b[1;31mTypeError\u001b[0m                                 Traceback (most recent call last)",
      "\u001b[1;32m<ipython-input-100-75834c7bc567>\u001b[0m in \u001b[0;36m<module>\u001b[1;34m\u001b[0m\n\u001b[0;32m      8\u001b[0m     \u001b[1;32melif\u001b[0m \u001b[0mi\u001b[0m\u001b[1;33m.\u001b[0m\u001b[0misdigit\u001b[0m\u001b[1;33m(\u001b[0m\u001b[1;33m)\u001b[0m\u001b[1;33m:\u001b[0m\u001b[1;33m\u001b[0m\u001b[1;33m\u001b[0m\u001b[0m\n\u001b[0;32m      9\u001b[0m         \u001b[0mp\u001b[0m\u001b[1;33m=\u001b[0m\u001b[0mint\u001b[0m\u001b[1;33m(\u001b[0m\u001b[0mi\u001b[0m\u001b[1;33m)\u001b[0m\u001b[1;33m+\u001b[0m\u001b[0minput_num\u001b[0m\u001b[1;33m\u001b[0m\u001b[1;33m\u001b[0m\u001b[0m\n\u001b[1;32m---> 10\u001b[1;33m         \u001b[0mp\u001b[0m\u001b[1;33m=\u001b[0m\u001b[0mstr\u001b[0m\u001b[1;33m(\u001b[0m\u001b[0mp\u001b[0m\u001b[1;33m)\u001b[0m\u001b[1;33m\u001b[0m\u001b[1;33m\u001b[0m\u001b[0m\n\u001b[0m\u001b[0;32m     11\u001b[0m         \u001b[0mnew_string\u001b[0m\u001b[1;33m=\u001b[0m\u001b[0minput_string\u001b[0m\u001b[1;33m.\u001b[0m\u001b[0mreplace\u001b[0m\u001b[1;33m(\u001b[0m\u001b[0mi\u001b[0m\u001b[1;33m,\u001b[0m\u001b[0mp\u001b[0m\u001b[1;33m)\u001b[0m\u001b[1;33m\u001b[0m\u001b[1;33m\u001b[0m\u001b[0m\n\u001b[0;32m     12\u001b[0m         \u001b[0mprint\u001b[0m\u001b[1;33m(\u001b[0m\u001b[0mnew_string\u001b[0m\u001b[1;33m)\u001b[0m\u001b[1;33m\u001b[0m\u001b[1;33m\u001b[0m\u001b[0m\n",
      "\u001b[1;31mTypeError\u001b[0m: 'list' object is not callable"
     ]
    }
   ],
   "source": [
    "input_string=input(\"Enter : \")\n",
    "input_num=int(input(\"Enter number : \"))\n",
    "new_string=input_string\n",
    "for i in input_string:\n",
    "    if i.isalpha():\n",
    "        new_string=input_string.replace(i,chr(ord(i)+input_num))\n",
    "        print(new_string)\n",
    "    elif i.isdigit():\n",
    "        p=int(i)+input_num\n",
    "        p=str(p)\n",
    "        new_string=input_string.replace(i,p)\n",
    "        print(new_string)\n",
    "    else:\n",
    "        pass\n",
    "print(new_string)     "
   ]
  },
  {
   "cell_type": "code",
   "execution_count": 55,
   "metadata": {},
   "outputs": [
    {
     "name": "stdout",
     "output_type": "stream",
     "text": [
      "E\n"
     ]
    }
   ],
   "source": [
    "Epp-gsrzsCw-3-fi:Epivx5.\n",
    "    All-convoYs-9-be:Alert1.\n"
   ]
  },
  {
   "cell_type": "code",
   "execution_count": 105,
   "metadata": {},
   "outputs": [
    {
     "name": "stdout",
     "output_type": "stream",
     "text": [
      "Enter : All-convoYs-9-be:Alert1.\n",
      "Enter number : 4\n",
      "Ell-convoYs-9-be:Elert1.\n",
      "Epp-convoYs-9-be:Epert1.\n",
      "Epp-convoYs-9-be:Epert1.\n",
      "Epp-gonvoYs-9-be:Epert1.\n",
      "Epp-gsnvsYs-9-be:Epert1.\n",
      "Epp-gsrvsYs-9-be:Epert1.\n",
      "Epp-gsrzsYs-9-be:Epert1.\n",
      "Epp-gsrzsYs-9-be:Epert1.\n",
      "Epp-gsrzs]s-9-be:Epert1.\n",
      "Epp-gwrzw]w-9-be:Epert1.\n",
      "Epp-gwrzw]w-p-be:Epert1.\n",
      "Epp-gwrzw]w-p-fe:Epert1.\n",
      "Epp-gwrzw]w-p-fi:Epirt1.\n",
      "Epp-gwrzw]w-p-fi:Epirt1.\n",
      "Epp-gwrzw]w-p-fi:Epirt1.\n",
      "Epp-gwrzw]w-p-fi:Epirt1.\n",
      "Epp-gwvzw]w-p-fi:Epivt1.\n",
      "Epp-gwvzw]w-p-fi:Epivx1.\n",
      "Epp-gwvzw]w-p-fi:Epivxp.\n",
      "Epp-gwvzw]w-p-fi:Epivxp.\n"
     ]
    }
   ],
   "source": [
    "input_string=input(\"Enter : \")\n",
    "input_num=int(input(\"Enter number : \"))\n",
    "new_string=input_string\n",
    "for i in input_string:\n",
    "    if i.isalpha():\n",
    "        input_string=input_string.replace(i,chr(ord(i)+input_num))\n",
    "        print(input_string)\n",
    "    elif i.isdigit():\n",
    "        r=int(i)\n",
    "        p=int(r+input_num)\n",
    "        input_string=input_string.replace(i,\"p\")\n",
    "        print(input_string)\n",
    "    else:\n",
    "        pass\n",
    "print(input_string)"
   ]
  },
  {
   "cell_type": "code",
   "execution_count": null,
   "metadata": {},
   "outputs": [],
   "source": [
    "Epp-gsrzsCw-3-fi:Epivx5.\n",
    "    All-convoYs-9-be:Alert1.\n"
   ]
  },
  {
   "cell_type": "code",
   "execution_count": 106,
   "metadata": {},
   "outputs": [
    {
     "name": "stdout",
     "output_type": "stream",
     "text": [
      "Enter : 6\n",
      "YES\n"
     ]
    }
   ],
   "source": [
    "input_number=int(input(\"Enter : \"))\n",
    "if input_number%3==0:\n",
    "    print(\"YES\")\n",
    "else:\n",
    "    print(\"NO\")"
   ]
  },
  {
   "cell_type": "code",
   "execution_count": 107,
   "metadata": {},
   "outputs": [
    {
     "name": "stdout",
     "output_type": "stream",
     "text": [
      "Enter days : 3\n",
      "3 2\n",
      "5 2\n",
      "1 2\n",
      "3\n"
     ]
    }
   ],
   "source": [
    "num_days=int(input(\"Enter days : \"))\n",
    "count=0\n",
    "while num_days>0:\n",
    "    radius,horlicks=input().split()\n",
    "    radius=int(radius)\n",
    "    horlicks=int(horlicks)\n",
    "    circumference=2*3.14*radius   \n",
    "    distance=horlicks*100\n",
    "    if distance>=circumference:\n",
    "        count+=1\n",
    "    num_days-=1\n",
    "print(count)\n"
   ]
  },
  {
   "cell_type": "code",
   "execution_count": 1,
   "metadata": {},
   "outputs": [
    {
     "name": "stdout",
     "output_type": "stream",
     "text": [
      "Enter total number of people : 5\n",
      "Enter minimum skill : 100\n",
      "Enter skill of the person : 110\n",
      "YES\n",
      "Enter skill of the person : 130\n",
      "YES\n",
      "Enter skill of the person : 90\n",
      "NO\n",
      "Enter skill of the person : 100\n",
      "YES\n",
      "Enter skill of the person : 45\n",
      "NO\n"
     ]
    }
   ],
   "source": [
    "num_of_people=int(input(\"Enter total number of people : \"))\n",
    "min_skill=int(input(\"Enter minimum skill : \"))\n",
    "while num_of_people>0:\n",
    "    skill=int(input(\"Enter skill of the person : \"))\n",
    "    if min_skill>skill:\n",
    "        print(\"NO\")\n",
    "    elif min_skill<=skill:\n",
    "        print(\"YES\")\n",
    "    num_of_people-=1"
   ]
  },
  {
   "cell_type": "code",
   "execution_count": null,
   "metadata": {},
   "outputs": [],
   "source": [
    "num_steps=int(input(\"Enter steps : \"))\n",
    "num_step=num_steps\n",
    "for i in range(num_steps+1):\n",
    "    print()\n",
    "    print(\"*   *\")\n",
    "    print()\n",
    "    print(\"*   *\")\n",
    "    print()\n",
    "    while num_step>0:\n",
    "        print(\"*\"*5)\n",
    "        num_step-=1\n",
    "        break"
   ]
  },
  {
   "cell_type": "code",
   "execution_count": null,
   "metadata": {},
   "outputs": [],
   "source": [
    "input_string=input(\"Enter the string : \")\n",
    "sum=0\n",
    "for i in input_string:\n",
    "    sum=sum+(ord(i)-96)\n",
    "print(sum)"
   ]
  },
  {
   "cell_type": "code",
   "execution_count": 1,
   "metadata": {},
   "outputs": [
    {
     "name": "stdout",
     "output_type": "stream",
     "text": [
      "Enter number of test cases : 4\n",
      "Enter number : 23\n",
      "NO\n",
      "Enter number : 21\n",
      "YES\n",
      "Enter number : 1\n",
      "YES\n",
      "Enter number : 78\n",
      "NO\n"
     ]
    }
   ],
   "source": [
    "test_cases=int(input(\"Enter number of test cases : \"))\n",
    "while test_cases>0:\n",
    "    num=int(input(\"Enter number : \"))\n",
    "    if num%2==0:\n",
    "        while num>1:\n",
    "            num=num/2\n",
    "        if num==1:\n",
    "            print(\"YES\")\n",
    "        else:\n",
    "            print(\"NO\")\n",
    "    elif num==1:\n",
    "        print(\"YES\")\n",
    "    else:\n",
    "        num=(3*num)+1\n",
    "        while num>1:\n",
    "            num=num/2\n",
    "        if num==1:\n",
    "            print(\"YES\")\n",
    "        else:\n",
    "            print(\"NO\")\n",
    "    test_cases=test_cases-1"
   ]
  },
  {
   "cell_type": "code",
   "execution_count": 3,
   "metadata": {},
   "outputs": [
    {
     "name": "stdout",
     "output_type": "stream",
     "text": [
      "1\n",
      "1\n",
      "YES\n"
     ]
    }
   ],
   "source": [
    "num_of_test_case = int(input())\n",
    "while num_of_test_case > 0:\n",
    "    input_number = int(input())\n",
    "    if input_number % 2 == 0:\n",
    "        print(\"YES\")\n",
    "    elif not input_number % 2 == 0:\n",
    "        input_number = input_number * 3 + 1\n",
    "        if input_number % 2 == 0:\n",
    "            print(\"YES\")\n",
    "    num_of_test_case -= 1"
   ]
  },
  {
   "cell_type": "code",
   "execution_count": 8,
   "metadata": {},
   "outputs": [
    {
     "name": "stdout",
     "output_type": "stream",
     "text": [
      "Enter : 5\n",
      "85 25 65 21 84\n",
      "No\n"
     ]
    }
   ],
   "source": [
    "total_input=int(input(\"Enter : \"))\n",
    "list=input().split()\n",
    "carrier=\"\"\n",
    "for i in list:\n",
    "    i=int(i)%10\n",
    "    carrier=carrier+str(i)\n",
    "if int(carrier)%10==0:\n",
    "    print(\"Yes\")\n",
    "else:\n",
    "    print(\"No\")"
   ]
  },
  {
   "cell_type": "code",
   "execution_count": null,
   "metadata": {},
   "outputs": [],
   "source": [
    "85 25 65 21 84"
   ]
  },
  {
   "cell_type": "code",
   "execution_count": null,
   "metadata": {},
   "outputs": [],
   "source": []
  },
  {
   "cell_type": "code",
   "execution_count": null,
   "metadata": {},
   "outputs": [],
   "source": []
  }
 ],
 "metadata": {
  "kernelspec": {
   "display_name": "Python 3",
   "language": "python",
   "name": "python3"
  },
  "language_info": {
   "codemirror_mode": {
    "name": "ipython",
    "version": 3
   },
   "file_extension": ".py",
   "mimetype": "text/x-python",
   "name": "python",
   "nbconvert_exporter": "python",
   "pygments_lexer": "ipython3",
   "version": "3.7.4"
  }
 },
 "nbformat": 4,
 "nbformat_minor": 2
}
