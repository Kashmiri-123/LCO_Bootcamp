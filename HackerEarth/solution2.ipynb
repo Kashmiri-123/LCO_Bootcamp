{
 "cells": [
  {
   "cell_type": "code",
   "execution_count": 20,
   "metadata": {},
   "outputs": [
    {
     "name": "stdout",
     "output_type": "stream",
     "text": [
      "Enter : 6\n",
      "15478 8452 8232 874 985 4512\n",
      "Yes\n"
     ]
    }
   ],
   "source": [
    "total_input=int(input(\"Enter : \"))\n",
    "mid=int(total_input/2)\n",
    "list=input().split()\n",
    "carrier=\"\"\n",
    "for j in list:\n",
    "    if j==list[mid]:\n",
    "        break\n",
    "    else:\n",
    "        length=len(j)\n",
    "        if length>1:\n",
    "            ten=10**(length-1)\n",
    "            j=int(j)/ten\n",
    "            j=int(j)\n",
    "            carrier=carrier+str(j)\n",
    "        else:\n",
    "            carrier=carrier+str(j)\n",
    "for i,v in enumerate(list[mid:]):\n",
    "    length=len(v)\n",
    "    if length>1:\n",
    "        v=int(v)%10\n",
    "        carrier=carrier+str(v)\n",
    "    else:\n",
    "        carrier=carrier+str(v)\n",
    "\n",
    "if int(carrier)%11==0:\n",
    "    print(\"Yes\")\n",
    "else:\n",
    "    print(\"No\")"
   ]
  },
  {
   "cell_type": "code",
   "execution_count": 21,
   "metadata": {},
   "outputs": [
    {
     "name": "stdout",
     "output_type": "stream",
     "text": [
      "6\n",
      "15478 8452 8232 874 985 4512\n",
      "P-> 1\n",
      "P-> 8\n",
      "P-> 8\n",
      "OUI\n"
     ]
    }
   ],
   "source": [
    "num_of_input = int(input())\n",
    "elements = input().split()\n",
    "mid_value = len(elements) // 2\n",
    "first_half = []\n",
    "second_half = []\n",
    "for i in range(0,mid_value):\n",
    "    value = elements[i][0]\n",
    "    first_half.append(value)\n",
    "for i in range(mid_value,len(elements)):\n",
    "    value = elements[i][len(elements[i]) - 1]\n",
    "    second_half.append(value)\n",
    "value1 = \"\".join([num for num in first_half])\n",
    "value2 = \"\".join([num for num in second_half])\n",
    "final_value = value1 + value2\n",
    "final_value = int(final_value)\n",
    "if final_value % 11 == 0:\n",
    "    print(\"OUI\")\n",
    "else:\n",
    "    print(\"NON\")"
   ]
  },
  {
   "cell_type": "code",
   "execution_count": null,
   "metadata": {},
   "outputs": [],
   "source": [
    "test_cases=int(input(\"Enter test cases : \"))\n",
    "while test_cases>0:\n",
    "    length=int(input(\"Enter length of string : \"))\n",
    "    input_string=input(\"Enter string : \")\n",
    "    for i in input_string:\n",
    "        if i"
   ]
  },
  {
   "cell_type": "code",
   "execution_count": null,
   "metadata": {},
   "outputs": [],
   "source": [
    "if num > 1: \n",
    "      \n",
    "   # Iterate from 2 to n / 2  \n",
    "   for i in range(2, num//2): \n",
    "         \n",
    "       # If num is divisible by any number between  \n",
    "       # 2 and n / 2, it is not prime  \n",
    "       if (num % i) == 0: \n",
    "           print(num, \"is not a prime number\") \n",
    "           break\n",
    "   else: \n",
    "       print(num, \"is a prime number\") \n",
    "  \n",
    "else: \n",
    "   print(num, \"is not a prime number\") "
   ]
  },
  {
   "cell_type": "code",
   "execution_count": 34,
   "metadata": {},
   "outputs": [
    {
     "name": "stdout",
     "output_type": "stream",
     "text": [
      "Enter string length : 6\n",
      "Enter the string : khackerearth\n",
      "{'k': 2, 'h': 2, 'a': 2, 'c': 1, 'e': 2, 'r': 2, 't': 1}\n"
     ]
    }
   ],
   "source": [
    "string_len=int(input(\"Enter string length : \"))\n",
    "string=input(\"Enter the string : \")\n",
    "final_list={}\n",
    "for i in string:\n",
    "    if i in final_list.keys():\n",
    "        final_list[i]=final_list[i]+1\n",
    "    else:\n",
    "        final_list[i]=1\n",
    "print(final_list)"
   ]
  },
  {
   "cell_type": "code",
   "execution_count": null,
   "metadata": {},
   "outputs": [],
   "source": [
    "[\"h\",\"a\",\"c\",\"k\",\"e\",\"r\",\"t\"] ckrrt"
   ]
  },
  {
   "cell_type": "code",
   "execution_count": null,
   "metadata": {},
   "outputs": [],
   "source": [
    "def duplicate_counter(str):\n",
    "    filtered_str=\"\".join([ch for ch in str if ch.isalnum()])##<---comprehension method\n",
    "    lookup={}\n",
    "    for c in filtered_str:\n",
    "        if c in lookup.keys():\n",
    "            lookup[c]=lookup[c]+1\n",
    "        else:\n",
    "            lookup[c]=1\n",
    "    return [(x,lookup[x]) for x in lookup.keys()]\n",
    "duplicate_counter(\"abc23$%\")"
   ]
  },
  {
   "cell_type": "code",
   "execution_count": null,
   "metadata": {},
   "outputs": [],
   "source": []
  },
  {
   "cell_type": "code",
   "execution_count": null,
   "metadata": {},
   "outputs": [],
   "source": []
  },
  {
   "cell_type": "code",
   "execution_count": null,
   "metadata": {},
   "outputs": [],
   "source": []
  }
 ],
 "metadata": {
  "kernelspec": {
   "display_name": "Python 3",
   "language": "python",
   "name": "python3"
  },
  "language_info": {
   "codemirror_mode": {
    "name": "ipython",
    "version": 3
   },
   "file_extension": ".py",
   "mimetype": "text/x-python",
   "name": "python",
   "nbconvert_exporter": "python",
   "pygments_lexer": "ipython3",
   "version": "3.7.4"
  }
 },
 "nbformat": 4,
 "nbformat_minor": 2
}
