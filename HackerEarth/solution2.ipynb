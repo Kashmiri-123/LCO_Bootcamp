{
 "cells": [
  {
   "cell_type": "code",
   "execution_count": 20,
   "metadata": {},
   "outputs": [
    {
     "name": "stdout",
     "output_type": "stream",
     "text": [
      "Enter : 6\n",
      "15478 8452 8232 874 985 4512\n",
      "Yes\n"
     ]
    }
   ],
   "source": [
    "total_input=int(input(\"Enter : \"))\n",
    "mid=int(total_input/2)\n",
    "list=input().split()\n",
    "carrier=\"\"\n",
    "for j in list:\n",
    "    if j==list[mid]:\n",
    "        break\n",
    "    else:\n",
    "        length=len(j)\n",
    "        if length>1:\n",
    "            ten=10**(length-1)\n",
    "            j=int(j)/ten\n",
    "            j=int(j)\n",
    "            carrier=carrier+str(j)\n",
    "        else:\n",
    "            carrier=carrier+str(j)\n",
    "for i,v in enumerate(list[mid:]):\n",
    "    length=len(v)\n",
    "    if length>1:\n",
    "        v=int(v)%10\n",
    "        carrier=carrier+str(v)\n",
    "    else:\n",
    "        carrier=carrier+str(v)\n",
    "\n",
    "if int(carrier)%11==0:\n",
    "    print(\"Yes\")\n",
    "else:\n",
    "    print(\"No\")"
   ]
  },
  {
   "cell_type": "code",
   "execution_count": 21,
   "metadata": {},
   "outputs": [
    {
     "name": "stdout",
     "output_type": "stream",
     "text": [
      "6\n",
      "15478 8452 8232 874 985 4512\n",
      "P-> 1\n",
      "P-> 8\n",
      "P-> 8\n",
      "OUI\n"
     ]
    }
   ],
   "source": [
    "num_of_input = int(input())\n",
    "elements = input().split()\n",
    "mid_value = len(elements) // 2\n",
    "first_half = []\n",
    "second_half = []\n",
    "for i in range(0,mid_value):\n",
    "    value = elements[i][0]\n",
    "    first_half.append(value)\n",
    "for i in range(mid_value,len(elements)):\n",
    "    value = elements[i][len(elements[i]) - 1]\n",
    "    second_half.append(value)\n",
    "value1 = \"\".join([num for num in first_half])\n",
    "value2 = \"\".join([num for num in second_half])\n",
    "final_value = value1 + value2\n",
    "final_value = int(final_value)\n",
    "if final_value % 11 == 0:\n",
    "    print(\"OUI\")\n",
    "else:\n",
    "    print(\"NON\")"
   ]
  }
 ],
 "metadata": {
  "kernelspec": {
   "display_name": "Python 3",
   "language": "python",
   "name": "python3"
  },
  "language_info": {
   "codemirror_mode": {
    "name": "ipython",
    "version": 3
   },
   "file_extension": ".py",
   "mimetype": "text/x-python",
   "name": "python",
   "nbconvert_exporter": "python",
   "pygments_lexer": "ipython3",
   "version": "3.7.4"
  }
 },
 "nbformat": 4,
 "nbformat_minor": 2
}
