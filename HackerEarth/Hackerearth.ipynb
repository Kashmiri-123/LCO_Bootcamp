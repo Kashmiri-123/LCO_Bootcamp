{
 "cells": [
  {
   "cell_type": "code",
   "execution_count": null,
   "metadata": {},
   "outputs": [],
   "source": [
    "###Hackerearth"
   ]
  },
  {
   "cell_type": "code",
   "execution_count": 4,
   "metadata": {},
   "outputs": [
    {
     "name": "stdout",
     "output_type": "stream",
     "text": [
      "enter string: zzoooo\n",
      "Yes\n"
     ]
    }
   ],
   "source": [
    "input_string=input(\"enter string: \")\n",
    "z_counter=0\n",
    "o_counter=0\n",
    "for i in input_string:\n",
    "    if i==\"z\":\n",
    "        z_counter+=1\n",
    "    elif i==\"o\":\n",
    "        o_counter+=1\n",
    "if z_counter*2==o_counter:\n",
    "    print(\"Yes\")\n",
    "else:\n",
    "    print(\"No\")"
   ]
  },
  {
   "cell_type": "code",
   "execution_count": 1,
   "metadata": {},
   "outputs": [
    {
     "name": "stdout",
     "output_type": "stream",
     "text": [
      "Enter 1\n",
      "gsadasfdashdasdkjgadhjdyjhasfdasgd\n",
      "ajdfaghfsdasgdfagsdhgasdfasfdahd\n",
      "66\n",
      "c:  64\n",
      "2\n"
     ]
    }
   ],
   "source": [
    "test=int(input(\"Enter \"))\n",
    "while test!=0:\n",
    "    first_string=input(\"\")\n",
    "    second_string=input(\"\")\n",
    "    count=0\n",
    "    for i in first_string:\n",
    "        for j in second_string:\n",
    "            if i==j:\n",
    "                count+=1\n",
    "                break\n",
    "    print(len(first_string+second_string))\n",
    "    print(\"c: \",count*2)\n",
    "    count=len(first_string+second_string)-(count*2)\n",
    "    print(abs(count))\n",
    "    test-=1"
   ]
  },
  {
   "cell_type": "code",
   "execution_count": 15,
   "metadata": {},
   "outputs": [
    {
     "data": {
      "text/plain": [
       "6"
      ]
     },
     "execution_count": 15,
     "metadata": {},
     "output_type": "execute_result"
    }
   ],
   "source": [
    "gsadasfdashdasdkjgadhjdyjhasfdasgd\n",
    "ajdfaghfsdasgdfagsdhgasdfasfdahd"
   ]
  },
  {
   "cell_type": "code",
   "execution_count": null,
   "metadata": {},
   "outputs": [],
   "source": [
    "kjyjsd\n",
    "gfff"
   ]
  },
  {
   "cell_type": "code",
   "execution_count": null,
   "metadata": {},
   "outputs": [],
   "source": [
    "inputString=input(\"\")\n",
    "x=[]\n",
    "list = ['A','T','G','C','U']\n",
    "for v in inputString:\n",
    "    if v in list1:\n",
    "        if v==\"G\":\n",
    "            x.append(\"C\")\n",
    "        elif v==\"C\":\n",
    "            x.append(\"G\")\n",
    "        elif v==\"T\":\n",
    "            x.append(\"A\")\n",
    "        elif v==\"A\":\n",
    "            x.append(\"U\")\n",
    "        else:\n",
    "            print(\"Invalid Input\")\n",
    "            x.clear()\n",
    "            break\n",
    "    else:\n",
    "        print(\"Invalid Input\")\n",
    "        x.clear()\n",
    "        break\n",
    "if x:\n",
    "    for i in x:\n",
    "        print(i,end=\"\")"
   ]
  },
  {
   "cell_type": "code",
   "execution_count": 13,
   "metadata": {},
   "outputs": [
    {
     "name": "stdout",
     "output_type": "stream",
     "text": [
      "Enter : kanak\n",
      "Yes\n"
     ]
    }
   ],
   "source": [
    "input_string=input(\"Enter : \")\n",
    "new_string=reversed(input_string)\n",
    "if list(input_string)==list(new_string):\n",
    "    print(\"Yes\")\n",
    "else:\n",
    "    print(\"No\")\n",
    "\n",
    "    "
   ]
  },
  {
   "cell_type": "code",
   "execution_count": 8,
   "metadata": {},
   "outputs": [
    {
     "name": "stdout",
     "output_type": "stream",
     "text": [
      "Enter the size of the array : 5\n",
      "Enter : 1 2 3 4 5\n",
      "120\n"
     ]
    }
   ],
   "source": [
    "size=int(input(\"Enter the size of the array : \"))\n",
    "input_element=input(\"Enter : \")\n",
    "input_element=input_element.split()\n",
    "multiplier=1\n",
    "for i in input_element:\n",
    "    multiplier=(multiplier*int(i))%((10**9)+7)\n",
    "print(multiplier)\n",
    "    "
   ]
  },
  {
   "cell_type": "code",
   "execution_count": 5,
   "metadata": {},
   "outputs": [
    {
     "name": "stdout",
     "output_type": "stream",
     "text": [
      "Enter the number6\n"
     ]
    },
    {
     "data": {
      "text/plain": [
       "720"
      ]
     },
     "execution_count": 5,
     "metadata": {},
     "output_type": "execute_result"
    }
   ],
   "source": [
    "def fact(num):\n",
    "    if num ==1:\n",
    "        return num\n",
    "    else:\n",
    "        return num * fact(num-1)\n",
    "number = int(input(\"Enter the number\"))\n",
    "fact(number)"
   ]
  },
  {
   "cell_type": "code",
   "execution_count": 2,
   "metadata": {},
   "outputs": [
    {
     "name": "stdout",
     "output_type": "stream",
     "text": [
      "v\n"
     ]
    }
   ],
   "source": [
    "print(\"v\")"
   ]
  },
  {
   "cell_type": "code",
   "execution_count": null,
   "metadata": {},
   "outputs": [],
   "source": [
    "fact(5)"
   ]
  },
  {
   "cell_type": "code",
   "execution_count": 2,
   "metadata": {},
   "outputs": [
    {
     "name": "stdout",
     "output_type": "stream",
     "text": [
      "180\n",
      "3\n",
      "640 480\n",
      "CROP IT\n",
      "120 300\n",
      "UPLOAD ANOTHER\n",
      "180 180\n",
      "ACCEPTED\n"
     ]
    }
   ],
   "source": [
    "size_of_photos = int(input())\n",
    "num_of_photos = int(input())\n",
    "while num_of_photos > 0:\n",
    "    width,height = input().split()\n",
    "    if int(height) < size_of_photos or int(width) < size_of_photos:\n",
    "        print(\"UPLOAD ANOTHER\")\n",
    "    elif int(height) >=size_of_photos and int(width) >=size_of_photos:\n",
    "        if height == width:\n",
    "            print(\"ACCEPTED\")\n",
    "        else:\n",
    "            print(\"CROP IT\")\n",
    "    num_of_photos-=1  \n"
   ]
  },
  {
   "cell_type": "code",
   "execution_count": 1,
   "metadata": {},
   "outputs": [
    {
     "name": "stdout",
     "output_type": "stream",
     "text": [
      "1\n",
      "5 10\n",
      "10\n",
      "1 0\n",
      "1 0\n",
      "0 0\n",
      "1 0\n",
      "0 1\n",
      "1 0\n",
      "0 1\n",
      "1 1\n",
      "1 1\n",
      "1 1\n",
      "85\n"
     ]
    }
   ],
   "source": [
    "test_cases=int(input(\"\"))\n",
    "while test_cases>0:\n",
    "    green_balloon, purple_balloon=input(\"\").split()\n",
    "    num_student=int(input(\"\"))\n",
    "    f_sum=0\n",
    "    s_sum=0\n",
    "    while num_student>0:\n",
    "        answer=0\n",
    "        f,s=input(\"\").split()\n",
    "        f_sum=f_sum+int(f)\n",
    "        s_sum=s_sum+int(s)\n",
    "        num_student-=1\n",
    "    test_cases-=1\n",
    "    if int(green_balloon)>int(purple_balloon):\n",
    "        if f_sum<s_sum:\n",
    "            green=int(f_sum*int(green_balloon))\n",
    "            purple=int(s_sum*int(purple_balloon))\n",
    "            answer=green+purple\n",
    "            print(int(answer))\n",
    "        else:\n",
    "            green=int(s_sum*int(green_balloon))\n",
    "            purple=int(f_sum*int(purple_balloon))\n",
    "            answer=green+purple\n",
    "            print(int(answer))\n",
    "    elif int(green_balloon)==int(purple_balloon):\n",
    "        if f_sum<s_sum:\n",
    "            green=int(f_sum*int(green_balloon))\n",
    "            purple=int(s_sum*int(purple_balloon))\n",
    "            answer=green+purple\n",
    "            print(int(answer))\n",
    "        else:\n",
    "            green=int(s_sum*int(green_balloon))\n",
    "            purple=int(f_sum*int(purple_balloon))\n",
    "            answer=green+purple\n",
    "            print(int(answer)) \n",
    "    elif int(green_balloon)<int(purple_balloon):\n",
    "        if f_sum<s_sum:\n",
    "            green=int(s_sum*int(green_balloon))\n",
    "            purple=int(f_sum*int(purple_balloon))\n",
    "            answer=green+purple\n",
    "            print(int(answer))\n",
    "        else:\n",
    "            green=int(s_sum*int(purple_balloon))\n",
    "            purple=int(f_sum*int(green_balloon))\n",
    "            answer=green+purple\n",
    "            print(int(answer))\n",
    "        "
   ]
  },
  {
   "cell_type": "code",
   "execution_count": null,
   "metadata": {},
   "outputs": [],
   "source": [
    "5<10\n",
    "7>5\n"
   ]
  }
 ],
 "metadata": {
  "kernelspec": {
   "display_name": "Python 3",
   "language": "python",
   "name": "python3"
  },
  "language_info": {
   "codemirror_mode": {
    "name": "ipython",
    "version": 3
   },
   "file_extension": ".py",
   "mimetype": "text/x-python",
   "name": "python",
   "nbconvert_exporter": "python",
   "pygments_lexer": "ipython3",
   "version": "3.7.4"
  }
 },
 "nbformat": 4,
 "nbformat_minor": 2
}
