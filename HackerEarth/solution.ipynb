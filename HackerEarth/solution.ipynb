{
 "cells": [
  {
   "cell_type": "code",
   "execution_count": 10,
   "metadata": {},
   "outputs": [
    {
     "name": "stdout",
     "output_type": "stream",
     "text": [
      "Enter : 1 10 1\n",
      "Total numbers that are divisible by  1  is  10\n"
     ]
    }
   ],
   "source": [
    "first_input,last_input,div_num=input(\"Enter : \").split()\n",
    "count=0\n",
    "first_input=int(first_input)\n",
    "last_input=int(last_input)\n",
    "div_num=int(div_num)\n",
    "while first_input<last_input+1:\n",
    "    if first_input%div_num==0:\n",
    "        count+=1\n",
    "    else:\n",
    "        pass\n",
    "    first_input+=1\n",
    "print(\"Total numbers that are divisible by \",div_num,\" is \",count)\n",
    "    "
   ]
  },
  {
   "cell_type": "code",
   "execution_count": 12,
   "metadata": {},
   "outputs": [
    {
     "name": "stdout",
     "output_type": "stream",
     "text": [
      "Enter your string : Ytr\n",
      "yTR\n"
     ]
    }
   ],
   "source": [
    "input_string=input(\"Enter your string : \")\n",
    "print(input_string.swapcase())"
   ]
  },
  {
   "cell_type": "code",
   "execution_count": 17,
   "metadata": {},
   "outputs": [
    {
     "name": "stdout",
     "output_type": "stream",
     "text": [
      "Enter the number of bricks : 2\n",
      "Patlu  1\n",
      "Motu  -1\n",
      "Motu\n"
     ]
    }
   ],
   "source": [
    "num_of_bricks=int(input(\"Enter the number of bricks : \"))\n",
    "num_of_brick=num_of_bricks\n",
    "i=1\n",
    "Patlu=0\n",
    "Motu=0\n",
    "while num_of_brick>0:\n",
    "    Patlu=num_of_bricks-i\n",
    "    num_of_bricks=Patlu\n",
    "    print(\"Patlu \",num_of_bricks)\n",
    "    Motu=num_of_bricks-2*i\n",
    "    num_of_bricks=Motu\n",
    "    print(\"Motu \",num_of_bricks)\n",
    "    i+=1\n",
    "    if Motu=0 or Motu=-1:\n",
    "        print(\"Motu\")\n",
    "        break\n",
    "    elif Patlu>=0 or Patlu>=-1:\n",
    "        print(\"Patlu\")\n",
    "        break\n",
    "    num_of_brick-=1"
   ]
  },
  {
   "cell_type": "code",
   "execution_count": 9,
   "metadata": {},
   "outputs": [
    {
     "name": "stdout",
     "output_type": "stream",
     "text": [
      "Enter the number of bricks : 13\n",
      "1 3\n",
      "5 9\n",
      "12 18\n",
      "Motu\n"
     ]
    }
   ],
   "source": [
    "num_of_bricks=int(input(\"Enter the number of bricks : \"))\n",
    "i=1\n",
    "Patlu=0\n",
    "Motu=0\n",
    "answer=0\n",
    "for i in range(1,num_of_bricks+1):\n",
    "    Patlu=i\n",
    "    answer=answer+Patlu\n",
    "    Patlu=answer\n",
    "    Motu=2*i\n",
    "    answer=answer+Motu\n",
    "    Motu=answer\n",
    "    print(Patlu,Motu)\n",
    "    if Patlu>=num_of_bricks:\n",
    "        print(\"Patlu\")\n",
    "        break\n",
    "    elif Motu>=num_of_bricks:\n",
    "        print(\"Motu\")\n",
    "        break"
   ]
  },
  {
   "cell_type": "code",
   "execution_count": 1,
   "metadata": {},
   "outputs": [
    {
     "name": "stdout",
     "output_type": "stream",
     "text": [
      "Enter number of test case : 2\n",
      "ahim mhia\n",
      "YES\n",
      "dgtr dgrtr\n",
      "NO\n"
     ]
    }
   ],
   "source": [
    "test_case_num=int(input(\"Enter number of test case : \"))\n",
    "while test_case_num>0:\n",
    "    f_string,s_string=input().split()\n",
    "    count=0\n",
    "    length=len(f_string)\n",
    "    for i in f_string:\n",
    "        for j in s_string:\n",
    "            if i==j:\n",
    "                count+=1\n",
    "            else:\n",
    "                print(\"NO\")\n",
    "                break\n",
    "    if length==count:\n",
    "        print(\"YES\")\n",
    "    else:\n",
    "        print(\"NO\")\n",
    "    test_case_num-=1"
   ]
  },
  {
   "cell_type": "code",
   "execution_count": null,
   "metadata": {},
   "outputs": [
    {
     "name": "stdout",
     "output_type": "stream",
     "text": [
      "Enter number of test case : 5\n",
      "aaa aaa\n",
      "YES\n"
     ]
    }
   ],
   "source": [
    "from itertools import permutations\n",
    "test_case_num=int(input(\"Enter number of test case : \"))\n",
    "while test_case_num>0:\n",
    "    f_string,s_string=input().split()\n",
    "    l1=len(f_string)\n",
    "    l2=len(s_string)\n",
    "    f_string=permutations(f_string)\n",
    "    s_string=permutations(s_string)\n",
    "    if l1!=l2:\n",
    "        print(\"NO\")\n",
    "    else:\n",
    "        if list(f_string)==list(s_string):\n",
    "            print(\"YES\")\n",
    "        else:\n",
    "            print(\"NO\")\n",
    "    test_case_num-=1"
   ]
  },
  {
   "cell_type": "code",
   "execution_count": null,
   "metadata": {},
   "outputs": [],
   "source": [
    "asdasd asddad"
   ]
  },
  {
   "cell_type": "code",
   "execution_count": 2,
   "metadata": {},
   "outputs": [
    {
     "name": "stdout",
     "output_type": "stream",
     "text": [
      "('i', 'k', 'h')\n",
      "('i', 'h', 'k')\n",
      "('k', 'i', 'h')\n",
      "('k', 'h', 'i')\n",
      "('h', 'i', 'k')\n",
      "('h', 'k', 'i')\n"
     ]
    }
   ],
   "source": [
    "from itertools import permutations\n",
    "c=permutations(\"ikh\")\n",
    "for i in list(c):\n",
    "    print(i)"
   ]
  },
  {
   "cell_type": "code",
   "execution_count": null,
   "metadata": {},
   "outputs": [
    {
     "name": "stdout",
     "output_type": "stream",
     "text": [
      "5\n",
      "aaa aaa\n",
      "3\n",
      "9\n",
      "NO\n"
     ]
    }
   ],
   "source": [
    "test_case_num=int(input(\"\"))\n",
    "while test_case_num>0:\n",
    "    f_string,s_string=input().split()\n",
    "    count=0\n",
    "    length=len(f_string)\n",
    "    print(length)\n",
    "    for i in f_string:\n",
    "        for j in s_string:\n",
    "            if i==j:\n",
    "                count+=1\n",
    "    print(count)\n",
    "    if length==count:\n",
    "        print(\"YES\")\n",
    "    else:\n",
    "        print(\"NO\")\n",
    "    test_case_num-=1"
   ]
  },
  {
   "cell_type": "code",
   "execution_count": 4,
   "metadata": {},
   "outputs": [
    {
     "name": "stdout",
     "output_type": "stream",
     "text": [
      "Enter total numbers to be entered : 4\n",
      "78 88 76 55\n",
      "78\n",
      "88\n",
      "76\n",
      "55\n"
     ]
    }
   ],
   "source": [
    "total_num=int(input(\"Enter total numbers to be entered : \"))\n",
    "list=input().split()\n",
    "for i in list:\n",
    "    print(i,end=\"\")"
   ]
  },
  {
   "cell_type": "code",
   "execution_count": 5,
   "metadata": {},
   "outputs": [
    {
     "name": "stdout",
     "output_type": "stream",
     "text": [
      "Enter number : 3\n",
      "3\n",
      "6\n",
      "9\n",
      "12\n",
      "15\n",
      "18\n",
      "21\n",
      "24\n",
      "27\n",
      "30\n"
     ]
    }
   ],
   "source": [
    "num=int(input(\"Enter number : \"))\n",
    "mul=1\n",
    "for i in range(1,11):\n",
    "    mul=i*num\n",
    "    print(mul)"
   ]
  },
  {
   "cell_type": "code",
   "execution_count": 8,
   "metadata": {},
   "outputs": [
    {
     "name": "stdout",
     "output_type": "stream",
     "text": [
      "Enter length of book : 20\n",
      "Enter pages in book : 768\n",
      "Take Medicine\n"
     ]
    }
   ],
   "source": [
    "len_book=int(input(\"Enter length of book : \"))\n",
    "num_pages=int(input(\"Enter pages in book : \"))\n",
    "if len_book<=23 and num_pages>500 or num_pages<1000:\n",
    "    print(\"Take Medicine\")\n",
    "else :\n",
    "    print(\"Don't take Medicine\")"
   ]
  },
  {
   "cell_type": "code",
   "execution_count": null,
   "metadata": {},
   "outputs": [],
   "source": [
    "list=input(\"Enter : \")\n",
    "unwanted=[\"A\",\"E\",\"I\",\"O\",\"U\",\"Y\"]\n",
    "for i,v in enumerate(list):\n",
    "    first=int(list[0])+int(list[1])\n",
    "    third=int(list[3])+int(list[4])\n",
    "    forth=int(list[4])+int(list[5])\n",
    "    six=int(list[7])+int(list[8])\n",
    "    print(second)\n",
    "if first%2==0 and third%2==0 and forth%2==0 and six%2==0:\n",
    "    if list[2] not in unwanted:\n",
    "        print(\"valid\")\n",
    "    else:\n",
    "        print(\"invalid\")\n",
    "else:\n",
    "        print(\"invalid\")"
   ]
  },
  {
   "cell_type": "code",
   "execution_count": 4,
   "metadata": {},
   "outputs": [
    {
     "name": "stdout",
     "output_type": "stream",
     "text": [
      "3659 3152 914\n",
      "3659\n"
     ]
    }
   ],
   "source": [
    "first,sec,third=input().split()\n",
    "first=int(first)\n",
    "sec=int(sec)\n",
    "third=int(third)\n",
    "print(max(first,sec,third))"
   ]
  },
  {
   "cell_type": "code",
   "execution_count": 8,
   "metadata": {},
   "outputs": [
    {
     "name": "stdout",
     "output_type": "stream",
     "text": [
      "5 3\n",
      "1 2 3 4 5\n",
      "2 4\n",
      "3\n",
      "2 5\n",
      "3\n",
      "1 3\n",
      "2\n"
     ]
    }
   ],
   "source": [
    "import math\n",
    "num_of_elements,num_of_queries = input().split()\n",
    "num_of_elements = int(num_of_elements)\n",
    "num_of_queries = int(num_of_queries)\n",
    "elements = input().split()\n",
    "sum=0\n",
    "while num_of_queries > 0:\n",
    "    L,R  = input().split()\n",
    "    L = int(L)\n",
    "    R = int(R)\n",
    "    sum = L + R\n",
    "    sum = sum / 2\n",
    "    sum = math.floor(sum)\n",
    "    print(sum)\n",
    "    num_of_queries -= 1"
   ]
  },
  {
   "cell_type": "code",
   "execution_count": 10,
   "metadata": {},
   "outputs": [
    {
     "data": {
      "text/plain": [
       "False"
      ]
     },
     "execution_count": 10,
     "metadata": {},
     "output_type": "execute_result"
    }
   ],
   "source": [
    "import calendar\n",
    "calendar.isleap(2015)"
   ]
  },
  {
   "cell_type": "code",
   "execution_count": 12,
   "metadata": {},
   "outputs": [
    {
     "data": {
      "text/plain": [
       "'Tue Jan 21 03:47:59 2020'"
      ]
     },
     "execution_count": 12,
     "metadata": {},
     "output_type": "execute_result"
    }
   ],
   "source": [
    "from time import time, ctime\n",
    "t = time()\n",
    "ctime(t)"
   ]
  },
  {
   "cell_type": "code",
   "execution_count": 3,
   "metadata": {},
   "outputs": [
    {
     "name": "stdout",
     "output_type": "stream",
     "text": [
      "Enter : 5 3\n",
      "1 2 3 4 5\n",
      "1 3\n",
      "2\n",
      "2 4\n",
      "3\n",
      "2 5\n",
      "3\n"
     ]
    }
   ],
   "source": [
    "import math\n",
    "num_element,num_query=input(\"Enter : \").split()\n",
    "num_query=int(num_query)\n",
    "list=input().split()\n",
    "for i in range(num_query):\n",
    "    first,last=input().split()\n",
    "    first=int(first)\n",
    "    last=int(last)\n",
    "    answer=(first+last)/2\n",
    "    answer=math.floor(answer)"
   ]
  },
  {
   "cell_type": "code",
   "execution_count": null,
   "metadata": {},
   "outputs": [],
   "source": []
  }
 ],
 "metadata": {
  "kernelspec": {
   "display_name": "Python 3",
   "language": "python",
   "name": "python3"
  },
  "language_info": {
   "codemirror_mode": {
    "name": "ipython",
    "version": 3
   },
   "file_extension": ".py",
   "mimetype": "text/x-python",
   "name": "python",
   "nbconvert_exporter": "python",
   "pygments_lexer": "ipython3",
   "version": "3.7.4"
  }
 },
 "nbformat": 4,
 "nbformat_minor": 2
}
