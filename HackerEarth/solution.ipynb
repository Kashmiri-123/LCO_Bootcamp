{
 "cells": [
  {
   "cell_type": "code",
   "execution_count": 10,
   "metadata": {},
   "outputs": [
    {
     "name": "stdout",
     "output_type": "stream",
     "text": [
      "Enter : 1 10 1\n",
      "Total numbers that are divisible by  1  is  10\n"
     ]
    }
   ],
   "source": [
    "first_input,last_input,div_num=input(\"Enter : \").split()\n",
    "count=0\n",
    "first_input=int(first_input)\n",
    "last_input=int(last_input)\n",
    "div_num=int(div_num)\n",
    "while first_input<last_input+1:\n",
    "    if first_input%div_num==0:\n",
    "        count+=1\n",
    "    else:\n",
    "        pass\n",
    "    first_input+=1\n",
    "print(\"Total numbers that are divisible by \",div_num,\" is \",count)\n",
    "    "
   ]
  },
  {
   "cell_type": "code",
   "execution_count": 12,
   "metadata": {},
   "outputs": [
    {
     "name": "stdout",
     "output_type": "stream",
     "text": [
      "Enter your string : Ytr\n",
      "yTR\n"
     ]
    }
   ],
   "source": [
    "input_string=input(\"Enter your string : \")\n",
    "print(input_string.swapcase())"
   ]
  },
  {
   "cell_type": "code",
   "execution_count": 17,
   "metadata": {},
   "outputs": [
    {
     "name": "stdout",
     "output_type": "stream",
     "text": [
      "Enter the number of bricks : 2\n",
      "Patlu  1\n",
      "Motu  -1\n",
      "Motu\n"
     ]
    }
   ],
   "source": [
    "num_of_bricks=int(input(\"Enter the number of bricks : \"))\n",
    "num_of_brick=num_of_bricks\n",
    "i=1\n",
    "Patlu=0\n",
    "Motu=0\n",
    "while num_of_brick>0:\n",
    "    Patlu=num_of_bricks-i\n",
    "    num_of_bricks=Patlu\n",
    "    print(\"Patlu \",num_of_bricks)\n",
    "    Motu=num_of_bricks-2*i\n",
    "    num_of_bricks=Motu\n",
    "    print(\"Motu \",num_of_bricks)\n",
    "    i+=1\n",
    "    if Motu=0 or Motu=-1:\n",
    "        print(\"Motu\")\n",
    "        break\n",
    "    elif Patlu>=0 or Patlu>=-1:\n",
    "        print(\"Patlu\")\n",
    "        break\n",
    "    num_of_brick-=1"
   ]
  },
  {
   "cell_type": "code",
   "execution_count": 9,
   "metadata": {},
   "outputs": [
    {
     "name": "stdout",
     "output_type": "stream",
     "text": [
      "Enter the number of bricks : 13\n",
      "1 3\n",
      "5 9\n",
      "12 18\n",
      "Motu\n"
     ]
    }
   ],
   "source": [
    "num_of_bricks=int(input(\"Enter the number of bricks : \"))\n",
    "i=1\n",
    "Patlu=0\n",
    "Motu=0\n",
    "answer=0\n",
    "for i in range(1,num_of_bricks+1):\n",
    "    Patlu=i\n",
    "    answer=answer+Patlu\n",
    "    Patlu=answer\n",
    "    Motu=2*i\n",
    "    answer=answer+Motu\n",
    "    Motu=answer\n",
    "    print(Patlu,Motu)\n",
    "    if Patlu>=num_of_bricks:\n",
    "        print(\"Patlu\")\n",
    "        break\n",
    "    elif Motu>=num_of_bricks:\n",
    "        print(\"Motu\")\n",
    "        break"
   ]
  },
  {
   "cell_type": "code",
   "execution_count": null,
   "metadata": {},
   "outputs": [],
   "source": [
    "test_case=int(input(\"Enter test cases : \"))\n",
    "A=0\n",
    "B=7\n",
    "steps=0\n",
    "while test_case>0:\n",
    "    floor_number=int(input(\"Enter floor number : \"))\n",
    "    steps=7-floor_number-steps\n",
    "    steps=abs(steps)\n",
    "    if steps<=4:\n",
    "        print(\"A\")\n",
    "        A=steps\n",
    "    else:\n",
    "        print(\"B\")\n",
    "        B=steps\n",
    "    test_case-=1"
   ]
  },
  {
   "cell_type": "code",
   "execution_count": null,
   "metadata": {},
   "outputs": [],
   "source": [
    "7-b\n",
    "6\n",
    "5\n",
    "4\n",
    "3-a\n",
    "2\n",
    "1\n",
    "0\n"
   ]
  },
  {
   "cell_type": "code",
   "execution_count": null,
   "metadata": {},
   "outputs": [],
   "source": []
  },
  {
   "cell_type": "code",
   "execution_count": null,
   "metadata": {},
   "outputs": [],
   "source": []
  },
  {
   "cell_type": "code",
   "execution_count": null,
   "metadata": {},
   "outputs": [],
   "source": []
  },
  {
   "cell_type": "code",
   "execution_count": null,
   "metadata": {},
   "outputs": [],
   "source": []
  },
  {
   "cell_type": "code",
   "execution_count": null,
   "metadata": {},
   "outputs": [],
   "source": []
  },
  {
   "cell_type": "code",
   "execution_count": null,
   "metadata": {},
   "outputs": [],
   "source": []
  },
  {
   "cell_type": "code",
   "execution_count": null,
   "metadata": {},
   "outputs": [],
   "source": []
  }
 ],
 "metadata": {
  "kernelspec": {
   "display_name": "Python 3",
   "language": "python",
   "name": "python3"
  },
  "language_info": {
   "codemirror_mode": {
    "name": "ipython",
    "version": 3
   },
   "file_extension": ".py",
   "mimetype": "text/x-python",
   "name": "python",
   "nbconvert_exporter": "python",
   "pygments_lexer": "ipython3",
   "version": "3.7.4"
  }
 },
 "nbformat": 4,
 "nbformat_minor": 2
}
